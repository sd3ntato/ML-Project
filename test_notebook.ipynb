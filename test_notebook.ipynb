{
  "nbformat": 4,
  "nbformat_minor": 0,
  "metadata": {
    "colab": {
      "name": "test_notebook.ipynb",
      "provenance": [],
      "collapsed_sections": [],
      "toc_visible": true
    },
    "kernelspec": {
      "name": "python3",
      "display_name": "Python 3.8.6 64-bit",
      "metadata": {
        "interpreter": {
          "hash": "31f2aee4e71d21fbe5cf8b01ff0e069b9275f58929596ceb00d14d90e3e16cd6"
        }
      }
    }
  },
  "cells": [
    {
      "cell_type": "code",
      "metadata": {
        "id": "RIXyAESxe2A-"
      },
      "source": [
        "import numpy as np\n",
        "import matplotlib.pyplot as plt\n",
        "from numpy import tanh\n",
        "from IPython.display import clear_output\n"
      ],
      "execution_count": 1,
      "outputs": []
    },
    {
      "cell_type": "code",
      "metadata": {
        "id": "j1HKfk44BZyk"
      },
      "source": [
        "from MLP import *\n",
        "from gridSearch import *"
      ],
      "execution_count": 2,
      "outputs": []
    },
    {
      "cell_type": "code",
      "metadata": {
        "id": "IYn9SuJkqhIG",
        "colab": {
          "base_uri": "https://localhost:8080/"
        },
        "outputId": "a8f7e3c8-7c52-4eca-b7e4-d2c37d67aacf"
      },
      "source": [
        "f_target = lambda x: x**3-x**2\n",
        "\n",
        "tx = np.sort( (2*np.random.rand(300)-1)*2 )\n",
        "ty = np.array( [f_target(x)+(2*np.random.rand()-1) for x in tx ])#.reshape(1,-1)\n",
        "\n",
        "tx = (tx-np.min(tx))/(np.max(tx)-np.min(tx))\n",
        "tx = tx.reshape(-1,1)\n",
        "ty = ty.reshape(-1,1)\n",
        "\n",
        "data = np.hstack((tx,ty))\n",
        "data.shape"
      ],
      "execution_count": 3,
      "outputs": [
        {
          "output_type": "execute_result",
          "data": {
            "text/plain": [
              "(300, 2)"
            ]
          },
          "metadata": {
            "tags": []
          },
          "execution_count": 3
        }
      ]
    },
    {
      "cell_type": "code",
      "metadata": {
        "id": "ZMo0dgWUt1Iy",
        "tags": []
      },
      "source": [
        "n = MLP(  Nh=[2,3], Nu=1, Ny=1, f='tanh', f_out='ide', w_scale=5 )\n",
        "plt.plot(tx,ty,label='target fuction')\n",
        "outs = n.supply_sequence(tx).reshape(-1)\n",
        "\n",
        "\n",
        "plt.plot(tx,outs,label='network outputs')\n",
        "plt.legend()\n",
        "print( MSE(outs,ty))"
      ],
      "execution_count": null,
      "outputs": []
    },
    {
      "cell_type": "code",
      "metadata": {
        "id": "2xINYkImsxlU"
      },
      "source": [
        "e, _ = n.train(tx, ty, 5e-02,\n",
        "  a = 1e-02,\n",
        "  l = 0,\n",
        "  max_epochs = 1000,\n",
        "  tresh = .1,\n",
        "  measure_interval = 10 )\n",
        "clear_output()\n",
        "plt.plot(e)"
      ],
      "execution_count": null,
      "outputs": []
    },
    {
      "cell_type": "code",
      "metadata": {
        "id": "SbPwvWr6tTIB"
      },
      "source": [
        "plt.plot(tx,ty,label='target function')\n",
        "outs = n.supply_sequence(tx)\n",
        "outs = outs.reshape(ty.shape)\n",
        "plt.plot(tx,outs.reshape(-1),label='network outputs')\n",
        "plt.legend()\n",
        "\n",
        "print( MSE(outs,ty))\n",
        "print( n.test_error(tx,ty))"
      ],
      "execution_count": null,
      "outputs": []
    },
    {
      "cell_type": "code",
      "metadata": {
        "tags": [],
        "id": "0JhL-1jU8k1G"
      },
      "source": [
        "params=[\n",
        "        {\n",
        "         'hidden_units': [[10]],\n",
        "         'learning_rate': [5e-02, 1e-02],\n",
        "         'alpha': [5e-01, 9e-01],\n",
        "         'lambda' : [0],\n",
        "         \"weights_range\": [.7],\n",
        "         \"weights_scale\": [2], # numero cifre decimali pesi\n",
        "         \"Nu\":[1],\n",
        "         \"Ny\":[1],\n",
        "         'activation': ['tanh'],\n",
        "         \"f_out\":['ide'],\n",
        "         \"loss\":['squared_error'],\n",
        "         \"error\":['MSE']\n",
        "        }\n",
        "      ]\n",
        "\n",
        "def xy(set):\n",
        "    return set[:,0].reshape(-1,1), set[:,1].reshape(-1,1)\n",
        "\n",
        "k_fold_CV(data, params, k=4, n_init=5, max_epochs=1000, measure_interval=10, tresh=.1,xy=xy)"
      ],
      "execution_count": null,
      "outputs": []
    },
    {
      "cell_type": "markdown",
      "metadata": {
        "id": "boJeS78mBZF6"
      },
      "source": [
        "\n",
        "# Monk test 1"
      ]
    },
    {
      "cell_type": "code",
      "metadata": {
        "id": "VOvPimqR3yoQ"
      },
      "source": [
        "import pandas as pd\n",
        "\n",
        "data = pd.read_csv('monks-1.train',sep=' ',index_col=8)\n",
        "data = data.drop(columns = data.columns[0])\n",
        "data = data.to_numpy()\n",
        "\n",
        "ty = data[:100,0] ; ty = to_categorical(ty).reshape(-1,2,1)\n",
        "tx = data[:100,1:]\n",
        "\n",
        "vy = data[100:,0] ; vy = to_categorical(vy).reshape(-1,2,1)\n",
        "vx = data[100:,1:]"
      ],
      "execution_count": null,
      "outputs": []
    },
    {
      "cell_type": "code",
      "metadata": {
        "id": "9vNnfPzPBZMP"
      },
      "source": [
        "from scipy.special import softmax\n",
        "\n",
        "n = MLP(  Nh=[30,10], Nu=6, Ny=2, f='relu', f_out='softmax', w_scale=5, loss='cross_entropy', error='cross_entropy')\n",
        "outs = n.supply_sequence(tx)\n",
        "print( n.error(outs,ty))"
      ],
      "execution_count": null,
      "outputs": []
    },
    {
      "cell_type": "code",
      "metadata": {
        "id": "zxFdqrCgDuUU"
      },
      "source": [
        "e, v = n.train(tx, ty, 5e-02,\n",
        "  a = 1e-6,\n",
        "  l = 1e-9,\n",
        "  val_x = vx,\n",
        "  val_y = vy,\n",
        "  max_epochs = 1000,\n",
        "  tresh = 1e-03,\n",
        "  measure_interval = 10 )\n",
        "\n",
        "plt.plot(e)\n",
        "plt.plot(v)"
      ],
      "execution_count": null,
      "outputs": []
    },
    {
      "cell_type": "code",
      "metadata": {
        "id": "og_xCSw18k1I"
      },
      "source": [
        "data = read_dataset( filename='./monk_tests/monks-1.train', id_col=8 )\n",
        "\n",
        "params=[\n",
        "        {\n",
        "         'hidden_units': [[10],[25],[50]],\n",
        "         'learning_rate': [1e-01, 1e-02, 1e-03],\n",
        "         'alpha': [1e-01, 1e-02, 1e-03, 0],\n",
        "         'lambda' : [1e-01, 1e-02, 1e-03, 1e-10, 1e-12, 0],\n",
        "         'activation': ['relu', 'tanh'],\n",
        "         \"weights_range\": [0.7],\n",
        "         \"weights_scale\": [2],\n",
        "         \"Nu\":[6],\n",
        "         \"Ny\":[2],\n",
        "         'activation': ['tanh'],\n",
        "         \"f_out\":['ide'],\n",
        "         \"loss\":['squared_error'],\n",
        "         \"error\":['MSE']\n",
        "        }\n",
        "      ]\n",
        "\n",
        "def xy_monk1(set):\n",
        "    x,y = set[:,1:] , set[:,:1]\n",
        "    y = to_categorical(y).reshape(-1,2,1)\n",
        "    return x,y\n",
        "\n",
        "k_fold_CV(data, params, k=2, n_init=2, max_epochs=1000, measure_interval=50, tresh=.1,xy=xy_monk1)"
      ],
      "execution_count": null,
      "outputs": []
    },
    {
      "cell_type": "markdown",
      "metadata": {
        "id": "Vl9i8TmBF6rG"
      },
      "source": [
        "# Monk test 2\n"
      ]
    },
    {
      "cell_type": "code",
      "metadata": {
        "id": "AsjR7UoY5QtR"
      },
      "source": [
        "import pandas as pd\n",
        "data = pd.read_csv('monks-2.train',sep=' ',index_col=8)\n",
        "data = data.drop(columns = data.columns[0])\n",
        "data = data.to_numpy()\n",
        "\n",
        "ty = data[:100,0] ; ty[ty==0] = ty[ty==0]-1\n",
        "tx = data[:100,1:]\n",
        "\n",
        "vy = data[100:,0] ; vy[vy==0] = vy[vy==0]-1\n",
        "vx = data[100:,1:] \n",
        "\n",
        "n = MLP(  Nh=[30,100], Nu=6, Ny=2, f=relu, f_out=softmax, w_scale=.7 ,loss=cross_entropy)\n",
        "outs = n.supply_sequence(tx)\n",
        "print( MSE(outs,ty))\n",
        "\n",
        "e, v = n.train(tx, ty, 5e-02,\n",
        "  a = 1e-6,\n",
        "  l = 1e-12,\n",
        "  val_x = vx,\n",
        "  val_y = vy,\n",
        "  max_epochs = 1000,\n",
        "  tresh = 1e-03,\n",
        "  epoch_f = n.epoch_batch_BP,\n",
        "  measure_interval = 10 )\n",
        "\n",
        "plt.plot(e)\n",
        "plt.plot(v)"
      ],
      "execution_count": null,
      "outputs": []
    },
    {
      "cell_type": "markdown",
      "metadata": {
        "id": "-NU7JmZAdj4I"
      },
      "source": [
        "# cup"
      ]
    },
    {
      "cell_type": "code",
      "metadata": {
        "id": "i9QCwPUTGsKB",
        "colab": {
          "base_uri": "https://localhost:8080/"
        },
        "outputId": "c82e2d5b-98c0-473d-de9d-7706a80d69d5"
      },
      "source": [
        "data = pd.read_csv('ML-CUP20-TR.csv',sep=',',index_col=0)\n",
        "data = data.to_numpy()\n",
        "\n",
        "tx = data[:,:-2]\n",
        "ty = data[:,-2:]\n",
        "\n",
        "def xy_monk1(data):\n",
        "    x = data[:,:-2]\n",
        "    y = data[:,-2:]\n",
        "    return x,y\n",
        "\n",
        "tx.shape, ty.shape"
      ],
      "execution_count": 4,
      "outputs": [
        {
          "output_type": "execute_result",
          "data": {
            "text/plain": [
              "((1523, 10), (1523, 2))"
            ]
          },
          "metadata": {
            "tags": []
          },
          "execution_count": 4
        }
      ]
    },
    {
      "cell_type": "code",
      "metadata": {
        "colab": {
          "base_uri": "https://localhost:8080/",
          "height": 282
        },
        "id": "DXurjI40dj4J",
        "outputId": "285bbc51-3ccc-42fc-de81-fbeddf17c92e"
      },
      "source": [
        "n = MLP(  Nh=[50,30], Nu=10, Ny=2, f='tanh', f_out='ide', w_scale=2, w_range=.7)\n",
        "print('init', n.test_error(tx,ty))\n",
        "print( )\n",
        "\n",
        "e, _ = n.train(tx, ty, 1e-03,\n",
        "  a = 9e-01,\n",
        "  l = 1e-12,\n",
        "  max_epochs = 1000,\n",
        "  tresh = .1,\n",
        "  measure_interval = 10 )\n",
        "clear_output()\n",
        "plt.plot(e,label = 'train')\n",
        "print( n.test_error(tx,ty))"
      ],
      "execution_count": 22,
      "outputs": [
        {
          "output_type": "stream",
          "text": [
            "5.720977765179693\n"
          ],
          "name": "stdout"
        },
        {
          "output_type": "display_data",
          "data": {
            "image/png": "[encoded data removed]",
            "text/plain": [
              "<Figure size 432x288 with 1 Axes>"
            ]
          },
          "metadata": {
            "tags": [],
            "needs_background": "light"
          }
        }
      ]
    },
    {
      "cell_type": "code",
      "metadata": {
        "colab": {
          "base_uri": "https://localhost:8080/"
        },
        "id": "q0HgNFahdxDV",
        "outputId": "92b2ca99-3120-46d5-fa55-ccfde409f826"
      },
      "source": [
        "params=[\n",
        "        {\n",
        "         'hidden_units': [[50,30]],\n",
        "         'learning_rate': [5e-02, 1e-02, 1e-03],\n",
        "         'alpha': [5e-01, 9e-01],\n",
        "         'lambda' : [1e-12,1e-5],\n",
        "         \"weights_range\": [.7],\n",
        "         \"weights_scale\": [2], # numero cifre decimali pesi\n",
        "         \"Nu\":[10],\n",
        "         \"Ny\":[2],\n",
        "         'activation': ['tanh'],\n",
        "         \"f_out\":['ide'],\n",
        "         \"loss\":['squared_error'],\n",
        "         \"error\":['MSE']\n",
        "        }\n",
        "      ]\n",
        "\n",
        "def xy(data):\n",
        "    x = data[:,:-2]\n",
        "    y = data[:,-2:]\n",
        "    return x,y\n",
        "\n",
        "\n",
        "k_fold_CV(data, params, k=3, n_init=5, max_epochs=1000, measure_interval=10, tresh=.1,xy=xy)"
      ],
      "execution_count": null,
      "outputs": [
        {
          "output_type": "stream",
          "text": [
            "testing 12 configurations\n",
            "testing configuration {'hidden_units': [50, 30], 'learning_rate': 0.05, 'alpha': 0.5, 'lambda': 1e-12, 'weights_range': 0.7, 'weights_scale': 2, 'Nu': 10, 'Ny': 2, 'activation': 'tanh', 'f_out': 'ide', 'loss': 'squared_error', 'error': 'MSE'}, 0/12\n",
            "initialization 0\n",
            " (1015, 10), (1015, 2), (508, 10), (508, 2) \n",
            "fold 0 done, error 9.554104967196656\n",
            " (1015, 10), (1015, 2), (508, 10), (508, 2) \n",
            "fold 1 done, error 6.045337712221608\n",
            " (1016, 10), (1016, 2), (507, 10), (507, 2) \n",
            "fold 2 done, error 8.704768818216321\n",
            "initialization 1\n",
            " (1015, 10), (1015, 2), (508, 10), (508, 2) \n",
            "fold 0 done, error 10.038277046209744\n",
            " (1015, 10), (1015, 2), (508, 10), (508, 2) \n",
            "fold 1 done, error 8.325260180372398\n",
            " (1016, 10), (1016, 2), (507, 10), (507, 2) \n",
            "fold 2 done, error 9.197797551417663\n",
            "initialization 2\n",
            " (1015, 10), (1015, 2), (508, 10), (508, 2) \n",
            "fold 0 done, error 10.24906073772268\n",
            " (1015, 10), (1015, 2), (508, 10), (508, 2) \n",
            "fold 1 done, error 7.334853032857088\n",
            " (1016, 10), (1016, 2), (507, 10), (507, 2) \n",
            "fold 2 done, error 8.516531893377676\n",
            "initialization 3\n",
            " (1015, 10), (1015, 2), (508, 10), (508, 2) \n",
            "fold 0 done, error 11.320302227269124\n",
            " (1015, 10), (1015, 2), (508, 10), (508, 2) \n",
            "fold 1 done, error 8.662799735449067\n",
            " (1016, 10), (1016, 2), (507, 10), (507, 2) \n",
            "fold 2 done, error 8.434842838407246\n",
            "initialization 4\n",
            " (1015, 10), (1015, 2), (508, 10), (508, 2) \n",
            "fold 0 done, error 10.157237506522154\n",
            " (1015, 10), (1015, 2), (508, 10), (508, 2) \n",
            "fold 1 done, error 7.1434645459019865\n",
            " (1016, 10), (1016, 2), (507, 10), (507, 2) \n",
            "fold 2 done, error 8.810771194080603\n",
            "best config {'hidden_units': [50, 30], 'learning_rate': 0.05, 'alpha': 0.5, 'lambda': 1e-12, 'weights_range': 0.7, 'weights_scale': 2, 'Nu': 10, 'Ny': 2, 'activation': 'tanh', 'f_out': 'ide', 'loss': 'squared_error', 'error': 'MSE'}: 8.101403832544861\n",
            "testing configuration {'hidden_units': [50, 30], 'learning_rate': 0.05, 'alpha': 0.5, 'lambda': 1e-05, 'weights_range': 0.7, 'weights_scale': 2, 'Nu': 10, 'Ny': 2, 'activation': 'tanh', 'f_out': 'ide', 'loss': 'squared_error', 'error': 'MSE'}, 1/12\n",
            "initialization 0\n",
            " (1015, 10), (1015, 2), (508, 10), (508, 2) \n",
            "fold 0 done, error 9.645711980019913\n",
            " (1015, 10), (1015, 2), (508, 10), (508, 2) \n",
            "fold 1 done, error 7.111080907973041\n",
            " (1016, 10), (1016, 2), (507, 10), (507, 2) \n",
            "fold 2 done, error 8.98152571586763\n",
            "initialization 1\n",
            " (1015, 10), (1015, 2), (508, 10), (508, 2) \n",
            "fold 0 done, error 12.49675521201029\n",
            " (1015, 10), (1015, 2), (508, 10), (508, 2) \n",
            "fold 1 done, error 7.950017679309769\n",
            " (1016, 10), (1016, 2), (507, 10), (507, 2) \n",
            "fold 2 done, error 8.398908647472513\n",
            "initialization 2\n",
            " (1015, 10), (1015, 2), (508, 10), (508, 2) \n",
            "fold 0 done, error 17.79420865738697\n",
            " (1015, 10), (1015, 2), (508, 10), (508, 2) \n",
            "fold 1 done, error 9.506684126585156\n",
            " (1016, 10), (1016, 2), (507, 10), (507, 2) \n",
            "fold 2 done, error 10.966315615456972\n",
            "initialization 3\n",
            " (1015, 10), (1015, 2), (508, 10), (508, 2) \n",
            "fold 0 done, error 15.735653875768604\n",
            " (1015, 10), (1015, 2), (508, 10), (508, 2) \n",
            "fold 1 done, error 9.196843587032511\n",
            " (1016, 10), (1016, 2), (507, 10), (507, 2) \n",
            "fold 2 done, error 9.591749253780778\n",
            "initialization 4\n",
            " (1015, 10), (1015, 2), (508, 10), (508, 2) \n",
            "fold 0 done, error 8.562561821944039\n",
            " (1015, 10), (1015, 2), (508, 10), (508, 2) \n",
            "fold 1 done, error 7.121643669796832\n",
            " (1016, 10), (1016, 2), (507, 10), (507, 2) \n",
            "fold 2 done, error 7.417796501823811\n",
            "best config {'hidden_units': [50, 30], 'learning_rate': 0.05, 'alpha': 0.5, 'lambda': 1e-05, 'weights_range': 0.7, 'weights_scale': 2, 'Nu': 10, 'Ny': 2, 'activation': 'tanh', 'f_out': 'ide', 'loss': 'squared_error', 'error': 'MSE'}: 7.700667331188227\n",
            "testing configuration {'hidden_units': [50, 30], 'learning_rate': 0.05, 'alpha': 0.9, 'lambda': 1e-12, 'weights_range': 0.7, 'weights_scale': 2, 'Nu': 10, 'Ny': 2, 'activation': 'tanh', 'f_out': 'ide', 'loss': 'squared_error', 'error': 'MSE'}, 2/12\n",
            "initialization 0\n",
            " (1015, 10), (1015, 2), (508, 10), (508, 2) \n",
            "fold 0 done, error 75.78151769880438\n",
            " (1015, 10), (1015, 2), (508, 10), (508, 2) \n",
            "fold 1 done, error 43.4595132948271\n",
            " (1016, 10), (1016, 2), (507, 10), (507, 2) \n",
            "fold 2 done, error 42.505180369877316\n",
            "initialization 1\n",
            " (1015, 10), (1015, 2), (508, 10), (508, 2) \n",
            "fold 0 done, error 16.060622839573238\n",
            " (1015, 10), (1015, 2), (508, 10), (508, 2) \n",
            "fold 1 done, error 11.941094613954691\n",
            " (1016, 10), (1016, 2), (507, 10), (507, 2) \n",
            "fold 2 done, error 16.687913613358166\n",
            "initialization 2\n",
            " (1015, 10), (1015, 2), (508, 10), (508, 2) \n",
            "fold 0 done, error 27.68060583648726\n",
            " (1015, 10), (1015, 2), (508, 10), (508, 2) \n",
            "fold 1 done, error 26.36802302524565\n",
            " (1016, 10), (1016, 2), (507, 10), (507, 2) \n",
            "fold 2 done, error 23.84373530779025\n",
            "initialization 3\n",
            " (1015, 10), (1015, 2), (508, 10), (508, 2) \n"
          ],
          "name": "stdout"
        }
      ]
    },
    {
      "cell_type": "code",
      "metadata": {
        "id": "NI8uuzLYhuml"
      },
      "source": [
        ""
      ],
      "execution_count": null,
      "outputs": []
    }
  ]
}