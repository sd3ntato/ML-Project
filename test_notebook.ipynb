{
  "nbformat": 4,
  "nbformat_minor": 0,
  "metadata": {
    "colab": {
      "name": "test_notebook.ipynb",
      "provenance": [],
      "collapsed_sections": [],
      "toc_visible": true
    },
    "kernelspec": {
      "name": "python395jvsc74a57bd04d00386660ca0f79f46b84405b75c0d1d535661626bcbf1887288dd3efedda2f",
      "display_name": "Python 3.9.5 64-bit"
    },
    "metadata": {
      "interpreter": {
        "hash": "4d00386660ca0f79f46b84405b75c0d1d535661626bcbf1887288dd3efedda2f"
      }
    }
  },
  "cells": [
    {
      "cell_type": "code",
      "metadata": {
        "id": "RIXyAESxe2A-"
      },
      "source": [
        "import numpy as np\n",
        "import matplotlib.pyplot as plt\n",
        "from numpy import tanh\n",
        "from IPython.display import clear_output\n"
      ],
      "execution_count": 1,
      "outputs": []
    },
    {
      "cell_type": "code",
      "metadata": {
        "id": "j1HKfk44BZyk"
      },
      "source": [
        "from MLP import *\n",
        "from gridSearch import *"
      ],
      "execution_count": 2,
      "outputs": []
    },
    {
      "cell_type": "code",
      "metadata": {
        "id": "IYn9SuJkqhIG",
        "colab": {
          "base_uri": "https://localhost:8080/"
        },
        "outputId": "a8f7e3c8-7c52-4eca-b7e4-d2c37d67aacf"
      },
      "source": [
        "f_target = lambda x: x**3-x**2\n",
        "\n",
        "tx = np.sort( (2*np.random.rand(300)-1)*2 )\n",
        "ty = np.array( [f_target(x)+(2*np.random.rand()-1) for x in tx ])#.reshape(1,-1)\n",
        "\n",
        "tx = (tx-np.min(tx))/(np.max(tx)-np.min(tx))\n",
        "tx = tx.reshape(-1,1)\n",
        "ty = ty.reshape(-1,1)\n",
        "\n",
        "data = np.hstack((tx,ty))\n",
        "data.shape"
      ],
      "execution_count": 3,
      "outputs": [
        {
          "output_type": "execute_result",
          "data": {
            "text/plain": [
              "(300, 2)"
            ]
          },
          "metadata": {},
          "execution_count": 3
        }
      ]
    },
    {
      "cell_type": "code",
      "metadata": {
        "id": "ZMo0dgWUt1Iy",
        "tags": []
      },
      "source": [
        "n = MLP(  Nh=[5], Nu=1, Ny=1, f='tanh', f_out='ide', w_scale=5 )\n",
        "plt.plot(tx,ty,label='target fuction')\n",
        "outs = n.supply_sequence(tx).reshape(-1)\n",
        "\n",
        "\n",
        "plt.plot(tx,outs,label='network outputs')\n",
        "plt.legend()\n",
        "print( MSE(outs,ty))"
      ],
      "execution_count": 19,
      "outputs": [
        {
          "output_type": "stream",
          "name": "stdout",
          "text": [
            "10.39876099762132\n"
          ]
        },
        {
          "output_type": "display_data",
          "data": {
            "text/plain": "<Figure size 432x288 with 1 Axes>",
            "image/svg+xml": "<?xml version=\"1.0\" encoding=\"utf-8\" standalone=\"no\"?>\r\n<!DOCTYPE svg PUBLIC \"-//W3C//DTD SVG 1.1//EN\"\r\n  \"http://www.w3.org/Graphics/SVG/1.1/DTD/svg11.dtd\">\r\n<svg height=\"248.518125pt\" version=\"1.1\" viewBox=\"0 0 386.845313 248.518125\" width=\"386.845313pt\" xmlns=\"http://www.w3.org/2000/svg\" xmlns:xlink=\"http://www.w3.org/1999/xlink\">\r\n <metadata>\r\n  <rdf:RDF xmlns:cc=\"http://creativecommons.org/ns#\" xmlns:dc=\"http://purl.org/dc/elements/1.1/\" xmlns:rdf=\"http://www.w3.org/1999/02/22-rdf-syntax-ns#\">\r\n   <cc:Work>\r\n    <dc:type rdf:resource=\"http://purl.org/dc/dcmitype/StillImage\"/>\r\n    <dc:date>2021-05-14T11:28:51.823294</dc:date>\r\n    <dc:format>image/svg+xml</dc:format>\r\n    <dc:creator>\r\n     <cc:Agent>\r\n      <dc:title>Matplotlib v3.4.1, https://matplotlib.org/</dc:title>\r\n     </cc:Agent>\r\n    </dc:creator>\r\n   </cc:Work>\r\n  </rdf:RDF>\r\n </metadata>\r\n <defs>\r\n  <style type=\"text/css\">*{stroke-linecap:butt;stroke-linejoin:round;}</style>\r\n </defs>\r\n <g id=\"figure_1\">\r\n  <g id=\"patch_1\">\r\n   <path d=\"M 0 248.518125 \r\nL 386.845313 248.518125 \r\nL 386.845313 0 \r\nL 0 0 \r\nz\r\n\" style=\"fill:none;\"/>\r\n  </g>\r\n  <g id=\"axes_1\">\r\n   <g id=\"patch_2\">\r\n    <path d=\"M 44.845313 224.64 \r\nL 379.645313 224.64 \r\nL 379.645313 7.2 \r\nL 44.845313 7.2 \r\nz\r\n\" style=\"fill:#ffffff;\"/>\r\n   </g>\r\n   <g id=\"matplotlib.axis_1\">\r\n    <g id=\"xtick_1\">\r\n     <g id=\"line2d_1\">\r\n      <defs>\r\n       <path d=\"M 0 0 \r\nL 0 3.5 \r\n\" id=\"mcf603a9a19\" style=\"stroke:#000000;stroke-width:0.8;\"/>\r\n      </defs>\r\n      <g>\r\n       <use style=\"stroke:#000000;stroke-width:0.8;\" x=\"60.063494\" xlink:href=\"#mcf603a9a19\" y=\"224.64\"/>\r\n      </g>\r\n     </g>\r\n     <g id=\"text_1\">\r\n      <!-- 0.0 -->\r\n      <g transform=\"translate(52.111932 239.238438)scale(0.1 -0.1)\">\r\n       <defs>\r\n        <path d=\"M 2034 4250 \r\nQ 1547 4250 1301 3770 \r\nQ 1056 3291 1056 2328 \r\nQ 1056 1369 1301 889 \r\nQ 1547 409 2034 409 \r\nQ 2525 409 2770 889 \r\nQ 3016 1369 3016 2328 \r\nQ 3016 3291 2770 3770 \r\nQ 2525 4250 2034 4250 \r\nz\r\nM 2034 4750 \r\nQ 2819 4750 3233 4129 \r\nQ 3647 3509 3647 2328 \r\nQ 3647 1150 3233 529 \r\nQ 2819 -91 2034 -91 \r\nQ 1250 -91 836 529 \r\nQ 422 1150 422 2328 \r\nQ 422 3509 836 4129 \r\nQ 1250 4750 2034 4750 \r\nz\r\n\" id=\"DejaVuSans-30\" transform=\"scale(0.015625)\"/>\r\n        <path d=\"M 684 794 \r\nL 1344 794 \r\nL 1344 0 \r\nL 684 0 \r\nL 684 794 \r\nz\r\n\" id=\"DejaVuSans-2e\" transform=\"scale(0.015625)\"/>\r\n       </defs>\r\n       <use xlink:href=\"#DejaVuSans-30\"/>\r\n       <use x=\"63.623047\" xlink:href=\"#DejaVuSans-2e\"/>\r\n       <use x=\"95.410156\" xlink:href=\"#DejaVuSans-30\"/>\r\n      </g>\r\n     </g>\r\n    </g>\r\n    <g id=\"xtick_2\">\r\n     <g id=\"line2d_2\">\r\n      <g>\r\n       <use style=\"stroke:#000000;stroke-width:0.8;\" x=\"120.936222\" xlink:href=\"#mcf603a9a19\" y=\"224.64\"/>\r\n      </g>\r\n     </g>\r\n     <g id=\"text_2\">\r\n      <!-- 0.2 -->\r\n      <g transform=\"translate(112.984659 239.238438)scale(0.1 -0.1)\">\r\n       <defs>\r\n        <path d=\"M 1228 531 \r\nL 3431 531 \r\nL 3431 0 \r\nL 469 0 \r\nL 469 531 \r\nQ 828 903 1448 1529 \r\nQ 2069 2156 2228 2338 \r\nQ 2531 2678 2651 2914 \r\nQ 2772 3150 2772 3378 \r\nQ 2772 3750 2511 3984 \r\nQ 2250 4219 1831 4219 \r\nQ 1534 4219 1204 4116 \r\nQ 875 4013 500 3803 \r\nL 500 4441 \r\nQ 881 4594 1212 4672 \r\nQ 1544 4750 1819 4750 \r\nQ 2544 4750 2975 4387 \r\nQ 3406 4025 3406 3419 \r\nQ 3406 3131 3298 2873 \r\nQ 3191 2616 2906 2266 \r\nQ 2828 2175 2409 1742 \r\nQ 1991 1309 1228 531 \r\nz\r\n\" id=\"DejaVuSans-32\" transform=\"scale(0.015625)\"/>\r\n       </defs>\r\n       <use xlink:href=\"#DejaVuSans-30\"/>\r\n       <use x=\"63.623047\" xlink:href=\"#DejaVuSans-2e\"/>\r\n       <use x=\"95.410156\" xlink:href=\"#DejaVuSans-32\"/>\r\n      </g>\r\n     </g>\r\n    </g>\r\n    <g id=\"xtick_3\">\r\n     <g id=\"line2d_3\">\r\n      <g>\r\n       <use style=\"stroke:#000000;stroke-width:0.8;\" x=\"181.808949\" xlink:href=\"#mcf603a9a19\" y=\"224.64\"/>\r\n      </g>\r\n     </g>\r\n     <g id=\"text_3\">\r\n      <!-- 0.4 -->\r\n      <g transform=\"translate(173.857386 239.238438)scale(0.1 -0.1)\">\r\n       <defs>\r\n        <path d=\"M 2419 4116 \r\nL 825 1625 \r\nL 2419 1625 \r\nL 2419 4116 \r\nz\r\nM 2253 4666 \r\nL 3047 4666 \r\nL 3047 1625 \r\nL 3713 1625 \r\nL 3713 1100 \r\nL 3047 1100 \r\nL 3047 0 \r\nL 2419 0 \r\nL 2419 1100 \r\nL 313 1100 \r\nL 313 1709 \r\nL 2253 4666 \r\nz\r\n\" id=\"DejaVuSans-34\" transform=\"scale(0.015625)\"/>\r\n       </defs>\r\n       <use xlink:href=\"#DejaVuSans-30\"/>\r\n       <use x=\"63.623047\" xlink:href=\"#DejaVuSans-2e\"/>\r\n       <use x=\"95.410156\" xlink:href=\"#DejaVuSans-34\"/>\r\n      </g>\r\n     </g>\r\n    </g>\r\n    <g id=\"xtick_4\">\r\n     <g id=\"line2d_4\">\r\n      <g>\r\n       <use style=\"stroke:#000000;stroke-width:0.8;\" x=\"242.681676\" xlink:href=\"#mcf603a9a19\" y=\"224.64\"/>\r\n      </g>\r\n     </g>\r\n     <g id=\"text_4\">\r\n      <!-- 0.6 -->\r\n      <g transform=\"translate(234.730114 239.238438)scale(0.1 -0.1)\">\r\n       <defs>\r\n        <path d=\"M 2113 2584 \r\nQ 1688 2584 1439 2293 \r\nQ 1191 2003 1191 1497 \r\nQ 1191 994 1439 701 \r\nQ 1688 409 2113 409 \r\nQ 2538 409 2786 701 \r\nQ 3034 994 3034 1497 \r\nQ 3034 2003 2786 2293 \r\nQ 2538 2584 2113 2584 \r\nz\r\nM 3366 4563 \r\nL 3366 3988 \r\nQ 3128 4100 2886 4159 \r\nQ 2644 4219 2406 4219 \r\nQ 1781 4219 1451 3797 \r\nQ 1122 3375 1075 2522 \r\nQ 1259 2794 1537 2939 \r\nQ 1816 3084 2150 3084 \r\nQ 2853 3084 3261 2657 \r\nQ 3669 2231 3669 1497 \r\nQ 3669 778 3244 343 \r\nQ 2819 -91 2113 -91 \r\nQ 1303 -91 875 529 \r\nQ 447 1150 447 2328 \r\nQ 447 3434 972 4092 \r\nQ 1497 4750 2381 4750 \r\nQ 2619 4750 2861 4703 \r\nQ 3103 4656 3366 4563 \r\nz\r\n\" id=\"DejaVuSans-36\" transform=\"scale(0.015625)\"/>\r\n       </defs>\r\n       <use xlink:href=\"#DejaVuSans-30\"/>\r\n       <use x=\"63.623047\" xlink:href=\"#DejaVuSans-2e\"/>\r\n       <use x=\"95.410156\" xlink:href=\"#DejaVuSans-36\"/>\r\n      </g>\r\n     </g>\r\n    </g>\r\n    <g id=\"xtick_5\">\r\n     <g id=\"line2d_5\">\r\n      <g>\r\n       <use style=\"stroke:#000000;stroke-width:0.8;\" x=\"303.554403\" xlink:href=\"#mcf603a9a19\" y=\"224.64\"/>\r\n      </g>\r\n     </g>\r\n     <g id=\"text_5\">\r\n      <!-- 0.8 -->\r\n      <g transform=\"translate(295.602841 239.238438)scale(0.1 -0.1)\">\r\n       <defs>\r\n        <path d=\"M 2034 2216 \r\nQ 1584 2216 1326 1975 \r\nQ 1069 1734 1069 1313 \r\nQ 1069 891 1326 650 \r\nQ 1584 409 2034 409 \r\nQ 2484 409 2743 651 \r\nQ 3003 894 3003 1313 \r\nQ 3003 1734 2745 1975 \r\nQ 2488 2216 2034 2216 \r\nz\r\nM 1403 2484 \r\nQ 997 2584 770 2862 \r\nQ 544 3141 544 3541 \r\nQ 544 4100 942 4425 \r\nQ 1341 4750 2034 4750 \r\nQ 2731 4750 3128 4425 \r\nQ 3525 4100 3525 3541 \r\nQ 3525 3141 3298 2862 \r\nQ 3072 2584 2669 2484 \r\nQ 3125 2378 3379 2068 \r\nQ 3634 1759 3634 1313 \r\nQ 3634 634 3220 271 \r\nQ 2806 -91 2034 -91 \r\nQ 1263 -91 848 271 \r\nQ 434 634 434 1313 \r\nQ 434 1759 690 2068 \r\nQ 947 2378 1403 2484 \r\nz\r\nM 1172 3481 \r\nQ 1172 3119 1398 2916 \r\nQ 1625 2713 2034 2713 \r\nQ 2441 2713 2670 2916 \r\nQ 2900 3119 2900 3481 \r\nQ 2900 3844 2670 4047 \r\nQ 2441 4250 2034 4250 \r\nQ 1625 4250 1398 4047 \r\nQ 1172 3844 1172 3481 \r\nz\r\n\" id=\"DejaVuSans-38\" transform=\"scale(0.015625)\"/>\r\n       </defs>\r\n       <use xlink:href=\"#DejaVuSans-30\"/>\r\n       <use x=\"63.623047\" xlink:href=\"#DejaVuSans-2e\"/>\r\n       <use x=\"95.410156\" xlink:href=\"#DejaVuSans-38\"/>\r\n      </g>\r\n     </g>\r\n    </g>\r\n    <g id=\"xtick_6\">\r\n     <g id=\"line2d_6\">\r\n      <g>\r\n       <use style=\"stroke:#000000;stroke-width:0.8;\" x=\"364.427131\" xlink:href=\"#mcf603a9a19\" y=\"224.64\"/>\r\n      </g>\r\n     </g>\r\n     <g id=\"text_6\">\r\n      <!-- 1.0 -->\r\n      <g transform=\"translate(356.475568 239.238438)scale(0.1 -0.1)\">\r\n       <defs>\r\n        <path d=\"M 794 531 \r\nL 1825 531 \r\nL 1825 4091 \r\nL 703 3866 \r\nL 703 4441 \r\nL 1819 4666 \r\nL 2450 4666 \r\nL 2450 531 \r\nL 3481 531 \r\nL 3481 0 \r\nL 794 0 \r\nL 794 531 \r\nz\r\n\" id=\"DejaVuSans-31\" transform=\"scale(0.015625)\"/>\r\n       </defs>\r\n       <use xlink:href=\"#DejaVuSans-31\"/>\r\n       <use x=\"63.623047\" xlink:href=\"#DejaVuSans-2e\"/>\r\n       <use x=\"95.410156\" xlink:href=\"#DejaVuSans-30\"/>\r\n      </g>\r\n     </g>\r\n    </g>\r\n   </g>\r\n   <g id=\"matplotlib.axis_2\">\r\n    <g id=\"ytick_1\">\r\n     <g id=\"line2d_7\">\r\n      <defs>\r\n       <path d=\"M 0 0 \r\nL -3.5 0 \r\n\" id=\"m6b343c52f2\" style=\"stroke:#000000;stroke-width:0.8;\"/>\r\n      </defs>\r\n      <g>\r\n       <use style=\"stroke:#000000;stroke-width:0.8;\" x=\"44.845313\" xlink:href=\"#m6b343c52f2\" y=\"212.022074\"/>\r\n      </g>\r\n     </g>\r\n     <g id=\"text_7\">\r\n      <!-- −12.5 -->\r\n      <g transform=\"translate(7.2 215.821292)scale(0.1 -0.1)\">\r\n       <defs>\r\n        <path d=\"M 678 2272 \r\nL 4684 2272 \r\nL 4684 1741 \r\nL 678 1741 \r\nL 678 2272 \r\nz\r\n\" id=\"DejaVuSans-2212\" transform=\"scale(0.015625)\"/>\r\n        <path d=\"M 691 4666 \r\nL 3169 4666 \r\nL 3169 4134 \r\nL 1269 4134 \r\nL 1269 2991 \r\nQ 1406 3038 1543 3061 \r\nQ 1681 3084 1819 3084 \r\nQ 2600 3084 3056 2656 \r\nQ 3513 2228 3513 1497 \r\nQ 3513 744 3044 326 \r\nQ 2575 -91 1722 -91 \r\nQ 1428 -91 1123 -41 \r\nQ 819 9 494 109 \r\nL 494 744 \r\nQ 775 591 1075 516 \r\nQ 1375 441 1709 441 \r\nQ 2250 441 2565 725 \r\nQ 2881 1009 2881 1497 \r\nQ 2881 1984 2565 2268 \r\nQ 2250 2553 1709 2553 \r\nQ 1456 2553 1204 2497 \r\nQ 953 2441 691 2322 \r\nL 691 4666 \r\nz\r\n\" id=\"DejaVuSans-35\" transform=\"scale(0.015625)\"/>\r\n       </defs>\r\n       <use xlink:href=\"#DejaVuSans-2212\"/>\r\n       <use x=\"83.789062\" xlink:href=\"#DejaVuSans-31\"/>\r\n       <use x=\"147.412109\" xlink:href=\"#DejaVuSans-32\"/>\r\n       <use x=\"211.035156\" xlink:href=\"#DejaVuSans-2e\"/>\r\n       <use x=\"242.822266\" xlink:href=\"#DejaVuSans-35\"/>\r\n      </g>\r\n     </g>\r\n    </g>\r\n    <g id=\"ytick_2\">\r\n     <g id=\"line2d_8\">\r\n      <g>\r\n       <use style=\"stroke:#000000;stroke-width:0.8;\" x=\"44.845313\" xlink:href=\"#m6b343c52f2\" y=\"182.54223\"/>\r\n      </g>\r\n     </g>\r\n     <g id=\"text_8\">\r\n      <!-- −10.0 -->\r\n      <g transform=\"translate(7.2 186.341449)scale(0.1 -0.1)\">\r\n       <use xlink:href=\"#DejaVuSans-2212\"/>\r\n       <use x=\"83.789062\" xlink:href=\"#DejaVuSans-31\"/>\r\n       <use x=\"147.412109\" xlink:href=\"#DejaVuSans-30\"/>\r\n       <use x=\"211.035156\" xlink:href=\"#DejaVuSans-2e\"/>\r\n       <use x=\"242.822266\" xlink:href=\"#DejaVuSans-30\"/>\r\n      </g>\r\n     </g>\r\n    </g>\r\n    <g id=\"ytick_3\">\r\n     <g id=\"line2d_9\">\r\n      <g>\r\n       <use style=\"stroke:#000000;stroke-width:0.8;\" x=\"44.845313\" xlink:href=\"#m6b343c52f2\" y=\"153.062387\"/>\r\n      </g>\r\n     </g>\r\n     <g id=\"text_9\">\r\n      <!-- −7.5 -->\r\n      <g transform=\"translate(13.5625 156.861606)scale(0.1 -0.1)\">\r\n       <defs>\r\n        <path d=\"M 525 4666 \r\nL 3525 4666 \r\nL 3525 4397 \r\nL 1831 0 \r\nL 1172 0 \r\nL 2766 4134 \r\nL 525 4134 \r\nL 525 4666 \r\nz\r\n\" id=\"DejaVuSans-37\" transform=\"scale(0.015625)\"/>\r\n       </defs>\r\n       <use xlink:href=\"#DejaVuSans-2212\"/>\r\n       <use x=\"83.789062\" xlink:href=\"#DejaVuSans-37\"/>\r\n       <use x=\"147.412109\" xlink:href=\"#DejaVuSans-2e\"/>\r\n       <use x=\"179.199219\" xlink:href=\"#DejaVuSans-35\"/>\r\n      </g>\r\n     </g>\r\n    </g>\r\n    <g id=\"ytick_4\">\r\n     <g id=\"line2d_10\">\r\n      <g>\r\n       <use style=\"stroke:#000000;stroke-width:0.8;\" x=\"44.845313\" xlink:href=\"#m6b343c52f2\" y=\"123.582544\"/>\r\n      </g>\r\n     </g>\r\n     <g id=\"text_10\">\r\n      <!-- −5.0 -->\r\n      <g transform=\"translate(13.5625 127.381763)scale(0.1 -0.1)\">\r\n       <use xlink:href=\"#DejaVuSans-2212\"/>\r\n       <use x=\"83.789062\" xlink:href=\"#DejaVuSans-35\"/>\r\n       <use x=\"147.412109\" xlink:href=\"#DejaVuSans-2e\"/>\r\n       <use x=\"179.199219\" xlink:href=\"#DejaVuSans-30\"/>\r\n      </g>\r\n     </g>\r\n    </g>\r\n    <g id=\"ytick_5\">\r\n     <g id=\"line2d_11\">\r\n      <g>\r\n       <use style=\"stroke:#000000;stroke-width:0.8;\" x=\"44.845313\" xlink:href=\"#m6b343c52f2\" y=\"94.102701\"/>\r\n      </g>\r\n     </g>\r\n     <g id=\"text_11\">\r\n      <!-- −2.5 -->\r\n      <g transform=\"translate(13.5625 97.901919)scale(0.1 -0.1)\">\r\n       <use xlink:href=\"#DejaVuSans-2212\"/>\r\n       <use x=\"83.789062\" xlink:href=\"#DejaVuSans-32\"/>\r\n       <use x=\"147.412109\" xlink:href=\"#DejaVuSans-2e\"/>\r\n       <use x=\"179.199219\" xlink:href=\"#DejaVuSans-35\"/>\r\n      </g>\r\n     </g>\r\n    </g>\r\n    <g id=\"ytick_6\">\r\n     <g id=\"line2d_12\">\r\n      <g>\r\n       <use style=\"stroke:#000000;stroke-width:0.8;\" x=\"44.845313\" xlink:href=\"#m6b343c52f2\" y=\"64.622857\"/>\r\n      </g>\r\n     </g>\r\n     <g id=\"text_12\">\r\n      <!-- 0.0 -->\r\n      <g transform=\"translate(21.942188 68.422076)scale(0.1 -0.1)\">\r\n       <use xlink:href=\"#DejaVuSans-30\"/>\r\n       <use x=\"63.623047\" xlink:href=\"#DejaVuSans-2e\"/>\r\n       <use x=\"95.410156\" xlink:href=\"#DejaVuSans-30\"/>\r\n      </g>\r\n     </g>\r\n    </g>\r\n    <g id=\"ytick_7\">\r\n     <g id=\"line2d_13\">\r\n      <g>\r\n       <use style=\"stroke:#000000;stroke-width:0.8;\" x=\"44.845313\" xlink:href=\"#m6b343c52f2\" y=\"35.143014\"/>\r\n      </g>\r\n     </g>\r\n     <g id=\"text_13\">\r\n      <!-- 2.5 -->\r\n      <g transform=\"translate(21.942188 38.942233)scale(0.1 -0.1)\">\r\n       <use xlink:href=\"#DejaVuSans-32\"/>\r\n       <use x=\"63.623047\" xlink:href=\"#DejaVuSans-2e\"/>\r\n       <use x=\"95.410156\" xlink:href=\"#DejaVuSans-35\"/>\r\n      </g>\r\n     </g>\r\n    </g>\r\n   </g>\r\n   <g id=\"line2d_14\">\r\n    <path clip-path=\"url(#p2954f92152)\" d=\"M 60.063494 214.756364 \r\nL 61.171909 199.900045 \r\nL 61.526265 190.972705 \r\nL 62.435171 208.679381 \r\nL 62.581007 192.874828 \r\nL 63.153153 200.548527 \r\nL 63.417354 189.10312 \r\nL 64.617966 186.432493 \r\nL 68.19307 174.685566 \r\nL 68.930798 175.183221 \r\nL 69.365746 181.149622 \r\nL 70.808807 172.258768 \r\nL 75.249866 181.423686 \r\nL 80.029601 150.567608 \r\nL 82.882434 165.166045 \r\nL 83.095877 153.623465 \r\nL 84.256133 156.150209 \r\nL 84.592044 144.463028 \r\nL 85.895513 144.974515 \r\nL 89.15443 149.578365 \r\nL 89.559285 155.757089 \r\nL 89.676112 136.148639 \r\nL 90.43867 134.941094 \r\nL 90.704482 143.009186 \r\nL 92.696446 127.124935 \r\nL 93.62993 133.507735 \r\nL 93.669572 133.118937 \r\nL 96.317918 140.676813 \r\nL 97.252901 142.471795 \r\nL 98.889103 127.40411 \r\nL 99.535272 129.917329 \r\nL 100.324109 132.065019 \r\nL 100.667786 115.945446 \r\nL 102.695834 133.447387 \r\nL 103.564251 122.23848 \r\nL 105.055729 121.274981 \r\nL 105.378873 126.422181 \r\nL 105.717413 122.798566 \r\nL 107.135895 122.21425 \r\nL 108.420884 107.676177 \r\nL 109.250526 112.225845 \r\nL 110.4164 124.376353 \r\nL 110.916331 112.373465 \r\nL 112.132512 114.706638 \r\nL 112.978151 110.450537 \r\nL 113.390273 103.300605 \r\nL 113.522615 121.315286 \r\nL 114.448599 103.112825 \r\nL 117.429998 112.089079 \r\nL 118.907523 113.381826 \r\nL 118.923041 115.07328 \r\nL 119.486958 114.126265 \r\nL 119.537884 112.417479 \r\nL 119.819842 113.999159 \r\nL 126.472015 106.025485 \r\nL 126.99951 86.883405 \r\nL 127.106932 86.672094 \r\nL 127.309774 87.229628 \r\nL 128.033868 85.043993 \r\nL 129.760811 84.260492 \r\nL 130.215263 81.515365 \r\nL 131.216301 81.132738 \r\nL 133.438537 85.766709 \r\nL 133.583969 95.371455 \r\nL 136.094997 98.092506 \r\nL 136.937142 94.060968 \r\nL 137.769325 76.927984 \r\nL 139.779188 77.468806 \r\nL 140.16065 93.050571 \r\nL 140.456311 80.022216 \r\nL 140.468355 95.354199 \r\nL 141.125838 74.748064 \r\nL 141.429018 96.04353 \r\nL 142.758845 77.806211 \r\nL 144.150951 89.525374 \r\nL 144.313584 75.4637 \r\nL 144.445242 81.70623 \r\nL 144.753537 79.408408 \r\nL 148.284515 75.972073 \r\nL 148.664233 71.386315 \r\nL 149.27342 71.241184 \r\nL 149.550086 87.21393 \r\nL 150.787282 70.272369 \r\nL 150.930666 85.775624 \r\nL 153.165337 78.628078 \r\nL 153.213018 83.593099 \r\nL 153.393466 74.40053 \r\nL 154.382959 78.73868 \r\nL 155.04044 71.809656 \r\nL 155.719751 74.15324 \r\nL 155.749561 76.933135 \r\nL 156.392417 68.779231 \r\nL 156.771183 78.483331 \r\nL 157.490079 78.441434 \r\nL 162.036335 76.13198 \r\nL 162.56793 77.549265 \r\nL 163.021619 70.886847 \r\nL 163.416675 79.90302 \r\nL 164.898924 82.173326 \r\nL 165.499909 63.682565 \r\nL 166.284974 78.203822 \r\nL 168.117508 61.106973 \r\nL 169.421012 65.963565 \r\nL 169.492625 61.435291 \r\nL 170.006244 67.243155 \r\nL 171.04915 70.160685 \r\nL 171.564377 65.542129 \r\nL 175.058325 63.893605 \r\nL 175.164545 58.191481 \r\nL 175.408127 62.933741 \r\nL 176.109234 65.662978 \r\nL 176.936112 65.504489 \r\nL 178.575843 73.792669 \r\nL 178.957381 62.185229 \r\nL 180.441116 63.032576 \r\nL 180.588846 73.661125 \r\nL 182.094547 72.609658 \r\nL 183.340719 66.008765 \r\nL 183.817014 67.373323 \r\nL 183.985731 68.925517 \r\nL 186.669548 68.857103 \r\nL 187.416143 57.817484 \r\nL 188.640767 57.525323 \r\nL 190.258045 57.552104 \r\nL 191.160754 66.156481 \r\nL 193.417317 66.450819 \r\nL 193.701475 75.634416 \r\nL 194.664931 60.652016 \r\nL 195.386842 73.940871 \r\nL 196.482221 59.018358 \r\nL 196.959562 74.866993 \r\nL 197.460724 69.191073 \r\nL 198.434434 74.046016 \r\nL 198.456512 63.033281 \r\nL 198.606746 57.798541 \r\nL 199.013229 75.178896 \r\nL 199.17852 64.272832 \r\nL 202.944177 59.498011 \r\nL 204.53487 58.857259 \r\nL 205.75712 74.790501 \r\nL 207.238245 66.489914 \r\nL 209.855998 55.354662 \r\nL 210.7314 75.523517 \r\nL 211.738231 75.143904 \r\nL 212.022827 64.110521 \r\nL 212.84041 74.787369 \r\nL 215.065299 58.109425 \r\nL 216.70224 60.483351 \r\nL 219.778604 54.875126 \r\nL 219.939092 76.261661 \r\nL 220.960775 68.304799 \r\nL 221.90072 59.753923 \r\nL 222.225196 60.14907 \r\nL 222.426591 61.166143 \r\nL 224.074753 57.689448 \r\nL 225.773375 63.731911 \r\nL 225.92521 56.407011 \r\nL 226.699107 63.710597 \r\nL 227.13242 75.919846 \r\nL 227.848132 62.210839 \r\nL 229.697276 75.415291 \r\nL 229.965101 56.062056 \r\nL 230.259628 57.153457 \r\nL 231.134403 65.235097 \r\nL 231.373783 70.644746 \r\nL 233.325611 64.004642 \r\nL 234.210826 76.890831 \r\nL 235.075373 69.422245 \r\nL 235.813209 71.041809 \r\nL 239.497027 60.247192 \r\nL 239.798064 62.002733 \r\nL 240.437076 74.024413 \r\nL 240.637912 72.489165 \r\nL 242.531812 76.436316 \r\nL 242.797962 65.500189 \r\nL 243.051628 61.338677 \r\nL 243.643084 76.268142 \r\nL 244.371581 55.808387 \r\nL 245.663663 76.328943 \r\nL 250.152785 68.227193 \r\nL 250.38134 64.802712 \r\nL 251.431471 73.95062 \r\nL 255.737051 61.020796 \r\nL 256.961749 77.16807 \r\nL 257.138768 66.804822 \r\nL 257.557922 58.744268 \r\nL 258.964977 64.565631 \r\nL 261.031506 63.510246 \r\nL 262.825923 56.579776 \r\nL 263.25728 60.70157 \r\nL 263.650438 58.927133 \r\nL 263.689698 56.805391 \r\nL 264.846875 55.77899 \r\nL 266.027466 59.928882 \r\nL 267.230509 62.441796 \r\nL 267.875615 69.349339 \r\nL 268.086468 66.626847 \r\nL 269.735378 77.362914 \r\nL 270.312356 72.652249 \r\nL 271.245329 77.512501 \r\nL 274.528037 65.312007 \r\nL 276.016126 65.295124 \r\nL 276.933232 55.84571 \r\nL 277.198299 54.793192 \r\nL 277.7139 63.913022 \r\nL 277.784792 59.626777 \r\nL 278.741193 71.212092 \r\nL 278.781223 74.855103 \r\nL 279.132892 66.320022 \r\nL 279.729396 56.742932 \r\nL 280.136756 64.654504 \r\nL 280.208303 70.047959 \r\nL 284.744857 66.280387 \r\nL 284.907633 67.211849 \r\nL 285.479648 60.6007 \r\nL 285.823914 73.715453 \r\nL 287.022863 74.957126 \r\nL 287.430966 56.57192 \r\nL 288.833302 67.024765 \r\nL 291.842262 54.757052 \r\nL 292.024858 61.632104 \r\nL 294.648765 62.110986 \r\nL 294.779149 54.081109 \r\nL 294.946207 55.756094 \r\nL 295.213121 74.054027 \r\nL 296.524191 68.570191 \r\nL 296.844772 68.084282 \r\nL 297.159607 71.185878 \r\nL 297.396107 53.406008 \r\nL 299.157663 54.214055 \r\nL 299.35045 59.913033 \r\nL 300.158002 71.659446 \r\nL 301.300126 53.006624 \r\nL 301.821502 73.001631 \r\nL 301.857318 50.645592 \r\nL 302.971601 71.813486 \r\nL 304.538979 55.718809 \r\nL 305.425876 55.299254 \r\nL 311.260236 70.775343 \r\nL 311.299493 66.504096 \r\nL 314.060864 62.454991 \r\nL 314.858301 47.967811 \r\nL 314.959374 61.227068 \r\nL 315.317102 49.044585 \r\nL 315.342675 65.216478 \r\nL 316.101971 50.736886 \r\nL 316.76648 68.673178 \r\nL 317.799156 66.774397 \r\nL 318.177461 62.525012 \r\nL 318.344145 51.073767 \r\nL 322.238737 61.998365 \r\nL 323.991498 51.127152 \r\nL 324.186494 60.524869 \r\nL 324.484664 50.904412 \r\nL 325.046574 59.80724 \r\nL 325.387202 60.667896 \r\nL 326.753687 45.515816 \r\nL 327.235762 54.005037 \r\nL 328.471813 62.684692 \r\nL 328.587896 49.126309 \r\nL 329.326815 61.644943 \r\nL 330.018941 42.291975 \r\nL 330.820345 55.883005 \r\nL 331.460839 55.852103 \r\nL 332.357552 40.383025 \r\nL 332.68346 50.207697 \r\nL 335.005052 53.458812 \r\nL 335.798942 39.022807 \r\nL 338.338934 37.297224 \r\nL 341.183319 46.311789 \r\nL 341.893229 37.500607 \r\nL 341.941086 43.625232 \r\nL 342.523292 45.356429 \r\nL 344.829468 34.899262 \r\nL 345.079771 32.170235 \r\nL 348.087244 37.842109 \r\nL 349.420476 37.132476 \r\nL 349.608972 38.483293 \r\nL 351.743209 24.132115 \r\nL 351.953196 40.44163 \r\nL 352.798834 21.558754 \r\nL 353.628435 41.534049 \r\nL 353.681383 28.333256 \r\nL 357.828338 36.944233 \r\nL 357.987991 23.923666 \r\nL 358.198597 17.083636 \r\nL 362.210275 22.725478 \r\nL 364.036053 30.256984 \r\nL 364.427131 25.191354 \r\nL 364.427131 25.191354 \r\n\" style=\"fill:none;stroke:#1f77b4;stroke-linecap:square;stroke-width:1.5;\"/>\r\n   </g>\r\n   <g id=\"line2d_15\">\r\n    <path clip-path=\"url(#p2954f92152)\" d=\"M 60.063494 67.621436 \r\nL 364.427131 66.958437 \r\nL 364.427131 66.958437 \r\n\" style=\"fill:none;stroke:#ff7f0e;stroke-linecap:square;stroke-width:1.5;\"/>\r\n   </g>\r\n   <g id=\"patch_3\">\r\n    <path d=\"M 44.845313 224.64 \r\nL 44.845313 7.2 \r\n\" style=\"fill:none;stroke:#000000;stroke-linecap:square;stroke-linejoin:miter;stroke-width:0.8;\"/>\r\n   </g>\r\n   <g id=\"patch_4\">\r\n    <path d=\"M 379.645313 224.64 \r\nL 379.645313 7.2 \r\n\" style=\"fill:none;stroke:#000000;stroke-linecap:square;stroke-linejoin:miter;stroke-width:0.8;\"/>\r\n   </g>\r\n   <g id=\"patch_5\">\r\n    <path d=\"M 44.845313 224.64 \r\nL 379.645313 224.64 \r\n\" style=\"fill:none;stroke:#000000;stroke-linecap:square;stroke-linejoin:miter;stroke-width:0.8;\"/>\r\n   </g>\r\n   <g id=\"patch_6\">\r\n    <path d=\"M 44.845313 7.2 \r\nL 379.645313 7.2 \r\n\" style=\"fill:none;stroke:#000000;stroke-linecap:square;stroke-linejoin:miter;stroke-width:0.8;\"/>\r\n   </g>\r\n   <g id=\"legend_1\">\r\n    <g id=\"patch_7\">\r\n     <path d=\"M 51.845313 44.55625 \r\nL 165.825 44.55625 \r\nQ 167.825 44.55625 167.825 42.55625 \r\nL 167.825 14.2 \r\nQ 167.825 12.2 165.825 12.2 \r\nL 51.845313 12.2 \r\nQ 49.845313 12.2 49.845313 14.2 \r\nL 49.845313 42.55625 \r\nQ 49.845313 44.55625 51.845313 44.55625 \r\nz\r\n\" style=\"fill:#ffffff;opacity:0.8;stroke:#cccccc;stroke-linejoin:miter;\"/>\r\n    </g>\r\n    <g id=\"line2d_16\">\r\n     <path d=\"M 53.845313 20.298437 \r\nL 73.845313 20.298437 \r\n\" style=\"fill:none;stroke:#1f77b4;stroke-linecap:square;stroke-width:1.5;\"/>\r\n    </g>\r\n    <g id=\"line2d_17\"/>\r\n    <g id=\"text_14\">\r\n     <!-- target fuction -->\r\n     <g transform=\"translate(81.845313 23.798437)scale(0.1 -0.1)\">\r\n      <defs>\r\n       <path d=\"M 1172 4494 \r\nL 1172 3500 \r\nL 2356 3500 \r\nL 2356 3053 \r\nL 1172 3053 \r\nL 1172 1153 \r\nQ 1172 725 1289 603 \r\nQ 1406 481 1766 481 \r\nL 2356 481 \r\nL 2356 0 \r\nL 1766 0 \r\nQ 1100 0 847 248 \r\nQ 594 497 594 1153 \r\nL 594 3053 \r\nL 172 3053 \r\nL 172 3500 \r\nL 594 3500 \r\nL 594 4494 \r\nL 1172 4494 \r\nz\r\n\" id=\"DejaVuSans-74\" transform=\"scale(0.015625)\"/>\r\n       <path d=\"M 2194 1759 \r\nQ 1497 1759 1228 1600 \r\nQ 959 1441 959 1056 \r\nQ 959 750 1161 570 \r\nQ 1363 391 1709 391 \r\nQ 2188 391 2477 730 \r\nQ 2766 1069 2766 1631 \r\nL 2766 1759 \r\nL 2194 1759 \r\nz\r\nM 3341 1997 \r\nL 3341 0 \r\nL 2766 0 \r\nL 2766 531 \r\nQ 2569 213 2275 61 \r\nQ 1981 -91 1556 -91 \r\nQ 1019 -91 701 211 \r\nQ 384 513 384 1019 \r\nQ 384 1609 779 1909 \r\nQ 1175 2209 1959 2209 \r\nL 2766 2209 \r\nL 2766 2266 \r\nQ 2766 2663 2505 2880 \r\nQ 2244 3097 1772 3097 \r\nQ 1472 3097 1187 3025 \r\nQ 903 2953 641 2809 \r\nL 641 3341 \r\nQ 956 3463 1253 3523 \r\nQ 1550 3584 1831 3584 \r\nQ 2591 3584 2966 3190 \r\nQ 3341 2797 3341 1997 \r\nz\r\n\" id=\"DejaVuSans-61\" transform=\"scale(0.015625)\"/>\r\n       <path d=\"M 2631 2963 \r\nQ 2534 3019 2420 3045 \r\nQ 2306 3072 2169 3072 \r\nQ 1681 3072 1420 2755 \r\nQ 1159 2438 1159 1844 \r\nL 1159 0 \r\nL 581 0 \r\nL 581 3500 \r\nL 1159 3500 \r\nL 1159 2956 \r\nQ 1341 3275 1631 3429 \r\nQ 1922 3584 2338 3584 \r\nQ 2397 3584 2469 3576 \r\nQ 2541 3569 2628 3553 \r\nL 2631 2963 \r\nz\r\n\" id=\"DejaVuSans-72\" transform=\"scale(0.015625)\"/>\r\n       <path d=\"M 2906 1791 \r\nQ 2906 2416 2648 2759 \r\nQ 2391 3103 1925 3103 \r\nQ 1463 3103 1205 2759 \r\nQ 947 2416 947 1791 \r\nQ 947 1169 1205 825 \r\nQ 1463 481 1925 481 \r\nQ 2391 481 2648 825 \r\nQ 2906 1169 2906 1791 \r\nz\r\nM 3481 434 \r\nQ 3481 -459 3084 -895 \r\nQ 2688 -1331 1869 -1331 \r\nQ 1566 -1331 1297 -1286 \r\nQ 1028 -1241 775 -1147 \r\nL 775 -588 \r\nQ 1028 -725 1275 -790 \r\nQ 1522 -856 1778 -856 \r\nQ 2344 -856 2625 -561 \r\nQ 2906 -266 2906 331 \r\nL 2906 616 \r\nQ 2728 306 2450 153 \r\nQ 2172 0 1784 0 \r\nQ 1141 0 747 490 \r\nQ 353 981 353 1791 \r\nQ 353 2603 747 3093 \r\nQ 1141 3584 1784 3584 \r\nQ 2172 3584 2450 3431 \r\nQ 2728 3278 2906 2969 \r\nL 2906 3500 \r\nL 3481 3500 \r\nL 3481 434 \r\nz\r\n\" id=\"DejaVuSans-67\" transform=\"scale(0.015625)\"/>\r\n       <path d=\"M 3597 1894 \r\nL 3597 1613 \r\nL 953 1613 \r\nQ 991 1019 1311 708 \r\nQ 1631 397 2203 397 \r\nQ 2534 397 2845 478 \r\nQ 3156 559 3463 722 \r\nL 3463 178 \r\nQ 3153 47 2828 -22 \r\nQ 2503 -91 2169 -91 \r\nQ 1331 -91 842 396 \r\nQ 353 884 353 1716 \r\nQ 353 2575 817 3079 \r\nQ 1281 3584 2069 3584 \r\nQ 2775 3584 3186 3129 \r\nQ 3597 2675 3597 1894 \r\nz\r\nM 3022 2063 \r\nQ 3016 2534 2758 2815 \r\nQ 2500 3097 2075 3097 \r\nQ 1594 3097 1305 2825 \r\nQ 1016 2553 972 2059 \r\nL 3022 2063 \r\nz\r\n\" id=\"DejaVuSans-65\" transform=\"scale(0.015625)\"/>\r\n       <path id=\"DejaVuSans-20\" transform=\"scale(0.015625)\"/>\r\n       <path d=\"M 2375 4863 \r\nL 2375 4384 \r\nL 1825 4384 \r\nQ 1516 4384 1395 4259 \r\nQ 1275 4134 1275 3809 \r\nL 1275 3500 \r\nL 2222 3500 \r\nL 2222 3053 \r\nL 1275 3053 \r\nL 1275 0 \r\nL 697 0 \r\nL 697 3053 \r\nL 147 3053 \r\nL 147 3500 \r\nL 697 3500 \r\nL 697 3744 \r\nQ 697 4328 969 4595 \r\nQ 1241 4863 1831 4863 \r\nL 2375 4863 \r\nz\r\n\" id=\"DejaVuSans-66\" transform=\"scale(0.015625)\"/>\r\n       <path d=\"M 544 1381 \r\nL 544 3500 \r\nL 1119 3500 \r\nL 1119 1403 \r\nQ 1119 906 1312 657 \r\nQ 1506 409 1894 409 \r\nQ 2359 409 2629 706 \r\nQ 2900 1003 2900 1516 \r\nL 2900 3500 \r\nL 3475 3500 \r\nL 3475 0 \r\nL 2900 0 \r\nL 2900 538 \r\nQ 2691 219 2414 64 \r\nQ 2138 -91 1772 -91 \r\nQ 1169 -91 856 284 \r\nQ 544 659 544 1381 \r\nz\r\nM 1991 3584 \r\nL 1991 3584 \r\nz\r\n\" id=\"DejaVuSans-75\" transform=\"scale(0.015625)\"/>\r\n       <path d=\"M 3122 3366 \r\nL 3122 2828 \r\nQ 2878 2963 2633 3030 \r\nQ 2388 3097 2138 3097 \r\nQ 1578 3097 1268 2742 \r\nQ 959 2388 959 1747 \r\nQ 959 1106 1268 751 \r\nQ 1578 397 2138 397 \r\nQ 2388 397 2633 464 \r\nQ 2878 531 3122 666 \r\nL 3122 134 \r\nQ 2881 22 2623 -34 \r\nQ 2366 -91 2075 -91 \r\nQ 1284 -91 818 406 \r\nQ 353 903 353 1747 \r\nQ 353 2603 823 3093 \r\nQ 1294 3584 2113 3584 \r\nQ 2378 3584 2631 3529 \r\nQ 2884 3475 3122 3366 \r\nz\r\n\" id=\"DejaVuSans-63\" transform=\"scale(0.015625)\"/>\r\n       <path d=\"M 603 3500 \r\nL 1178 3500 \r\nL 1178 0 \r\nL 603 0 \r\nL 603 3500 \r\nz\r\nM 603 4863 \r\nL 1178 4863 \r\nL 1178 4134 \r\nL 603 4134 \r\nL 603 4863 \r\nz\r\n\" id=\"DejaVuSans-69\" transform=\"scale(0.015625)\"/>\r\n       <path d=\"M 1959 3097 \r\nQ 1497 3097 1228 2736 \r\nQ 959 2375 959 1747 \r\nQ 959 1119 1226 758 \r\nQ 1494 397 1959 397 \r\nQ 2419 397 2687 759 \r\nQ 2956 1122 2956 1747 \r\nQ 2956 2369 2687 2733 \r\nQ 2419 3097 1959 3097 \r\nz\r\nM 1959 3584 \r\nQ 2709 3584 3137 3096 \r\nQ 3566 2609 3566 1747 \r\nQ 3566 888 3137 398 \r\nQ 2709 -91 1959 -91 \r\nQ 1206 -91 779 398 \r\nQ 353 888 353 1747 \r\nQ 353 2609 779 3096 \r\nQ 1206 3584 1959 3584 \r\nz\r\n\" id=\"DejaVuSans-6f\" transform=\"scale(0.015625)\"/>\r\n       <path d=\"M 3513 2113 \r\nL 3513 0 \r\nL 2938 0 \r\nL 2938 2094 \r\nQ 2938 2591 2744 2837 \r\nQ 2550 3084 2163 3084 \r\nQ 1697 3084 1428 2787 \r\nQ 1159 2491 1159 1978 \r\nL 1159 0 \r\nL 581 0 \r\nL 581 3500 \r\nL 1159 3500 \r\nL 1159 2956 \r\nQ 1366 3272 1645 3428 \r\nQ 1925 3584 2291 3584 \r\nQ 2894 3584 3203 3211 \r\nQ 3513 2838 3513 2113 \r\nz\r\n\" id=\"DejaVuSans-6e\" transform=\"scale(0.015625)\"/>\r\n      </defs>\r\n      <use xlink:href=\"#DejaVuSans-74\"/>\r\n      <use x=\"39.208984\" xlink:href=\"#DejaVuSans-61\"/>\r\n      <use x=\"100.488281\" xlink:href=\"#DejaVuSans-72\"/>\r\n      <use x=\"139.851562\" xlink:href=\"#DejaVuSans-67\"/>\r\n      <use x=\"203.328125\" xlink:href=\"#DejaVuSans-65\"/>\r\n      <use x=\"264.851562\" xlink:href=\"#DejaVuSans-74\"/>\r\n      <use x=\"304.060547\" xlink:href=\"#DejaVuSans-20\"/>\r\n      <use x=\"335.847656\" xlink:href=\"#DejaVuSans-66\"/>\r\n      <use x=\"371.052734\" xlink:href=\"#DejaVuSans-75\"/>\r\n      <use x=\"434.431641\" xlink:href=\"#DejaVuSans-63\"/>\r\n      <use x=\"489.412109\" xlink:href=\"#DejaVuSans-74\"/>\r\n      <use x=\"528.621094\" xlink:href=\"#DejaVuSans-69\"/>\r\n      <use x=\"556.404297\" xlink:href=\"#DejaVuSans-6f\"/>\r\n      <use x=\"617.585938\" xlink:href=\"#DejaVuSans-6e\"/>\r\n     </g>\r\n    </g>\r\n    <g id=\"line2d_18\">\r\n     <path d=\"M 53.845313 34.976562 \r\nL 73.845313 34.976562 \r\n\" style=\"fill:none;stroke:#ff7f0e;stroke-linecap:square;stroke-width:1.5;\"/>\r\n    </g>\r\n    <g id=\"line2d_19\"/>\r\n    <g id=\"text_15\">\r\n     <!-- network outputs -->\r\n     <g transform=\"translate(81.845313 38.476562)scale(0.1 -0.1)\">\r\n      <defs>\r\n       <path d=\"M 269 3500 \r\nL 844 3500 \r\nL 1563 769 \r\nL 2278 3500 \r\nL 2956 3500 \r\nL 3675 769 \r\nL 4391 3500 \r\nL 4966 3500 \r\nL 4050 0 \r\nL 3372 0 \r\nL 2619 2869 \r\nL 1863 0 \r\nL 1184 0 \r\nL 269 3500 \r\nz\r\n\" id=\"DejaVuSans-77\" transform=\"scale(0.015625)\"/>\r\n       <path d=\"M 581 4863 \r\nL 1159 4863 \r\nL 1159 1991 \r\nL 2875 3500 \r\nL 3609 3500 \r\nL 1753 1863 \r\nL 3688 0 \r\nL 2938 0 \r\nL 1159 1709 \r\nL 1159 0 \r\nL 581 0 \r\nL 581 4863 \r\nz\r\n\" id=\"DejaVuSans-6b\" transform=\"scale(0.015625)\"/>\r\n       <path d=\"M 1159 525 \r\nL 1159 -1331 \r\nL 581 -1331 \r\nL 581 3500 \r\nL 1159 3500 \r\nL 1159 2969 \r\nQ 1341 3281 1617 3432 \r\nQ 1894 3584 2278 3584 \r\nQ 2916 3584 3314 3078 \r\nQ 3713 2572 3713 1747 \r\nQ 3713 922 3314 415 \r\nQ 2916 -91 2278 -91 \r\nQ 1894 -91 1617 61 \r\nQ 1341 213 1159 525 \r\nz\r\nM 3116 1747 \r\nQ 3116 2381 2855 2742 \r\nQ 2594 3103 2138 3103 \r\nQ 1681 3103 1420 2742 \r\nQ 1159 2381 1159 1747 \r\nQ 1159 1113 1420 752 \r\nQ 1681 391 2138 391 \r\nQ 2594 391 2855 752 \r\nQ 3116 1113 3116 1747 \r\nz\r\n\" id=\"DejaVuSans-70\" transform=\"scale(0.015625)\"/>\r\n       <path d=\"M 2834 3397 \r\nL 2834 2853 \r\nQ 2591 2978 2328 3040 \r\nQ 2066 3103 1784 3103 \r\nQ 1356 3103 1142 2972 \r\nQ 928 2841 928 2578 \r\nQ 928 2378 1081 2264 \r\nQ 1234 2150 1697 2047 \r\nL 1894 2003 \r\nQ 2506 1872 2764 1633 \r\nQ 3022 1394 3022 966 \r\nQ 3022 478 2636 193 \r\nQ 2250 -91 1575 -91 \r\nQ 1294 -91 989 -36 \r\nQ 684 19 347 128 \r\nL 347 722 \r\nQ 666 556 975 473 \r\nQ 1284 391 1588 391 \r\nQ 1994 391 2212 530 \r\nQ 2431 669 2431 922 \r\nQ 2431 1156 2273 1281 \r\nQ 2116 1406 1581 1522 \r\nL 1381 1569 \r\nQ 847 1681 609 1914 \r\nQ 372 2147 372 2553 \r\nQ 372 3047 722 3315 \r\nQ 1072 3584 1716 3584 \r\nQ 2034 3584 2315 3537 \r\nQ 2597 3491 2834 3397 \r\nz\r\n\" id=\"DejaVuSans-73\" transform=\"scale(0.015625)\"/>\r\n      </defs>\r\n      <use xlink:href=\"#DejaVuSans-6e\"/>\r\n      <use x=\"63.378906\" xlink:href=\"#DejaVuSans-65\"/>\r\n      <use x=\"124.902344\" xlink:href=\"#DejaVuSans-74\"/>\r\n      <use x=\"164.111328\" xlink:href=\"#DejaVuSans-77\"/>\r\n      <use x=\"245.898438\" xlink:href=\"#DejaVuSans-6f\"/>\r\n      <use x=\"307.080078\" xlink:href=\"#DejaVuSans-72\"/>\r\n      <use x=\"348.193359\" xlink:href=\"#DejaVuSans-6b\"/>\r\n      <use x=\"406.103516\" xlink:href=\"#DejaVuSans-20\"/>\r\n      <use x=\"437.890625\" xlink:href=\"#DejaVuSans-6f\"/>\r\n      <use x=\"499.072266\" xlink:href=\"#DejaVuSans-75\"/>\r\n      <use x=\"562.451172\" xlink:href=\"#DejaVuSans-74\"/>\r\n      <use x=\"601.660156\" xlink:href=\"#DejaVuSans-70\"/>\r\n      <use x=\"665.136719\" xlink:href=\"#DejaVuSans-75\"/>\r\n      <use x=\"728.515625\" xlink:href=\"#DejaVuSans-74\"/>\r\n      <use x=\"767.724609\" xlink:href=\"#DejaVuSans-73\"/>\r\n     </g>\r\n    </g>\r\n   </g>\r\n  </g>\r\n </g>\r\n <defs>\r\n  <clipPath id=\"p2954f92152\">\r\n   <rect height=\"217.44\" width=\"334.8\" x=\"44.845313\" y=\"7.2\"/>\r\n  </clipPath>\r\n </defs>\r\n</svg>\r\n",
            "image/png": "[encoded data removed]"
          },
          "metadata": {
            "needs_background": "light"
          }
        }
      ]
    },
    {
      "cell_type": "code",
      "metadata": {
        "id": "2xINYkImsxlU"
      },
      "source": [
        "e, _ = n.train(tx, ty, 1e-02,\n",
        "  a = 9e-01,\n",
        "  l = 0,\n",
        "  max_epochs = 1000,\n",
        "  tresh = .001,\n",
        "  measure_interval = 10 )\n",
        "clear_output()\n",
        "plt.plot(e)"
      ],
      "execution_count": 20,
      "outputs": [
        {
          "output_type": "execute_result",
          "data": {
            "text/plain": [
              "[<matplotlib.lines.Line2D at 0x16692f91e80>]"
            ]
          },
          "metadata": {},
          "execution_count": 20
        },
        {
          "output_type": "display_data",
          "data": {
            "text/plain": "<Figure size 432x288 with 1 Axes>",
            "image/svg+xml": "<?xml version=\"1.0\" encoding=\"utf-8\" standalone=\"no\"?>\r\n<!DOCTYPE svg PUBLIC \"-//W3C//DTD SVG 1.1//EN\"\r\n  \"http://www.w3.org/Graphics/SVG/1.1/DTD/svg11.dtd\">\r\n<svg height=\"248.518125pt\" version=\"1.1\" viewBox=\"0 0 368.925 248.518125\" width=\"368.925pt\" xmlns=\"http://www.w3.org/2000/svg\" xmlns:xlink=\"http://www.w3.org/1999/xlink\">\r\n <metadata>\r\n  <rdf:RDF xmlns:cc=\"http://creativecommons.org/ns#\" xmlns:dc=\"http://purl.org/dc/elements/1.1/\" xmlns:rdf=\"http://www.w3.org/1999/02/22-rdf-syntax-ns#\">\r\n   <cc:Work>\r\n    <dc:type rdf:resource=\"http://purl.org/dc/dcmitype/StillImage\"/>\r\n    <dc:date>2021-05-14T11:30:12.817894</dc:date>\r\n    <dc:format>image/svg+xml</dc:format>\r\n    <dc:creator>\r\n     <cc:Agent>\r\n      <dc:title>Matplotlib v3.4.1, https://matplotlib.org/</dc:title>\r\n     </cc:Agent>\r\n    </dc:creator>\r\n   </cc:Work>\r\n  </rdf:RDF>\r\n </metadata>\r\n <defs>\r\n  <style type=\"text/css\">*{stroke-linecap:butt;stroke-linejoin:round;}</style>\r\n </defs>\r\n <g id=\"figure_1\">\r\n  <g id=\"patch_1\">\r\n   <path d=\"M -0 248.518125 \r\nL 368.925 248.518125 \r\nL 368.925 0 \r\nL -0 0 \r\nz\r\n\" style=\"fill:none;\"/>\r\n  </g>\r\n  <g id=\"axes_1\">\r\n   <g id=\"patch_2\">\r\n    <path d=\"M 26.925 224.64 \r\nL 361.725 224.64 \r\nL 361.725 7.2 \r\nL 26.925 7.2 \r\nz\r\n\" style=\"fill:#ffffff;\"/>\r\n   </g>\r\n   <g id=\"matplotlib.axis_1\">\r\n    <g id=\"xtick_1\">\r\n     <g id=\"line2d_1\">\r\n      <defs>\r\n       <path d=\"M 0 0 \r\nL 0 3.5 \r\n\" id=\"mecf2436e9b\" style=\"stroke:#000000;stroke-width:0.8;\"/>\r\n      </defs>\r\n      <g>\r\n       <use style=\"stroke:#000000;stroke-width:0.8;\" x=\"42.143182\" xlink:href=\"#mecf2436e9b\" y=\"224.64\"/>\r\n      </g>\r\n     </g>\r\n     <g id=\"text_1\">\r\n      <!-- 0 -->\r\n      <g transform=\"translate(38.961932 239.238437)scale(0.1 -0.1)\">\r\n       <defs>\r\n        <path d=\"M 2034 4250 \r\nQ 1547 4250 1301 3770 \r\nQ 1056 3291 1056 2328 \r\nQ 1056 1369 1301 889 \r\nQ 1547 409 2034 409 \r\nQ 2525 409 2770 889 \r\nQ 3016 1369 3016 2328 \r\nQ 3016 3291 2770 3770 \r\nQ 2525 4250 2034 4250 \r\nz\r\nM 2034 4750 \r\nQ 2819 4750 3233 4129 \r\nQ 3647 3509 3647 2328 \r\nQ 3647 1150 3233 529 \r\nQ 2819 -91 2034 -91 \r\nQ 1250 -91 836 529 \r\nQ 422 1150 422 2328 \r\nQ 422 3509 836 4129 \r\nQ 1250 4750 2034 4750 \r\nz\r\n\" id=\"DejaVuSans-30\" transform=\"scale(0.015625)\"/>\r\n       </defs>\r\n       <use xlink:href=\"#DejaVuSans-30\"/>\r\n      </g>\r\n     </g>\r\n    </g>\r\n    <g id=\"xtick_2\">\r\n     <g id=\"line2d_2\">\r\n      <g>\r\n       <use style=\"stroke:#000000;stroke-width:0.8;\" x=\"103.630785\" xlink:href=\"#mecf2436e9b\" y=\"224.64\"/>\r\n      </g>\r\n     </g>\r\n     <g id=\"text_2\">\r\n      <!-- 20 -->\r\n      <g transform=\"translate(97.268285 239.238437)scale(0.1 -0.1)\">\r\n       <defs>\r\n        <path d=\"M 1228 531 \r\nL 3431 531 \r\nL 3431 0 \r\nL 469 0 \r\nL 469 531 \r\nQ 828 903 1448 1529 \r\nQ 2069 2156 2228 2338 \r\nQ 2531 2678 2651 2914 \r\nQ 2772 3150 2772 3378 \r\nQ 2772 3750 2511 3984 \r\nQ 2250 4219 1831 4219 \r\nQ 1534 4219 1204 4116 \r\nQ 875 4013 500 3803 \r\nL 500 4441 \r\nQ 881 4594 1212 4672 \r\nQ 1544 4750 1819 4750 \r\nQ 2544 4750 2975 4387 \r\nQ 3406 4025 3406 3419 \r\nQ 3406 3131 3298 2873 \r\nQ 3191 2616 2906 2266 \r\nQ 2828 2175 2409 1742 \r\nQ 1991 1309 1228 531 \r\nz\r\n\" id=\"DejaVuSans-32\" transform=\"scale(0.015625)\"/>\r\n       </defs>\r\n       <use xlink:href=\"#DejaVuSans-32\"/>\r\n       <use x=\"63.623047\" xlink:href=\"#DejaVuSans-30\"/>\r\n      </g>\r\n     </g>\r\n    </g>\r\n    <g id=\"xtick_3\">\r\n     <g id=\"line2d_3\">\r\n      <g>\r\n       <use style=\"stroke:#000000;stroke-width:0.8;\" x=\"165.118388\" xlink:href=\"#mecf2436e9b\" y=\"224.64\"/>\r\n      </g>\r\n     </g>\r\n     <g id=\"text_3\">\r\n      <!-- 40 -->\r\n      <g transform=\"translate(158.755888 239.238437)scale(0.1 -0.1)\">\r\n       <defs>\r\n        <path d=\"M 2419 4116 \r\nL 825 1625 \r\nL 2419 1625 \r\nL 2419 4116 \r\nz\r\nM 2253 4666 \r\nL 3047 4666 \r\nL 3047 1625 \r\nL 3713 1625 \r\nL 3713 1100 \r\nL 3047 1100 \r\nL 3047 0 \r\nL 2419 0 \r\nL 2419 1100 \r\nL 313 1100 \r\nL 313 1709 \r\nL 2253 4666 \r\nz\r\n\" id=\"DejaVuSans-34\" transform=\"scale(0.015625)\"/>\r\n       </defs>\r\n       <use xlink:href=\"#DejaVuSans-34\"/>\r\n       <use x=\"63.623047\" xlink:href=\"#DejaVuSans-30\"/>\r\n      </g>\r\n     </g>\r\n    </g>\r\n    <g id=\"xtick_4\">\r\n     <g id=\"line2d_4\">\r\n      <g>\r\n       <use style=\"stroke:#000000;stroke-width:0.8;\" x=\"226.605992\" xlink:href=\"#mecf2436e9b\" y=\"224.64\"/>\r\n      </g>\r\n     </g>\r\n     <g id=\"text_4\">\r\n      <!-- 60 -->\r\n      <g transform=\"translate(220.243492 239.238437)scale(0.1 -0.1)\">\r\n       <defs>\r\n        <path d=\"M 2113 2584 \r\nQ 1688 2584 1439 2293 \r\nQ 1191 2003 1191 1497 \r\nQ 1191 994 1439 701 \r\nQ 1688 409 2113 409 \r\nQ 2538 409 2786 701 \r\nQ 3034 994 3034 1497 \r\nQ 3034 2003 2786 2293 \r\nQ 2538 2584 2113 2584 \r\nz\r\nM 3366 4563 \r\nL 3366 3988 \r\nQ 3128 4100 2886 4159 \r\nQ 2644 4219 2406 4219 \r\nQ 1781 4219 1451 3797 \r\nQ 1122 3375 1075 2522 \r\nQ 1259 2794 1537 2939 \r\nQ 1816 3084 2150 3084 \r\nQ 2853 3084 3261 2657 \r\nQ 3669 2231 3669 1497 \r\nQ 3669 778 3244 343 \r\nQ 2819 -91 2113 -91 \r\nQ 1303 -91 875 529 \r\nQ 447 1150 447 2328 \r\nQ 447 3434 972 4092 \r\nQ 1497 4750 2381 4750 \r\nQ 2619 4750 2861 4703 \r\nQ 3103 4656 3366 4563 \r\nz\r\n\" id=\"DejaVuSans-36\" transform=\"scale(0.015625)\"/>\r\n       </defs>\r\n       <use xlink:href=\"#DejaVuSans-36\"/>\r\n       <use x=\"63.623047\" xlink:href=\"#DejaVuSans-30\"/>\r\n      </g>\r\n     </g>\r\n    </g>\r\n    <g id=\"xtick_5\">\r\n     <g id=\"line2d_5\">\r\n      <g>\r\n       <use style=\"stroke:#000000;stroke-width:0.8;\" x=\"288.093595\" xlink:href=\"#mecf2436e9b\" y=\"224.64\"/>\r\n      </g>\r\n     </g>\r\n     <g id=\"text_5\">\r\n      <!-- 80 -->\r\n      <g transform=\"translate(281.731095 239.238437)scale(0.1 -0.1)\">\r\n       <defs>\r\n        <path d=\"M 2034 2216 \r\nQ 1584 2216 1326 1975 \r\nQ 1069 1734 1069 1313 \r\nQ 1069 891 1326 650 \r\nQ 1584 409 2034 409 \r\nQ 2484 409 2743 651 \r\nQ 3003 894 3003 1313 \r\nQ 3003 1734 2745 1975 \r\nQ 2488 2216 2034 2216 \r\nz\r\nM 1403 2484 \r\nQ 997 2584 770 2862 \r\nQ 544 3141 544 3541 \r\nQ 544 4100 942 4425 \r\nQ 1341 4750 2034 4750 \r\nQ 2731 4750 3128 4425 \r\nQ 3525 4100 3525 3541 \r\nQ 3525 3141 3298 2862 \r\nQ 3072 2584 2669 2484 \r\nQ 3125 2378 3379 2068 \r\nQ 3634 1759 3634 1313 \r\nQ 3634 634 3220 271 \r\nQ 2806 -91 2034 -91 \r\nQ 1263 -91 848 271 \r\nQ 434 634 434 1313 \r\nQ 434 1759 690 2068 \r\nQ 947 2378 1403 2484 \r\nz\r\nM 1172 3481 \r\nQ 1172 3119 1398 2916 \r\nQ 1625 2713 2034 2713 \r\nQ 2441 2713 2670 2916 \r\nQ 2900 3119 2900 3481 \r\nQ 2900 3844 2670 4047 \r\nQ 2441 4250 2034 4250 \r\nQ 1625 4250 1398 4047 \r\nQ 1172 3844 1172 3481 \r\nz\r\n\" id=\"DejaVuSans-38\" transform=\"scale(0.015625)\"/>\r\n       </defs>\r\n       <use xlink:href=\"#DejaVuSans-38\"/>\r\n       <use x=\"63.623047\" xlink:href=\"#DejaVuSans-30\"/>\r\n      </g>\r\n     </g>\r\n    </g>\r\n    <g id=\"xtick_6\">\r\n     <g id=\"line2d_6\">\r\n      <g>\r\n       <use style=\"stroke:#000000;stroke-width:0.8;\" x=\"349.581198\" xlink:href=\"#mecf2436e9b\" y=\"224.64\"/>\r\n      </g>\r\n     </g>\r\n     <g id=\"text_6\">\r\n      <!-- 100 -->\r\n      <g transform=\"translate(340.037448 239.238437)scale(0.1 -0.1)\">\r\n       <defs>\r\n        <path d=\"M 794 531 \r\nL 1825 531 \r\nL 1825 4091 \r\nL 703 3866 \r\nL 703 4441 \r\nL 1819 4666 \r\nL 2450 4666 \r\nL 2450 531 \r\nL 3481 531 \r\nL 3481 0 \r\nL 794 0 \r\nL 794 531 \r\nz\r\n\" id=\"DejaVuSans-31\" transform=\"scale(0.015625)\"/>\r\n       </defs>\r\n       <use xlink:href=\"#DejaVuSans-31\"/>\r\n       <use x=\"63.623047\" xlink:href=\"#DejaVuSans-30\"/>\r\n       <use x=\"127.246094\" xlink:href=\"#DejaVuSans-30\"/>\r\n      </g>\r\n     </g>\r\n    </g>\r\n   </g>\r\n   <g id=\"matplotlib.axis_2\">\r\n    <g id=\"ytick_1\">\r\n     <g id=\"line2d_7\">\r\n      <defs>\r\n       <path d=\"M 0 0 \r\nL -3.5 0 \r\n\" id=\"mfb15aadf66\" style=\"stroke:#000000;stroke-width:0.8;\"/>\r\n      </defs>\r\n      <g>\r\n       <use style=\"stroke:#000000;stroke-width:0.8;\" x=\"26.925\" xlink:href=\"#mfb15aadf66\" y=\"184.807118\"/>\r\n      </g>\r\n     </g>\r\n     <g id=\"text_7\">\r\n      <!-- 2 -->\r\n      <g transform=\"translate(13.5625 188.606337)scale(0.1 -0.1)\">\r\n       <use xlink:href=\"#DejaVuSans-32\"/>\r\n      </g>\r\n     </g>\r\n    </g>\r\n    <g id=\"ytick_2\">\r\n     <g id=\"line2d_8\">\r\n      <g>\r\n       <use style=\"stroke:#000000;stroke-width:0.8;\" x=\"26.925\" xlink:href=\"#mfb15aadf66\" y=\"144.263554\"/>\r\n      </g>\r\n     </g>\r\n     <g id=\"text_8\">\r\n      <!-- 4 -->\r\n      <g transform=\"translate(13.5625 148.062773)scale(0.1 -0.1)\">\r\n       <use xlink:href=\"#DejaVuSans-34\"/>\r\n      </g>\r\n     </g>\r\n    </g>\r\n    <g id=\"ytick_3\">\r\n     <g id=\"line2d_9\">\r\n      <g>\r\n       <use style=\"stroke:#000000;stroke-width:0.8;\" x=\"26.925\" xlink:href=\"#mfb15aadf66\" y=\"103.71999\"/>\r\n      </g>\r\n     </g>\r\n     <g id=\"text_9\">\r\n      <!-- 6 -->\r\n      <g transform=\"translate(13.5625 107.519209)scale(0.1 -0.1)\">\r\n       <use xlink:href=\"#DejaVuSans-36\"/>\r\n      </g>\r\n     </g>\r\n    </g>\r\n    <g id=\"ytick_4\">\r\n     <g id=\"line2d_10\">\r\n      <g>\r\n       <use style=\"stroke:#000000;stroke-width:0.8;\" x=\"26.925\" xlink:href=\"#mfb15aadf66\" y=\"63.176426\"/>\r\n      </g>\r\n     </g>\r\n     <g id=\"text_10\">\r\n      <!-- 8 -->\r\n      <g transform=\"translate(13.5625 66.975645)scale(0.1 -0.1)\">\r\n       <use xlink:href=\"#DejaVuSans-38\"/>\r\n      </g>\r\n     </g>\r\n    </g>\r\n    <g id=\"ytick_5\">\r\n     <g id=\"line2d_11\">\r\n      <g>\r\n       <use style=\"stroke:#000000;stroke-width:0.8;\" x=\"26.925\" xlink:href=\"#mfb15aadf66\" y=\"22.632862\"/>\r\n      </g>\r\n     </g>\r\n     <g id=\"text_11\">\r\n      <!-- 10 -->\r\n      <g transform=\"translate(7.2 26.432081)scale(0.1 -0.1)\">\r\n       <use xlink:href=\"#DejaVuSans-31\"/>\r\n       <use x=\"63.623047\" xlink:href=\"#DejaVuSans-30\"/>\r\n      </g>\r\n     </g>\r\n    </g>\r\n   </g>\r\n   <g id=\"line2d_12\">\r\n    <path clip-path=\"url(#p02d7af366d)\" d=\"M 42.143182 17.083636 \r\nL 45.217562 40.489453 \r\nL 48.291942 51.802145 \r\nL 51.366322 75.392407 \r\nL 54.440702 105.894125 \r\nL 57.515083 138.333535 \r\nL 60.589463 156.4228 \r\nL 63.663843 161.55704 \r\nL 66.738223 165.574919 \r\nL 69.812603 169.788603 \r\nL 72.886983 172.914331 \r\nL 82.110124 183.298329 \r\nL 85.184504 186.441195 \r\nL 88.258884 189.30709 \r\nL 91.333264 191.880615 \r\nL 94.407645 194.169446 \r\nL 97.482025 196.190746 \r\nL 100.556405 197.968896 \r\nL 103.630785 199.530583 \r\nL 106.705165 200.902248 \r\nL 109.779545 202.108532 \r\nL 112.853926 203.171691 \r\nL 119.002686 204.945016 \r\nL 125.151446 206.35195 \r\nL 131.300207 207.489733 \r\nL 137.448967 208.429074 \r\nL 146.672107 209.569045 \r\nL 155.895248 210.470499 \r\nL 168.192769 211.393402 \r\nL 180.490289 212.077325 \r\nL 195.86219 212.700478 \r\nL 214.308471 213.227311 \r\nL 238.903512 213.706236 \r\nL 275.796074 214.176056 \r\nL 334.209298 214.669898 \r\nL 346.506818 214.756364 \r\nL 346.506818 214.756364 \r\n\" style=\"fill:none;stroke:#1f77b4;stroke-linecap:square;stroke-width:1.5;\"/>\r\n   </g>\r\n   <g id=\"patch_3\">\r\n    <path d=\"M 26.925 224.64 \r\nL 26.925 7.2 \r\n\" style=\"fill:none;stroke:#000000;stroke-linecap:square;stroke-linejoin:miter;stroke-width:0.8;\"/>\r\n   </g>\r\n   <g id=\"patch_4\">\r\n    <path d=\"M 361.725 224.64 \r\nL 361.725 7.2 \r\n\" style=\"fill:none;stroke:#000000;stroke-linecap:square;stroke-linejoin:miter;stroke-width:0.8;\"/>\r\n   </g>\r\n   <g id=\"patch_5\">\r\n    <path d=\"M 26.925 224.64 \r\nL 361.725 224.64 \r\n\" style=\"fill:none;stroke:#000000;stroke-linecap:square;stroke-linejoin:miter;stroke-width:0.8;\"/>\r\n   </g>\r\n   <g id=\"patch_6\">\r\n    <path d=\"M 26.925 7.2 \r\nL 361.725 7.2 \r\n\" style=\"fill:none;stroke:#000000;stroke-linecap:square;stroke-linejoin:miter;stroke-width:0.8;\"/>\r\n   </g>\r\n  </g>\r\n </g>\r\n <defs>\r\n  <clipPath id=\"p02d7af366d\">\r\n   <rect height=\"217.44\" width=\"334.8\" x=\"26.925\" y=\"7.2\"/>\r\n  </clipPath>\r\n </defs>\r\n</svg>\r\n",
            "image/png": "[encoded data removed]"
          },
          "metadata": {
            "needs_background": "light"
          }
        }
      ]
    },
    {
      "cell_type": "code",
      "metadata": {
        "id": "SbPwvWr6tTIB"
      },
      "source": [
        "plt.plot(tx,ty,label='target function')\n",
        "outs = n.supply_sequence(tx)\n",
        "outs = outs.reshape(ty.shape)\n",
        "plt.plot(tx,outs.reshape(-1),label='network outputs')\n",
        "plt.legend()\n",
        "\n",
        "print( MSE(outs,ty))\n",
        "print( n.test_error(tx,ty))"
      ],
      "execution_count": 18,
      "outputs": [
        {
          "output_type": "stream",
          "name": "stdout",
          "text": [
            "0.6229682264500617\n0.6229682264500617\n"
          ]
        },
        {
          "output_type": "display_data",
          "data": {
            "text/plain": "<Figure size 432x288 with 1 Axes>",
            "image/svg+xml": "<?xml version=\"1.0\" encoding=\"utf-8\" standalone=\"no\"?>\r\n<!DOCTYPE svg PUBLIC \"-//W3C//DTD SVG 1.1//EN\"\r\n  \"http://www.w3.org/Graphics/SVG/1.1/DTD/svg11.dtd\">\r\n<svg height=\"248.518125pt\" version=\"1.1\" viewBox=\"0 0 386.845313 248.518125\" width=\"386.845313pt\" xmlns=\"http://www.w3.org/2000/svg\" xmlns:xlink=\"http://www.w3.org/1999/xlink\">\r\n <metadata>\r\n  <rdf:RDF xmlns:cc=\"http://creativecommons.org/ns#\" xmlns:dc=\"http://purl.org/dc/elements/1.1/\" xmlns:rdf=\"http://www.w3.org/1999/02/22-rdf-syntax-ns#\">\r\n   <cc:Work>\r\n    <dc:type rdf:resource=\"http://purl.org/dc/dcmitype/StillImage\"/>\r\n    <dc:date>2021-05-14T11:28:32.695767</dc:date>\r\n    <dc:format>image/svg+xml</dc:format>\r\n    <dc:creator>\r\n     <cc:Agent>\r\n      <dc:title>Matplotlib v3.4.1, https://matplotlib.org/</dc:title>\r\n     </cc:Agent>\r\n    </dc:creator>\r\n   </cc:Work>\r\n  </rdf:RDF>\r\n </metadata>\r\n <defs>\r\n  <style type=\"text/css\">*{stroke-linecap:butt;stroke-linejoin:round;}</style>\r\n </defs>\r\n <g id=\"figure_1\">\r\n  <g id=\"patch_1\">\r\n   <path d=\"M 0 248.518125 \r\nL 386.845313 248.518125 \r\nL 386.845313 0 \r\nL 0 0 \r\nz\r\n\" style=\"fill:none;\"/>\r\n  </g>\r\n  <g id=\"axes_1\">\r\n   <g id=\"patch_2\">\r\n    <path d=\"M 44.845313 224.64 \r\nL 379.645313 224.64 \r\nL 379.645313 7.2 \r\nL 44.845313 7.2 \r\nz\r\n\" style=\"fill:#ffffff;\"/>\r\n   </g>\r\n   <g id=\"matplotlib.axis_1\">\r\n    <g id=\"xtick_1\">\r\n     <g id=\"line2d_1\">\r\n      <defs>\r\n       <path d=\"M 0 0 \r\nL 0 3.5 \r\n\" id=\"m2716dc73d5\" style=\"stroke:#000000;stroke-width:0.8;\"/>\r\n      </defs>\r\n      <g>\r\n       <use style=\"stroke:#000000;stroke-width:0.8;\" x=\"60.063494\" xlink:href=\"#m2716dc73d5\" y=\"224.64\"/>\r\n      </g>\r\n     </g>\r\n     <g id=\"text_1\">\r\n      <!-- 0.0 -->\r\n      <g transform=\"translate(52.111932 239.238438)scale(0.1 -0.1)\">\r\n       <defs>\r\n        <path d=\"M 2034 4250 \r\nQ 1547 4250 1301 3770 \r\nQ 1056 3291 1056 2328 \r\nQ 1056 1369 1301 889 \r\nQ 1547 409 2034 409 \r\nQ 2525 409 2770 889 \r\nQ 3016 1369 3016 2328 \r\nQ 3016 3291 2770 3770 \r\nQ 2525 4250 2034 4250 \r\nz\r\nM 2034 4750 \r\nQ 2819 4750 3233 4129 \r\nQ 3647 3509 3647 2328 \r\nQ 3647 1150 3233 529 \r\nQ 2819 -91 2034 -91 \r\nQ 1250 -91 836 529 \r\nQ 422 1150 422 2328 \r\nQ 422 3509 836 4129 \r\nQ 1250 4750 2034 4750 \r\nz\r\n\" id=\"DejaVuSans-30\" transform=\"scale(0.015625)\"/>\r\n        <path d=\"M 684 794 \r\nL 1344 794 \r\nL 1344 0 \r\nL 684 0 \r\nL 684 794 \r\nz\r\n\" id=\"DejaVuSans-2e\" transform=\"scale(0.015625)\"/>\r\n       </defs>\r\n       <use xlink:href=\"#DejaVuSans-30\"/>\r\n       <use x=\"63.623047\" xlink:href=\"#DejaVuSans-2e\"/>\r\n       <use x=\"95.410156\" xlink:href=\"#DejaVuSans-30\"/>\r\n      </g>\r\n     </g>\r\n    </g>\r\n    <g id=\"xtick_2\">\r\n     <g id=\"line2d_2\">\r\n      <g>\r\n       <use style=\"stroke:#000000;stroke-width:0.8;\" x=\"120.936222\" xlink:href=\"#m2716dc73d5\" y=\"224.64\"/>\r\n      </g>\r\n     </g>\r\n     <g id=\"text_2\">\r\n      <!-- 0.2 -->\r\n      <g transform=\"translate(112.984659 239.238438)scale(0.1 -0.1)\">\r\n       <defs>\r\n        <path d=\"M 1228 531 \r\nL 3431 531 \r\nL 3431 0 \r\nL 469 0 \r\nL 469 531 \r\nQ 828 903 1448 1529 \r\nQ 2069 2156 2228 2338 \r\nQ 2531 2678 2651 2914 \r\nQ 2772 3150 2772 3378 \r\nQ 2772 3750 2511 3984 \r\nQ 2250 4219 1831 4219 \r\nQ 1534 4219 1204 4116 \r\nQ 875 4013 500 3803 \r\nL 500 4441 \r\nQ 881 4594 1212 4672 \r\nQ 1544 4750 1819 4750 \r\nQ 2544 4750 2975 4387 \r\nQ 3406 4025 3406 3419 \r\nQ 3406 3131 3298 2873 \r\nQ 3191 2616 2906 2266 \r\nQ 2828 2175 2409 1742 \r\nQ 1991 1309 1228 531 \r\nz\r\n\" id=\"DejaVuSans-32\" transform=\"scale(0.015625)\"/>\r\n       </defs>\r\n       <use xlink:href=\"#DejaVuSans-30\"/>\r\n       <use x=\"63.623047\" xlink:href=\"#DejaVuSans-2e\"/>\r\n       <use x=\"95.410156\" xlink:href=\"#DejaVuSans-32\"/>\r\n      </g>\r\n     </g>\r\n    </g>\r\n    <g id=\"xtick_3\">\r\n     <g id=\"line2d_3\">\r\n      <g>\r\n       <use style=\"stroke:#000000;stroke-width:0.8;\" x=\"181.808949\" xlink:href=\"#m2716dc73d5\" y=\"224.64\"/>\r\n      </g>\r\n     </g>\r\n     <g id=\"text_3\">\r\n      <!-- 0.4 -->\r\n      <g transform=\"translate(173.857386 239.238438)scale(0.1 -0.1)\">\r\n       <defs>\r\n        <path d=\"M 2419 4116 \r\nL 825 1625 \r\nL 2419 1625 \r\nL 2419 4116 \r\nz\r\nM 2253 4666 \r\nL 3047 4666 \r\nL 3047 1625 \r\nL 3713 1625 \r\nL 3713 1100 \r\nL 3047 1100 \r\nL 3047 0 \r\nL 2419 0 \r\nL 2419 1100 \r\nL 313 1100 \r\nL 313 1709 \r\nL 2253 4666 \r\nz\r\n\" id=\"DejaVuSans-34\" transform=\"scale(0.015625)\"/>\r\n       </defs>\r\n       <use xlink:href=\"#DejaVuSans-30\"/>\r\n       <use x=\"63.623047\" xlink:href=\"#DejaVuSans-2e\"/>\r\n       <use x=\"95.410156\" xlink:href=\"#DejaVuSans-34\"/>\r\n      </g>\r\n     </g>\r\n    </g>\r\n    <g id=\"xtick_4\">\r\n     <g id=\"line2d_4\">\r\n      <g>\r\n       <use style=\"stroke:#000000;stroke-width:0.8;\" x=\"242.681676\" xlink:href=\"#m2716dc73d5\" y=\"224.64\"/>\r\n      </g>\r\n     </g>\r\n     <g id=\"text_4\">\r\n      <!-- 0.6 -->\r\n      <g transform=\"translate(234.730114 239.238438)scale(0.1 -0.1)\">\r\n       <defs>\r\n        <path d=\"M 2113 2584 \r\nQ 1688 2584 1439 2293 \r\nQ 1191 2003 1191 1497 \r\nQ 1191 994 1439 701 \r\nQ 1688 409 2113 409 \r\nQ 2538 409 2786 701 \r\nQ 3034 994 3034 1497 \r\nQ 3034 2003 2786 2293 \r\nQ 2538 2584 2113 2584 \r\nz\r\nM 3366 4563 \r\nL 3366 3988 \r\nQ 3128 4100 2886 4159 \r\nQ 2644 4219 2406 4219 \r\nQ 1781 4219 1451 3797 \r\nQ 1122 3375 1075 2522 \r\nQ 1259 2794 1537 2939 \r\nQ 1816 3084 2150 3084 \r\nQ 2853 3084 3261 2657 \r\nQ 3669 2231 3669 1497 \r\nQ 3669 778 3244 343 \r\nQ 2819 -91 2113 -91 \r\nQ 1303 -91 875 529 \r\nQ 447 1150 447 2328 \r\nQ 447 3434 972 4092 \r\nQ 1497 4750 2381 4750 \r\nQ 2619 4750 2861 4703 \r\nQ 3103 4656 3366 4563 \r\nz\r\n\" id=\"DejaVuSans-36\" transform=\"scale(0.015625)\"/>\r\n       </defs>\r\n       <use xlink:href=\"#DejaVuSans-30\"/>\r\n       <use x=\"63.623047\" xlink:href=\"#DejaVuSans-2e\"/>\r\n       <use x=\"95.410156\" xlink:href=\"#DejaVuSans-36\"/>\r\n      </g>\r\n     </g>\r\n    </g>\r\n    <g id=\"xtick_5\">\r\n     <g id=\"line2d_5\">\r\n      <g>\r\n       <use style=\"stroke:#000000;stroke-width:0.8;\" x=\"303.554403\" xlink:href=\"#m2716dc73d5\" y=\"224.64\"/>\r\n      </g>\r\n     </g>\r\n     <g id=\"text_5\">\r\n      <!-- 0.8 -->\r\n      <g transform=\"translate(295.602841 239.238438)scale(0.1 -0.1)\">\r\n       <defs>\r\n        <path d=\"M 2034 2216 \r\nQ 1584 2216 1326 1975 \r\nQ 1069 1734 1069 1313 \r\nQ 1069 891 1326 650 \r\nQ 1584 409 2034 409 \r\nQ 2484 409 2743 651 \r\nQ 3003 894 3003 1313 \r\nQ 3003 1734 2745 1975 \r\nQ 2488 2216 2034 2216 \r\nz\r\nM 1403 2484 \r\nQ 997 2584 770 2862 \r\nQ 544 3141 544 3541 \r\nQ 544 4100 942 4425 \r\nQ 1341 4750 2034 4750 \r\nQ 2731 4750 3128 4425 \r\nQ 3525 4100 3525 3541 \r\nQ 3525 3141 3298 2862 \r\nQ 3072 2584 2669 2484 \r\nQ 3125 2378 3379 2068 \r\nQ 3634 1759 3634 1313 \r\nQ 3634 634 3220 271 \r\nQ 2806 -91 2034 -91 \r\nQ 1263 -91 848 271 \r\nQ 434 634 434 1313 \r\nQ 434 1759 690 2068 \r\nQ 947 2378 1403 2484 \r\nz\r\nM 1172 3481 \r\nQ 1172 3119 1398 2916 \r\nQ 1625 2713 2034 2713 \r\nQ 2441 2713 2670 2916 \r\nQ 2900 3119 2900 3481 \r\nQ 2900 3844 2670 4047 \r\nQ 2441 4250 2034 4250 \r\nQ 1625 4250 1398 4047 \r\nQ 1172 3844 1172 3481 \r\nz\r\n\" id=\"DejaVuSans-38\" transform=\"scale(0.015625)\"/>\r\n       </defs>\r\n       <use xlink:href=\"#DejaVuSans-30\"/>\r\n       <use x=\"63.623047\" xlink:href=\"#DejaVuSans-2e\"/>\r\n       <use x=\"95.410156\" xlink:href=\"#DejaVuSans-38\"/>\r\n      </g>\r\n     </g>\r\n    </g>\r\n    <g id=\"xtick_6\">\r\n     <g id=\"line2d_6\">\r\n      <g>\r\n       <use style=\"stroke:#000000;stroke-width:0.8;\" x=\"364.427131\" xlink:href=\"#m2716dc73d5\" y=\"224.64\"/>\r\n      </g>\r\n     </g>\r\n     <g id=\"text_6\">\r\n      <!-- 1.0 -->\r\n      <g transform=\"translate(356.475568 239.238438)scale(0.1 -0.1)\">\r\n       <defs>\r\n        <path d=\"M 794 531 \r\nL 1825 531 \r\nL 1825 4091 \r\nL 703 3866 \r\nL 703 4441 \r\nL 1819 4666 \r\nL 2450 4666 \r\nL 2450 531 \r\nL 3481 531 \r\nL 3481 0 \r\nL 794 0 \r\nL 794 531 \r\nz\r\n\" id=\"DejaVuSans-31\" transform=\"scale(0.015625)\"/>\r\n       </defs>\r\n       <use xlink:href=\"#DejaVuSans-31\"/>\r\n       <use x=\"63.623047\" xlink:href=\"#DejaVuSans-2e\"/>\r\n       <use x=\"95.410156\" xlink:href=\"#DejaVuSans-30\"/>\r\n      </g>\r\n     </g>\r\n    </g>\r\n   </g>\r\n   <g id=\"matplotlib.axis_2\">\r\n    <g id=\"ytick_1\">\r\n     <g id=\"line2d_7\">\r\n      <defs>\r\n       <path d=\"M 0 0 \r\nL -3.5 0 \r\n\" id=\"mb55928e595\" style=\"stroke:#000000;stroke-width:0.8;\"/>\r\n      </defs>\r\n      <g>\r\n       <use style=\"stroke:#000000;stroke-width:0.8;\" x=\"44.845313\" xlink:href=\"#mb55928e595\" y=\"212.022074\"/>\r\n      </g>\r\n     </g>\r\n     <g id=\"text_7\">\r\n      <!-- −12.5 -->\r\n      <g transform=\"translate(7.2 215.821292)scale(0.1 -0.1)\">\r\n       <defs>\r\n        <path d=\"M 678 2272 \r\nL 4684 2272 \r\nL 4684 1741 \r\nL 678 1741 \r\nL 678 2272 \r\nz\r\n\" id=\"DejaVuSans-2212\" transform=\"scale(0.015625)\"/>\r\n        <path d=\"M 691 4666 \r\nL 3169 4666 \r\nL 3169 4134 \r\nL 1269 4134 \r\nL 1269 2991 \r\nQ 1406 3038 1543 3061 \r\nQ 1681 3084 1819 3084 \r\nQ 2600 3084 3056 2656 \r\nQ 3513 2228 3513 1497 \r\nQ 3513 744 3044 326 \r\nQ 2575 -91 1722 -91 \r\nQ 1428 -91 1123 -41 \r\nQ 819 9 494 109 \r\nL 494 744 \r\nQ 775 591 1075 516 \r\nQ 1375 441 1709 441 \r\nQ 2250 441 2565 725 \r\nQ 2881 1009 2881 1497 \r\nQ 2881 1984 2565 2268 \r\nQ 2250 2553 1709 2553 \r\nQ 1456 2553 1204 2497 \r\nQ 953 2441 691 2322 \r\nL 691 4666 \r\nz\r\n\" id=\"DejaVuSans-35\" transform=\"scale(0.015625)\"/>\r\n       </defs>\r\n       <use xlink:href=\"#DejaVuSans-2212\"/>\r\n       <use x=\"83.789062\" xlink:href=\"#DejaVuSans-31\"/>\r\n       <use x=\"147.412109\" xlink:href=\"#DejaVuSans-32\"/>\r\n       <use x=\"211.035156\" xlink:href=\"#DejaVuSans-2e\"/>\r\n       <use x=\"242.822266\" xlink:href=\"#DejaVuSans-35\"/>\r\n      </g>\r\n     </g>\r\n    </g>\r\n    <g id=\"ytick_2\">\r\n     <g id=\"line2d_8\">\r\n      <g>\r\n       <use style=\"stroke:#000000;stroke-width:0.8;\" x=\"44.845313\" xlink:href=\"#mb55928e595\" y=\"182.54223\"/>\r\n      </g>\r\n     </g>\r\n     <g id=\"text_8\">\r\n      <!-- −10.0 -->\r\n      <g transform=\"translate(7.2 186.341449)scale(0.1 -0.1)\">\r\n       <use xlink:href=\"#DejaVuSans-2212\"/>\r\n       <use x=\"83.789062\" xlink:href=\"#DejaVuSans-31\"/>\r\n       <use x=\"147.412109\" xlink:href=\"#DejaVuSans-30\"/>\r\n       <use x=\"211.035156\" xlink:href=\"#DejaVuSans-2e\"/>\r\n       <use x=\"242.822266\" xlink:href=\"#DejaVuSans-30\"/>\r\n      </g>\r\n     </g>\r\n    </g>\r\n    <g id=\"ytick_3\">\r\n     <g id=\"line2d_9\">\r\n      <g>\r\n       <use style=\"stroke:#000000;stroke-width:0.8;\" x=\"44.845313\" xlink:href=\"#mb55928e595\" y=\"153.062387\"/>\r\n      </g>\r\n     </g>\r\n     <g id=\"text_9\">\r\n      <!-- −7.5 -->\r\n      <g transform=\"translate(13.5625 156.861606)scale(0.1 -0.1)\">\r\n       <defs>\r\n        <path d=\"M 525 4666 \r\nL 3525 4666 \r\nL 3525 4397 \r\nL 1831 0 \r\nL 1172 0 \r\nL 2766 4134 \r\nL 525 4134 \r\nL 525 4666 \r\nz\r\n\" id=\"DejaVuSans-37\" transform=\"scale(0.015625)\"/>\r\n       </defs>\r\n       <use xlink:href=\"#DejaVuSans-2212\"/>\r\n       <use x=\"83.789062\" xlink:href=\"#DejaVuSans-37\"/>\r\n       <use x=\"147.412109\" xlink:href=\"#DejaVuSans-2e\"/>\r\n       <use x=\"179.199219\" xlink:href=\"#DejaVuSans-35\"/>\r\n      </g>\r\n     </g>\r\n    </g>\r\n    <g id=\"ytick_4\">\r\n     <g id=\"line2d_10\">\r\n      <g>\r\n       <use style=\"stroke:#000000;stroke-width:0.8;\" x=\"44.845313\" xlink:href=\"#mb55928e595\" y=\"123.582544\"/>\r\n      </g>\r\n     </g>\r\n     <g id=\"text_10\">\r\n      <!-- −5.0 -->\r\n      <g transform=\"translate(13.5625 127.381763)scale(0.1 -0.1)\">\r\n       <use xlink:href=\"#DejaVuSans-2212\"/>\r\n       <use x=\"83.789062\" xlink:href=\"#DejaVuSans-35\"/>\r\n       <use x=\"147.412109\" xlink:href=\"#DejaVuSans-2e\"/>\r\n       <use x=\"179.199219\" xlink:href=\"#DejaVuSans-30\"/>\r\n      </g>\r\n     </g>\r\n    </g>\r\n    <g id=\"ytick_5\">\r\n     <g id=\"line2d_11\">\r\n      <g>\r\n       <use style=\"stroke:#000000;stroke-width:0.8;\" x=\"44.845313\" xlink:href=\"#mb55928e595\" y=\"94.102701\"/>\r\n      </g>\r\n     </g>\r\n     <g id=\"text_11\">\r\n      <!-- −2.5 -->\r\n      <g transform=\"translate(13.5625 97.901919)scale(0.1 -0.1)\">\r\n       <use xlink:href=\"#DejaVuSans-2212\"/>\r\n       <use x=\"83.789062\" xlink:href=\"#DejaVuSans-32\"/>\r\n       <use x=\"147.412109\" xlink:href=\"#DejaVuSans-2e\"/>\r\n       <use x=\"179.199219\" xlink:href=\"#DejaVuSans-35\"/>\r\n      </g>\r\n     </g>\r\n    </g>\r\n    <g id=\"ytick_6\">\r\n     <g id=\"line2d_12\">\r\n      <g>\r\n       <use style=\"stroke:#000000;stroke-width:0.8;\" x=\"44.845313\" xlink:href=\"#mb55928e595\" y=\"64.622857\"/>\r\n      </g>\r\n     </g>\r\n     <g id=\"text_12\">\r\n      <!-- 0.0 -->\r\n      <g transform=\"translate(21.942188 68.422076)scale(0.1 -0.1)\">\r\n       <use xlink:href=\"#DejaVuSans-30\"/>\r\n       <use x=\"63.623047\" xlink:href=\"#DejaVuSans-2e\"/>\r\n       <use x=\"95.410156\" xlink:href=\"#DejaVuSans-30\"/>\r\n      </g>\r\n     </g>\r\n    </g>\r\n    <g id=\"ytick_7\">\r\n     <g id=\"line2d_13\">\r\n      <g>\r\n       <use style=\"stroke:#000000;stroke-width:0.8;\" x=\"44.845313\" xlink:href=\"#mb55928e595\" y=\"35.143014\"/>\r\n      </g>\r\n     </g>\r\n     <g id=\"text_13\">\r\n      <!-- 2.5 -->\r\n      <g transform=\"translate(21.942188 38.942233)scale(0.1 -0.1)\">\r\n       <use xlink:href=\"#DejaVuSans-32\"/>\r\n       <use x=\"63.623047\" xlink:href=\"#DejaVuSans-2e\"/>\r\n       <use x=\"95.410156\" xlink:href=\"#DejaVuSans-35\"/>\r\n      </g>\r\n     </g>\r\n    </g>\r\n   </g>\r\n   <g id=\"line2d_14\">\r\n    <path clip-path=\"url(#pbf3017d784)\" d=\"M 60.063494 214.756364 \r\nL 61.171909 199.900045 \r\nL 61.526265 190.972705 \r\nL 62.435171 208.679381 \r\nL 62.581007 192.874828 \r\nL 63.153153 200.548527 \r\nL 63.417354 189.10312 \r\nL 64.617966 186.432493 \r\nL 68.19307 174.685566 \r\nL 68.930798 175.183221 \r\nL 69.365746 181.149622 \r\nL 70.808807 172.258768 \r\nL 75.249866 181.423686 \r\nL 80.029601 150.567608 \r\nL 82.882434 165.166045 \r\nL 83.095877 153.623465 \r\nL 84.256133 156.150209 \r\nL 84.592044 144.463028 \r\nL 85.895513 144.974515 \r\nL 89.15443 149.578365 \r\nL 89.559285 155.757089 \r\nL 89.676112 136.148639 \r\nL 90.43867 134.941094 \r\nL 90.704482 143.009186 \r\nL 92.696446 127.124935 \r\nL 93.62993 133.507735 \r\nL 93.669572 133.118937 \r\nL 96.317918 140.676813 \r\nL 97.252901 142.471795 \r\nL 98.889103 127.40411 \r\nL 99.535272 129.917329 \r\nL 100.324109 132.065019 \r\nL 100.667786 115.945446 \r\nL 102.695834 133.447387 \r\nL 103.564251 122.23848 \r\nL 105.055729 121.274981 \r\nL 105.378873 126.422181 \r\nL 105.717413 122.798566 \r\nL 107.135895 122.21425 \r\nL 108.420884 107.676177 \r\nL 109.250526 112.225845 \r\nL 110.4164 124.376353 \r\nL 110.916331 112.373465 \r\nL 112.132512 114.706638 \r\nL 112.978151 110.450537 \r\nL 113.390273 103.300605 \r\nL 113.522615 121.315286 \r\nL 114.448599 103.112825 \r\nL 117.429998 112.089079 \r\nL 118.907523 113.381826 \r\nL 118.923041 115.07328 \r\nL 119.486958 114.126265 \r\nL 119.537884 112.417479 \r\nL 119.819842 113.999159 \r\nL 126.472015 106.025485 \r\nL 126.99951 86.883405 \r\nL 127.106932 86.672094 \r\nL 127.309774 87.229628 \r\nL 128.033868 85.043993 \r\nL 129.760811 84.260492 \r\nL 130.215263 81.515365 \r\nL 131.216301 81.132738 \r\nL 133.438537 85.766709 \r\nL 133.583969 95.371455 \r\nL 136.094997 98.092506 \r\nL 136.937142 94.060968 \r\nL 137.769325 76.927984 \r\nL 139.779188 77.468806 \r\nL 140.16065 93.050571 \r\nL 140.456311 80.022216 \r\nL 140.468355 95.354199 \r\nL 141.125838 74.748064 \r\nL 141.429018 96.04353 \r\nL 142.758845 77.806211 \r\nL 144.150951 89.525374 \r\nL 144.313584 75.4637 \r\nL 144.445242 81.70623 \r\nL 144.753537 79.408408 \r\nL 148.284515 75.972073 \r\nL 148.664233 71.386315 \r\nL 149.27342 71.241184 \r\nL 149.550086 87.21393 \r\nL 150.787282 70.272369 \r\nL 150.930666 85.775624 \r\nL 153.165337 78.628078 \r\nL 153.213018 83.593099 \r\nL 153.393466 74.40053 \r\nL 154.382959 78.73868 \r\nL 155.04044 71.809656 \r\nL 155.719751 74.15324 \r\nL 155.749561 76.933135 \r\nL 156.392417 68.779231 \r\nL 156.771183 78.483331 \r\nL 157.490079 78.441434 \r\nL 162.036335 76.13198 \r\nL 162.56793 77.549265 \r\nL 163.021619 70.886847 \r\nL 163.416675 79.90302 \r\nL 164.898924 82.173326 \r\nL 165.499909 63.682565 \r\nL 166.284974 78.203822 \r\nL 168.117508 61.106973 \r\nL 169.421012 65.963565 \r\nL 169.492625 61.435291 \r\nL 170.006244 67.243155 \r\nL 171.04915 70.160685 \r\nL 171.564377 65.542129 \r\nL 175.058325 63.893605 \r\nL 175.164545 58.191481 \r\nL 175.408127 62.933741 \r\nL 176.109234 65.662978 \r\nL 176.936112 65.504489 \r\nL 178.575843 73.792669 \r\nL 178.957381 62.185229 \r\nL 180.441116 63.032576 \r\nL 180.588846 73.661125 \r\nL 182.094547 72.609658 \r\nL 183.340719 66.008765 \r\nL 183.817014 67.373323 \r\nL 183.985731 68.925517 \r\nL 186.669548 68.857103 \r\nL 187.416143 57.817484 \r\nL 188.640767 57.525323 \r\nL 190.258045 57.552104 \r\nL 191.160754 66.156481 \r\nL 193.417317 66.450819 \r\nL 193.701475 75.634416 \r\nL 194.664931 60.652016 \r\nL 195.386842 73.940871 \r\nL 196.482221 59.018358 \r\nL 196.959562 74.866993 \r\nL 197.460724 69.191073 \r\nL 198.434434 74.046016 \r\nL 198.456512 63.033281 \r\nL 198.606746 57.798541 \r\nL 199.013229 75.178896 \r\nL 199.17852 64.272832 \r\nL 202.944177 59.498011 \r\nL 204.53487 58.857259 \r\nL 205.75712 74.790501 \r\nL 207.238245 66.489914 \r\nL 209.855998 55.354662 \r\nL 210.7314 75.523517 \r\nL 211.738231 75.143904 \r\nL 212.022827 64.110521 \r\nL 212.84041 74.787369 \r\nL 215.065299 58.109425 \r\nL 216.70224 60.483351 \r\nL 219.778604 54.875126 \r\nL 219.939092 76.261661 \r\nL 220.960775 68.304799 \r\nL 221.90072 59.753923 \r\nL 222.225196 60.14907 \r\nL 222.426591 61.166143 \r\nL 224.074753 57.689448 \r\nL 225.773375 63.731911 \r\nL 225.92521 56.407011 \r\nL 226.699107 63.710597 \r\nL 227.13242 75.919846 \r\nL 227.848132 62.210839 \r\nL 229.697276 75.415291 \r\nL 229.965101 56.062056 \r\nL 230.259628 57.153457 \r\nL 231.134403 65.235097 \r\nL 231.373783 70.644746 \r\nL 233.325611 64.004642 \r\nL 234.210826 76.890831 \r\nL 235.075373 69.422245 \r\nL 235.813209 71.041809 \r\nL 239.497027 60.247192 \r\nL 239.798064 62.002733 \r\nL 240.437076 74.024413 \r\nL 240.637912 72.489165 \r\nL 242.531812 76.436316 \r\nL 242.797962 65.500189 \r\nL 243.051628 61.338677 \r\nL 243.643084 76.268142 \r\nL 244.371581 55.808387 \r\nL 245.663663 76.328943 \r\nL 250.152785 68.227193 \r\nL 250.38134 64.802712 \r\nL 251.431471 73.95062 \r\nL 255.737051 61.020796 \r\nL 256.961749 77.16807 \r\nL 257.138768 66.804822 \r\nL 257.557922 58.744268 \r\nL 258.964977 64.565631 \r\nL 261.031506 63.510246 \r\nL 262.825923 56.579776 \r\nL 263.25728 60.70157 \r\nL 263.650438 58.927133 \r\nL 263.689698 56.805391 \r\nL 264.846875 55.77899 \r\nL 266.027466 59.928882 \r\nL 267.230509 62.441796 \r\nL 267.875615 69.349339 \r\nL 268.086468 66.626847 \r\nL 269.735378 77.362914 \r\nL 270.312356 72.652249 \r\nL 271.245329 77.512501 \r\nL 274.528037 65.312007 \r\nL 276.016126 65.295124 \r\nL 276.933232 55.84571 \r\nL 277.198299 54.793192 \r\nL 277.7139 63.913022 \r\nL 277.784792 59.626777 \r\nL 278.741193 71.212092 \r\nL 278.781223 74.855103 \r\nL 279.132892 66.320022 \r\nL 279.729396 56.742932 \r\nL 280.136756 64.654504 \r\nL 280.208303 70.047959 \r\nL 284.744857 66.280387 \r\nL 284.907633 67.211849 \r\nL 285.479648 60.6007 \r\nL 285.823914 73.715453 \r\nL 287.022863 74.957126 \r\nL 287.430966 56.57192 \r\nL 288.833302 67.024765 \r\nL 291.842262 54.757052 \r\nL 292.024858 61.632104 \r\nL 294.648765 62.110986 \r\nL 294.779149 54.081109 \r\nL 294.946207 55.756094 \r\nL 295.213121 74.054027 \r\nL 296.524191 68.570191 \r\nL 296.844772 68.084282 \r\nL 297.159607 71.185878 \r\nL 297.396107 53.406008 \r\nL 299.157663 54.214055 \r\nL 299.35045 59.913033 \r\nL 300.158002 71.659446 \r\nL 301.300126 53.006624 \r\nL 301.821502 73.001631 \r\nL 301.857318 50.645592 \r\nL 302.971601 71.813486 \r\nL 304.538979 55.718809 \r\nL 305.425876 55.299254 \r\nL 311.260236 70.775343 \r\nL 311.299493 66.504096 \r\nL 314.060864 62.454991 \r\nL 314.858301 47.967811 \r\nL 314.959374 61.227068 \r\nL 315.317102 49.044585 \r\nL 315.342675 65.216478 \r\nL 316.101971 50.736886 \r\nL 316.76648 68.673178 \r\nL 317.799156 66.774397 \r\nL 318.177461 62.525012 \r\nL 318.344145 51.073767 \r\nL 322.238737 61.998365 \r\nL 323.991498 51.127152 \r\nL 324.186494 60.524869 \r\nL 324.484664 50.904412 \r\nL 325.046574 59.80724 \r\nL 325.387202 60.667896 \r\nL 326.753687 45.515816 \r\nL 327.235762 54.005037 \r\nL 328.471813 62.684692 \r\nL 328.587896 49.126309 \r\nL 329.326815 61.644943 \r\nL 330.018941 42.291975 \r\nL 330.820345 55.883005 \r\nL 331.460839 55.852103 \r\nL 332.357552 40.383025 \r\nL 332.68346 50.207697 \r\nL 335.005052 53.458812 \r\nL 335.798942 39.022807 \r\nL 338.338934 37.297224 \r\nL 341.183319 46.311789 \r\nL 341.893229 37.500607 \r\nL 341.941086 43.625232 \r\nL 342.523292 45.356429 \r\nL 344.829468 34.899262 \r\nL 345.079771 32.170235 \r\nL 348.087244 37.842109 \r\nL 349.420476 37.132476 \r\nL 349.608972 38.483293 \r\nL 351.743209 24.132115 \r\nL 351.953196 40.44163 \r\nL 352.798834 21.558754 \r\nL 353.628435 41.534049 \r\nL 353.681383 28.333256 \r\nL 357.828338 36.944233 \r\nL 357.987991 23.923666 \r\nL 358.198597 17.083636 \r\nL 362.210275 22.725478 \r\nL 364.036053 30.256984 \r\nL 364.427131 25.191354 \r\nL 364.427131 25.191354 \r\n\" style=\"fill:none;stroke:#1f77b4;stroke-linecap:square;stroke-width:1.5;\"/>\r\n   </g>\r\n   <g id=\"line2d_15\">\r\n    <path clip-path=\"url(#pbf3017d784)\" d=\"M 60.063494 188.793404 \r\nL 63.417354 184.777951 \r\nL 64.617966 183.272594 \r\nL 70.808807 174.974505 \r\nL 75.249866 168.527241 \r\nL 83.095877 156.399507 \r\nL 100.667786 128.651677 \r\nL 105.717413 121.289524 \r\nL 110.4164 114.901518 \r\nL 114.448599 109.825474 \r\nL 119.819842 103.684361 \r\nL 128.033868 95.675414 \r\nL 131.216301 93.003329 \r\nL 136.094997 89.338046 \r\nL 140.16065 86.650722 \r\nL 144.150951 84.30587 \r\nL 144.753537 83.97509 \r\nL 150.930666 80.902341 \r\nL 156.392417 78.610967 \r\nL 157.490079 78.192266 \r\nL 164.898924 75.676974 \r\nL 170.006244 74.210124 \r\nL 176.109234 72.682115 \r\nL 183.340719 71.119269 \r\nL 191.160754 69.65459 \r\nL 199.17852 68.326863 \r\nL 212.84041 66.325391 \r\nL 231.373783 63.887775 \r\nL 287.430966 56.901421 \r\nL 335.005052 50.794543 \r\nL 364.427131 46.928801 \r\nL 364.427131 46.928801 \r\n\" style=\"fill:none;stroke:#ff7f0e;stroke-linecap:square;stroke-width:1.5;\"/>\r\n   </g>\r\n   <g id=\"patch_3\">\r\n    <path d=\"M 44.845313 224.64 \r\nL 44.845313 7.2 \r\n\" style=\"fill:none;stroke:#000000;stroke-linecap:square;stroke-linejoin:miter;stroke-width:0.8;\"/>\r\n   </g>\r\n   <g id=\"patch_4\">\r\n    <path d=\"M 379.645313 224.64 \r\nL 379.645313 7.2 \r\n\" style=\"fill:none;stroke:#000000;stroke-linecap:square;stroke-linejoin:miter;stroke-width:0.8;\"/>\r\n   </g>\r\n   <g id=\"patch_5\">\r\n    <path d=\"M 44.845313 224.64 \r\nL 379.645313 224.64 \r\n\" style=\"fill:none;stroke:#000000;stroke-linecap:square;stroke-linejoin:miter;stroke-width:0.8;\"/>\r\n   </g>\r\n   <g id=\"patch_6\">\r\n    <path d=\"M 44.845313 7.2 \r\nL 379.645313 7.2 \r\n\" style=\"fill:none;stroke:#000000;stroke-linecap:square;stroke-linejoin:miter;stroke-width:0.8;\"/>\r\n   </g>\r\n   <g id=\"legend_1\">\r\n    <g id=\"patch_7\">\r\n     <path d=\"M 51.845313 44.55625 \r\nL 165.825 44.55625 \r\nQ 167.825 44.55625 167.825 42.55625 \r\nL 167.825 14.2 \r\nQ 167.825 12.2 165.825 12.2 \r\nL 51.845313 12.2 \r\nQ 49.845313 12.2 49.845313 14.2 \r\nL 49.845313 42.55625 \r\nQ 49.845313 44.55625 51.845313 44.55625 \r\nz\r\n\" style=\"fill:#ffffff;opacity:0.8;stroke:#cccccc;stroke-linejoin:miter;\"/>\r\n    </g>\r\n    <g id=\"line2d_16\">\r\n     <path d=\"M 53.845313 20.298437 \r\nL 73.845313 20.298437 \r\n\" style=\"fill:none;stroke:#1f77b4;stroke-linecap:square;stroke-width:1.5;\"/>\r\n    </g>\r\n    <g id=\"line2d_17\"/>\r\n    <g id=\"text_14\">\r\n     <!-- target function -->\r\n     <g transform=\"translate(81.845313 23.798437)scale(0.1 -0.1)\">\r\n      <defs>\r\n       <path d=\"M 1172 4494 \r\nL 1172 3500 \r\nL 2356 3500 \r\nL 2356 3053 \r\nL 1172 3053 \r\nL 1172 1153 \r\nQ 1172 725 1289 603 \r\nQ 1406 481 1766 481 \r\nL 2356 481 \r\nL 2356 0 \r\nL 1766 0 \r\nQ 1100 0 847 248 \r\nQ 594 497 594 1153 \r\nL 594 3053 \r\nL 172 3053 \r\nL 172 3500 \r\nL 594 3500 \r\nL 594 4494 \r\nL 1172 4494 \r\nz\r\n\" id=\"DejaVuSans-74\" transform=\"scale(0.015625)\"/>\r\n       <path d=\"M 2194 1759 \r\nQ 1497 1759 1228 1600 \r\nQ 959 1441 959 1056 \r\nQ 959 750 1161 570 \r\nQ 1363 391 1709 391 \r\nQ 2188 391 2477 730 \r\nQ 2766 1069 2766 1631 \r\nL 2766 1759 \r\nL 2194 1759 \r\nz\r\nM 3341 1997 \r\nL 3341 0 \r\nL 2766 0 \r\nL 2766 531 \r\nQ 2569 213 2275 61 \r\nQ 1981 -91 1556 -91 \r\nQ 1019 -91 701 211 \r\nQ 384 513 384 1019 \r\nQ 384 1609 779 1909 \r\nQ 1175 2209 1959 2209 \r\nL 2766 2209 \r\nL 2766 2266 \r\nQ 2766 2663 2505 2880 \r\nQ 2244 3097 1772 3097 \r\nQ 1472 3097 1187 3025 \r\nQ 903 2953 641 2809 \r\nL 641 3341 \r\nQ 956 3463 1253 3523 \r\nQ 1550 3584 1831 3584 \r\nQ 2591 3584 2966 3190 \r\nQ 3341 2797 3341 1997 \r\nz\r\n\" id=\"DejaVuSans-61\" transform=\"scale(0.015625)\"/>\r\n       <path d=\"M 2631 2963 \r\nQ 2534 3019 2420 3045 \r\nQ 2306 3072 2169 3072 \r\nQ 1681 3072 1420 2755 \r\nQ 1159 2438 1159 1844 \r\nL 1159 0 \r\nL 581 0 \r\nL 581 3500 \r\nL 1159 3500 \r\nL 1159 2956 \r\nQ 1341 3275 1631 3429 \r\nQ 1922 3584 2338 3584 \r\nQ 2397 3584 2469 3576 \r\nQ 2541 3569 2628 3553 \r\nL 2631 2963 \r\nz\r\n\" id=\"DejaVuSans-72\" transform=\"scale(0.015625)\"/>\r\n       <path d=\"M 2906 1791 \r\nQ 2906 2416 2648 2759 \r\nQ 2391 3103 1925 3103 \r\nQ 1463 3103 1205 2759 \r\nQ 947 2416 947 1791 \r\nQ 947 1169 1205 825 \r\nQ 1463 481 1925 481 \r\nQ 2391 481 2648 825 \r\nQ 2906 1169 2906 1791 \r\nz\r\nM 3481 434 \r\nQ 3481 -459 3084 -895 \r\nQ 2688 -1331 1869 -1331 \r\nQ 1566 -1331 1297 -1286 \r\nQ 1028 -1241 775 -1147 \r\nL 775 -588 \r\nQ 1028 -725 1275 -790 \r\nQ 1522 -856 1778 -856 \r\nQ 2344 -856 2625 -561 \r\nQ 2906 -266 2906 331 \r\nL 2906 616 \r\nQ 2728 306 2450 153 \r\nQ 2172 0 1784 0 \r\nQ 1141 0 747 490 \r\nQ 353 981 353 1791 \r\nQ 353 2603 747 3093 \r\nQ 1141 3584 1784 3584 \r\nQ 2172 3584 2450 3431 \r\nQ 2728 3278 2906 2969 \r\nL 2906 3500 \r\nL 3481 3500 \r\nL 3481 434 \r\nz\r\n\" id=\"DejaVuSans-67\" transform=\"scale(0.015625)\"/>\r\n       <path d=\"M 3597 1894 \r\nL 3597 1613 \r\nL 953 1613 \r\nQ 991 1019 1311 708 \r\nQ 1631 397 2203 397 \r\nQ 2534 397 2845 478 \r\nQ 3156 559 3463 722 \r\nL 3463 178 \r\nQ 3153 47 2828 -22 \r\nQ 2503 -91 2169 -91 \r\nQ 1331 -91 842 396 \r\nQ 353 884 353 1716 \r\nQ 353 2575 817 3079 \r\nQ 1281 3584 2069 3584 \r\nQ 2775 3584 3186 3129 \r\nQ 3597 2675 3597 1894 \r\nz\r\nM 3022 2063 \r\nQ 3016 2534 2758 2815 \r\nQ 2500 3097 2075 3097 \r\nQ 1594 3097 1305 2825 \r\nQ 1016 2553 972 2059 \r\nL 3022 2063 \r\nz\r\n\" id=\"DejaVuSans-65\" transform=\"scale(0.015625)\"/>\r\n       <path id=\"DejaVuSans-20\" transform=\"scale(0.015625)\"/>\r\n       <path d=\"M 2375 4863 \r\nL 2375 4384 \r\nL 1825 4384 \r\nQ 1516 4384 1395 4259 \r\nQ 1275 4134 1275 3809 \r\nL 1275 3500 \r\nL 2222 3500 \r\nL 2222 3053 \r\nL 1275 3053 \r\nL 1275 0 \r\nL 697 0 \r\nL 697 3053 \r\nL 147 3053 \r\nL 147 3500 \r\nL 697 3500 \r\nL 697 3744 \r\nQ 697 4328 969 4595 \r\nQ 1241 4863 1831 4863 \r\nL 2375 4863 \r\nz\r\n\" id=\"DejaVuSans-66\" transform=\"scale(0.015625)\"/>\r\n       <path d=\"M 544 1381 \r\nL 544 3500 \r\nL 1119 3500 \r\nL 1119 1403 \r\nQ 1119 906 1312 657 \r\nQ 1506 409 1894 409 \r\nQ 2359 409 2629 706 \r\nQ 2900 1003 2900 1516 \r\nL 2900 3500 \r\nL 3475 3500 \r\nL 3475 0 \r\nL 2900 0 \r\nL 2900 538 \r\nQ 2691 219 2414 64 \r\nQ 2138 -91 1772 -91 \r\nQ 1169 -91 856 284 \r\nQ 544 659 544 1381 \r\nz\r\nM 1991 3584 \r\nL 1991 3584 \r\nz\r\n\" id=\"DejaVuSans-75\" transform=\"scale(0.015625)\"/>\r\n       <path d=\"M 3513 2113 \r\nL 3513 0 \r\nL 2938 0 \r\nL 2938 2094 \r\nQ 2938 2591 2744 2837 \r\nQ 2550 3084 2163 3084 \r\nQ 1697 3084 1428 2787 \r\nQ 1159 2491 1159 1978 \r\nL 1159 0 \r\nL 581 0 \r\nL 581 3500 \r\nL 1159 3500 \r\nL 1159 2956 \r\nQ 1366 3272 1645 3428 \r\nQ 1925 3584 2291 3584 \r\nQ 2894 3584 3203 3211 \r\nQ 3513 2838 3513 2113 \r\nz\r\n\" id=\"DejaVuSans-6e\" transform=\"scale(0.015625)\"/>\r\n       <path d=\"M 3122 3366 \r\nL 3122 2828 \r\nQ 2878 2963 2633 3030 \r\nQ 2388 3097 2138 3097 \r\nQ 1578 3097 1268 2742 \r\nQ 959 2388 959 1747 \r\nQ 959 1106 1268 751 \r\nQ 1578 397 2138 397 \r\nQ 2388 397 2633 464 \r\nQ 2878 531 3122 666 \r\nL 3122 134 \r\nQ 2881 22 2623 -34 \r\nQ 2366 -91 2075 -91 \r\nQ 1284 -91 818 406 \r\nQ 353 903 353 1747 \r\nQ 353 2603 823 3093 \r\nQ 1294 3584 2113 3584 \r\nQ 2378 3584 2631 3529 \r\nQ 2884 3475 3122 3366 \r\nz\r\n\" id=\"DejaVuSans-63\" transform=\"scale(0.015625)\"/>\r\n       <path d=\"M 603 3500 \r\nL 1178 3500 \r\nL 1178 0 \r\nL 603 0 \r\nL 603 3500 \r\nz\r\nM 603 4863 \r\nL 1178 4863 \r\nL 1178 4134 \r\nL 603 4134 \r\nL 603 4863 \r\nz\r\n\" id=\"DejaVuSans-69\" transform=\"scale(0.015625)\"/>\r\n       <path d=\"M 1959 3097 \r\nQ 1497 3097 1228 2736 \r\nQ 959 2375 959 1747 \r\nQ 959 1119 1226 758 \r\nQ 1494 397 1959 397 \r\nQ 2419 397 2687 759 \r\nQ 2956 1122 2956 1747 \r\nQ 2956 2369 2687 2733 \r\nQ 2419 3097 1959 3097 \r\nz\r\nM 1959 3584 \r\nQ 2709 3584 3137 3096 \r\nQ 3566 2609 3566 1747 \r\nQ 3566 888 3137 398 \r\nQ 2709 -91 1959 -91 \r\nQ 1206 -91 779 398 \r\nQ 353 888 353 1747 \r\nQ 353 2609 779 3096 \r\nQ 1206 3584 1959 3584 \r\nz\r\n\" id=\"DejaVuSans-6f\" transform=\"scale(0.015625)\"/>\r\n      </defs>\r\n      <use xlink:href=\"#DejaVuSans-74\"/>\r\n      <use x=\"39.208984\" xlink:href=\"#DejaVuSans-61\"/>\r\n      <use x=\"100.488281\" xlink:href=\"#DejaVuSans-72\"/>\r\n      <use x=\"139.851562\" xlink:href=\"#DejaVuSans-67\"/>\r\n      <use x=\"203.328125\" xlink:href=\"#DejaVuSans-65\"/>\r\n      <use x=\"264.851562\" xlink:href=\"#DejaVuSans-74\"/>\r\n      <use x=\"304.060547\" xlink:href=\"#DejaVuSans-20\"/>\r\n      <use x=\"335.847656\" xlink:href=\"#DejaVuSans-66\"/>\r\n      <use x=\"371.052734\" xlink:href=\"#DejaVuSans-75\"/>\r\n      <use x=\"434.431641\" xlink:href=\"#DejaVuSans-6e\"/>\r\n      <use x=\"497.810547\" xlink:href=\"#DejaVuSans-63\"/>\r\n      <use x=\"552.791016\" xlink:href=\"#DejaVuSans-74\"/>\r\n      <use x=\"592\" xlink:href=\"#DejaVuSans-69\"/>\r\n      <use x=\"619.783203\" xlink:href=\"#DejaVuSans-6f\"/>\r\n      <use x=\"680.964844\" xlink:href=\"#DejaVuSans-6e\"/>\r\n     </g>\r\n    </g>\r\n    <g id=\"line2d_18\">\r\n     <path d=\"M 53.845313 34.976562 \r\nL 73.845313 34.976562 \r\n\" style=\"fill:none;stroke:#ff7f0e;stroke-linecap:square;stroke-width:1.5;\"/>\r\n    </g>\r\n    <g id=\"line2d_19\"/>\r\n    <g id=\"text_15\">\r\n     <!-- network outputs -->\r\n     <g transform=\"translate(81.845313 38.476562)scale(0.1 -0.1)\">\r\n      <defs>\r\n       <path d=\"M 269 3500 \r\nL 844 3500 \r\nL 1563 769 \r\nL 2278 3500 \r\nL 2956 3500 \r\nL 3675 769 \r\nL 4391 3500 \r\nL 4966 3500 \r\nL 4050 0 \r\nL 3372 0 \r\nL 2619 2869 \r\nL 1863 0 \r\nL 1184 0 \r\nL 269 3500 \r\nz\r\n\" id=\"DejaVuSans-77\" transform=\"scale(0.015625)\"/>\r\n       <path d=\"M 581 4863 \r\nL 1159 4863 \r\nL 1159 1991 \r\nL 2875 3500 \r\nL 3609 3500 \r\nL 1753 1863 \r\nL 3688 0 \r\nL 2938 0 \r\nL 1159 1709 \r\nL 1159 0 \r\nL 581 0 \r\nL 581 4863 \r\nz\r\n\" id=\"DejaVuSans-6b\" transform=\"scale(0.015625)\"/>\r\n       <path d=\"M 1159 525 \r\nL 1159 -1331 \r\nL 581 -1331 \r\nL 581 3500 \r\nL 1159 3500 \r\nL 1159 2969 \r\nQ 1341 3281 1617 3432 \r\nQ 1894 3584 2278 3584 \r\nQ 2916 3584 3314 3078 \r\nQ 3713 2572 3713 1747 \r\nQ 3713 922 3314 415 \r\nQ 2916 -91 2278 -91 \r\nQ 1894 -91 1617 61 \r\nQ 1341 213 1159 525 \r\nz\r\nM 3116 1747 \r\nQ 3116 2381 2855 2742 \r\nQ 2594 3103 2138 3103 \r\nQ 1681 3103 1420 2742 \r\nQ 1159 2381 1159 1747 \r\nQ 1159 1113 1420 752 \r\nQ 1681 391 2138 391 \r\nQ 2594 391 2855 752 \r\nQ 3116 1113 3116 1747 \r\nz\r\n\" id=\"DejaVuSans-70\" transform=\"scale(0.015625)\"/>\r\n       <path d=\"M 2834 3397 \r\nL 2834 2853 \r\nQ 2591 2978 2328 3040 \r\nQ 2066 3103 1784 3103 \r\nQ 1356 3103 1142 2972 \r\nQ 928 2841 928 2578 \r\nQ 928 2378 1081 2264 \r\nQ 1234 2150 1697 2047 \r\nL 1894 2003 \r\nQ 2506 1872 2764 1633 \r\nQ 3022 1394 3022 966 \r\nQ 3022 478 2636 193 \r\nQ 2250 -91 1575 -91 \r\nQ 1294 -91 989 -36 \r\nQ 684 19 347 128 \r\nL 347 722 \r\nQ 666 556 975 473 \r\nQ 1284 391 1588 391 \r\nQ 1994 391 2212 530 \r\nQ 2431 669 2431 922 \r\nQ 2431 1156 2273 1281 \r\nQ 2116 1406 1581 1522 \r\nL 1381 1569 \r\nQ 847 1681 609 1914 \r\nQ 372 2147 372 2553 \r\nQ 372 3047 722 3315 \r\nQ 1072 3584 1716 3584 \r\nQ 2034 3584 2315 3537 \r\nQ 2597 3491 2834 3397 \r\nz\r\n\" id=\"DejaVuSans-73\" transform=\"scale(0.015625)\"/>\r\n      </defs>\r\n      <use xlink:href=\"#DejaVuSans-6e\"/>\r\n      <use x=\"63.378906\" xlink:href=\"#DejaVuSans-65\"/>\r\n      <use x=\"124.902344\" xlink:href=\"#DejaVuSans-74\"/>\r\n      <use x=\"164.111328\" xlink:href=\"#DejaVuSans-77\"/>\r\n      <use x=\"245.898438\" xlink:href=\"#DejaVuSans-6f\"/>\r\n      <use x=\"307.080078\" xlink:href=\"#DejaVuSans-72\"/>\r\n      <use x=\"348.193359\" xlink:href=\"#DejaVuSans-6b\"/>\r\n      <use x=\"406.103516\" xlink:href=\"#DejaVuSans-20\"/>\r\n      <use x=\"437.890625\" xlink:href=\"#DejaVuSans-6f\"/>\r\n      <use x=\"499.072266\" xlink:href=\"#DejaVuSans-75\"/>\r\n      <use x=\"562.451172\" xlink:href=\"#DejaVuSans-74\"/>\r\n      <use x=\"601.660156\" xlink:href=\"#DejaVuSans-70\"/>\r\n      <use x=\"665.136719\" xlink:href=\"#DejaVuSans-75\"/>\r\n      <use x=\"728.515625\" xlink:href=\"#DejaVuSans-74\"/>\r\n      <use x=\"767.724609\" xlink:href=\"#DejaVuSans-73\"/>\r\n     </g>\r\n    </g>\r\n   </g>\r\n  </g>\r\n </g>\r\n <defs>\r\n  <clipPath id=\"pbf3017d784\">\r\n   <rect height=\"217.44\" width=\"334.8\" x=\"44.845313\" y=\"7.2\"/>\r\n  </clipPath>\r\n </defs>\r\n</svg>\r\n",
            "image/png": "[encoded data removed]"
          },
          "metadata": {
            "needs_background": "light"
          }
        }
      ]
    },
    {
      "cell_type": "code",
      "metadata": {
        "tags": [],
        "id": "0JhL-1jU8k1G"
      },
      "source": [
        "params=[\n",
        "        {\n",
        "         'hidden_units': [[10]],\n",
        "         'learning_rate': [5e-02, 1e-02],\n",
        "         'alpha': [5e-01, 9e-01],\n",
        "         'lambda' : [0],\n",
        "         \"weights_range\": [.7],\n",
        "         \"weights_scale\": [2], # numero cifre decimali pesi\n",
        "         \"Nu\":[1],\n",
        "         \"Ny\":[1],\n",
        "         'activation': ['tanh'],\n",
        "         \"f_out\":['ide'],\n",
        "         \"loss\":['squared_error'],\n",
        "         \"error\":['MSE']\n",
        "        }\n",
        "      ]\n",
        "\n",
        "def xy(set):\n",
        "    return set[:,0].reshape(-1,1), set[:,1].reshape(-1,1)\n",
        "\n",
        "k_fold_CV(data, params, k=4, n_init=5, max_epochs=1000, measure_interval=10, tresh=.1,xy=xy)"
      ],
      "execution_count": 7,
      "outputs": [
        {
          "output_type": "stream",
          "name": "stdout",
          "text": [
            "testing 4 configurations\n",
            "testing configuration {'hidden_units': [10], 'learning_rate': 0.05, 'alpha': 0.5, 'lambda': 0, 'weights_range': 0.7, 'weights_scale': 2, 'Nu': 1, 'Ny': 1, 'activation': 'tanh', 'f_out': 'ide', 'loss': 'squared_error', 'error': 'MSE'}, 0/4\n",
            "initialization 0\n",
            " (225, 1), (225, 1), (75, 1), (75, 1) \n",
            "fold 0 done, error 2.2802419314048565\n",
            " (225, 1), (225, 1), (75, 1), (75, 1) \n",
            "fold 1 done, error 1.1467889314440518\n",
            " (225, 1), (225, 1), (75, 1), (75, 1) \n"
          ]
        },
        {
          "output_type": "error",
          "ename": "KeyboardInterrupt",
          "evalue": "",
          "traceback": [
            "\u001b[1;31m---------------------------------------------------------------------------\u001b[0m",
            "\u001b[1;31mKeyboardInterrupt\u001b[0m                         Traceback (most recent call last)",
            "\u001b[1;32m<ipython-input-7-3d34981019f2>\u001b[0m in \u001b[0;36m<module>\u001b[1;34m\u001b[0m\n\u001b[0;32m     19\u001b[0m     \u001b[1;32mreturn\u001b[0m \u001b[0mset\u001b[0m\u001b[1;33m[\u001b[0m\u001b[1;33m:\u001b[0m\u001b[1;33m,\u001b[0m\u001b[1;36m0\u001b[0m\u001b[1;33m]\u001b[0m\u001b[1;33m.\u001b[0m\u001b[0mreshape\u001b[0m\u001b[1;33m(\u001b[0m\u001b[1;33m-\u001b[0m\u001b[1;36m1\u001b[0m\u001b[1;33m,\u001b[0m\u001b[1;36m1\u001b[0m\u001b[1;33m)\u001b[0m\u001b[1;33m,\u001b[0m \u001b[0mset\u001b[0m\u001b[1;33m[\u001b[0m\u001b[1;33m:\u001b[0m\u001b[1;33m,\u001b[0m\u001b[1;36m1\u001b[0m\u001b[1;33m]\u001b[0m\u001b[1;33m.\u001b[0m\u001b[0mreshape\u001b[0m\u001b[1;33m(\u001b[0m\u001b[1;33m-\u001b[0m\u001b[1;36m1\u001b[0m\u001b[1;33m,\u001b[0m\u001b[1;36m1\u001b[0m\u001b[1;33m)\u001b[0m\u001b[1;33m\u001b[0m\u001b[1;33m\u001b[0m\u001b[0m\n\u001b[0;32m     20\u001b[0m \u001b[1;33m\u001b[0m\u001b[0m\n\u001b[1;32m---> 21\u001b[1;33m \u001b[0mk_fold_CV\u001b[0m\u001b[1;33m(\u001b[0m\u001b[0mdata\u001b[0m\u001b[1;33m,\u001b[0m \u001b[0mparams\u001b[0m\u001b[1;33m,\u001b[0m \u001b[0mk\u001b[0m\u001b[1;33m=\u001b[0m\u001b[1;36m4\u001b[0m\u001b[1;33m,\u001b[0m \u001b[0mn_init\u001b[0m\u001b[1;33m=\u001b[0m\u001b[1;36m5\u001b[0m\u001b[1;33m,\u001b[0m \u001b[0mmax_epochs\u001b[0m\u001b[1;33m=\u001b[0m\u001b[1;36m1000\u001b[0m\u001b[1;33m,\u001b[0m \u001b[0mmeasure_interval\u001b[0m\u001b[1;33m=\u001b[0m\u001b[1;36m10\u001b[0m\u001b[1;33m,\u001b[0m \u001b[0mtresh\u001b[0m\u001b[1;33m=\u001b[0m\u001b[1;36m.1\u001b[0m\u001b[1;33m,\u001b[0m\u001b[0mxy\u001b[0m\u001b[1;33m=\u001b[0m\u001b[0mxy\u001b[0m\u001b[1;33m)\u001b[0m\u001b[1;33m\u001b[0m\u001b[1;33m\u001b[0m\u001b[0m\n\u001b[0m",
            "\u001b[1;32mc:\\Users\\valer\\Desktop\\ML-Project\\gridSearch.py\u001b[0m in \u001b[0;36mk_fold_CV\u001b[1;34m(data, params, k, n_init, max_epochs, tresh, measure_interval, xy)\u001b[0m\n\u001b[0;32m    102\u001b[0m                 \u001b[1;31m# reset weights to initial values\u001b[0m\u001b[1;33m\u001b[0m\u001b[1;33m\u001b[0m\u001b[1;33m\u001b[0m\u001b[0m\n\u001b[0;32m    103\u001b[0m                 \u001b[0mn\u001b[0m\u001b[1;33m.\u001b[0m\u001b[0mw\u001b[0m \u001b[1;33m=\u001b[0m \u001b[0minit_w\u001b[0m\u001b[1;33m\u001b[0m\u001b[1;33m\u001b[0m\u001b[0m\n\u001b[1;32m--> 104\u001b[1;33m                 \u001b[0mn\u001b[0m\u001b[1;33m.\u001b[0m\u001b[0mtrain\u001b[0m\u001b[1;33m(\u001b[0m \u001b[0mtr_x\u001b[0m\u001b[1;33m,\u001b[0m \u001b[0mtr_y\u001b[0m\u001b[1;33m,\u001b[0m  \u001b[0mc\u001b[0m\u001b[1;33m[\u001b[0m\u001b[1;34m'learning_rate'\u001b[0m\u001b[1;33m]\u001b[0m\u001b[1;33m,\u001b[0m \u001b[0ma\u001b[0m\u001b[1;33m=\u001b[0m \u001b[0mc\u001b[0m\u001b[1;33m[\u001b[0m\u001b[1;34m'alpha'\u001b[0m\u001b[1;33m]\u001b[0m\u001b[1;33m,\u001b[0m \u001b[0ml\u001b[0m\u001b[1;33m=\u001b[0m\u001b[0mc\u001b[0m\u001b[1;33m[\u001b[0m\u001b[1;34m'lambda'\u001b[0m\u001b[1;33m]\u001b[0m\u001b[1;33m,\u001b[0m \u001b[0mmax_epochs\u001b[0m\u001b[1;33m=\u001b[0m\u001b[0mmax_epochs\u001b[0m\u001b[1;33m,\u001b[0m \u001b[0mtresh\u001b[0m\u001b[1;33m=\u001b[0m\u001b[0mtresh\u001b[0m\u001b[1;33m,\u001b[0m \u001b[0mmode\u001b[0m\u001b[1;33m=\u001b[0m\u001b[1;34m\"batch\"\u001b[0m\u001b[1;33m,\u001b[0m \u001b[0mshuffle_data\u001b[0m\u001b[1;33m=\u001b[0m\u001b[1;32mFalse\u001b[0m\u001b[1;33m,\u001b[0m \u001b[0mmeasure_interval\u001b[0m\u001b[1;33m=\u001b[0m\u001b[0mmeasure_interval\u001b[0m\u001b[1;33m,\u001b[0m \u001b[0mverbose\u001b[0m\u001b[1;33m=\u001b[0m\u001b[1;32mFalse\u001b[0m \u001b[1;33m)\u001b[0m \u001b[1;31m# train the network\u001b[0m\u001b[1;33m\u001b[0m\u001b[1;33m\u001b[0m\u001b[0m\n\u001b[0m\u001b[0;32m    105\u001b[0m \u001b[1;33m\u001b[0m\u001b[0m\n\u001b[0;32m    106\u001b[0m                 \u001b[1;31m# compute validation error and save it\u001b[0m\u001b[1;33m\u001b[0m\u001b[1;33m\u001b[0m\u001b[1;33m\u001b[0m\u001b[0m\n",
            "\u001b[1;32mc:\\Users\\valer\\Desktop\\ML-Project\\MLP.py\u001b[0m in \u001b[0;36mtrain\u001b[1;34m(self, train_x, train_y, eta, a, l, val_x, val_y, max_epochs, tresh, mode, shuffle_data, measure_interval, verbose)\u001b[0m\n\u001b[0;32m    250\u001b[0m \u001b[1;33m\u001b[0m\u001b[0m\n\u001b[0;32m    251\u001b[0m       \u001b[1;31m# execute an epoch of training\u001b[0m\u001b[1;33m\u001b[0m\u001b[1;33m\u001b[0m\u001b[1;33m\u001b[0m\u001b[0m\n\u001b[1;32m--> 252\u001b[1;33m       \u001b[0mold_deltas\u001b[0m \u001b[1;33m=\u001b[0m \u001b[0mepoch_f\u001b[0m\u001b[1;33m(\u001b[0m \u001b[0mold_deltas\u001b[0m\u001b[1;33m,\u001b[0m \u001b[0mtrain_x\u001b[0m\u001b[1;33m,\u001b[0m \u001b[0mtrain_y\u001b[0m\u001b[1;33m,\u001b[0m \u001b[0meta\u001b[0m\u001b[1;33m,\u001b[0m \u001b[0ma\u001b[0m\u001b[1;33m=\u001b[0m\u001b[0ma\u001b[0m\u001b[1;33m,\u001b[0m \u001b[0ml\u001b[0m\u001b[1;33m=\u001b[0m\u001b[0ml\u001b[0m \u001b[1;33m)\u001b[0m \u001b[1;31m# epoca di allenamento\u001b[0m\u001b[1;33m\u001b[0m\u001b[1;33m\u001b[0m\u001b[0m\n\u001b[0m\u001b[0;32m    253\u001b[0m \u001b[1;33m\u001b[0m\u001b[0m\n\u001b[0;32m    254\u001b[0m       \u001b[1;31m# after each measure_interval epochs of training do calculation:\u001b[0m\u001b[1;33m\u001b[0m\u001b[1;33m\u001b[0m\u001b[1;33m\u001b[0m\u001b[0m\n",
            "\u001b[1;32mc:\\Users\\valer\\Desktop\\ML-Project\\MLP.py\u001b[0m in \u001b[0;36mepoch_batch_BP\u001b[1;34m(self, old_deltas, train_x, train_y, eta, a, l)\u001b[0m\n\u001b[0;32m    213\u001b[0m     \u001b[1;31m# compute gradient summing over partial gradients\u001b[0m\u001b[1;33m\u001b[0m\u001b[1;33m\u001b[0m\u001b[1;33m\u001b[0m\u001b[0m\n\u001b[0;32m    214\u001b[0m     \u001b[0mcomp_grad\u001b[0m \u001b[1;33m=\u001b[0m \u001b[0mself\u001b[0m\u001b[1;33m.\u001b[0m\u001b[0mcompute_gradient\u001b[0m\u001b[1;33m\u001b[0m\u001b[1;33m\u001b[0m\u001b[0m\n\u001b[1;32m--> 215\u001b[1;33m     \u001b[0mp\u001b[0m \u001b[1;33m=\u001b[0m \u001b[0msum\u001b[0m\u001b[1;33m(\u001b[0m \u001b[0mmap\u001b[0m\u001b[1;33m(\u001b[0m \u001b[0mcomp_grad\u001b[0m\u001b[1;33m,\u001b[0m \u001b[0mzip\u001b[0m\u001b[1;33m(\u001b[0m \u001b[0mtrain_x\u001b[0m\u001b[1;33m,\u001b[0m\u001b[0mtrain_y\u001b[0m \u001b[1;33m)\u001b[0m \u001b[1;33m)\u001b[0m \u001b[1;33m)\u001b[0m\u001b[1;33m/\u001b[0m\u001b[0mN\u001b[0m\u001b[1;33m\u001b[0m\u001b[1;33m\u001b[0m\u001b[0m\n\u001b[0m\u001b[0;32m    216\u001b[0m \u001b[1;33m\u001b[0m\u001b[0m\n\u001b[0;32m    217\u001b[0m     \u001b[1;31m#compute deltas\u001b[0m\u001b[1;33m\u001b[0m\u001b[1;33m\u001b[0m\u001b[1;33m\u001b[0m\u001b[0m\n",
            "\u001b[1;32mc:\\Users\\valer\\Desktop\\ML-Project\\MLP.py\u001b[0m in \u001b[0;36mcompute_gradient\u001b[1;34m(self, p)\u001b[0m\n\u001b[0;32m    190\u001b[0m \u001b[1;33m\u001b[0m\u001b[0m\n\u001b[0;32m    191\u001b[0m     \u001b[1;31m# compute activations and potentials\u001b[0m\u001b[1;33m\u001b[0m\u001b[1;33m\u001b[0m\u001b[1;33m\u001b[0m\u001b[0m\n\u001b[1;32m--> 192\u001b[1;33m     \u001b[0ma\u001b[0m\u001b[1;33m,\u001b[0m \u001b[0mv\u001b[0m \u001b[1;33m=\u001b[0m \u001b[0mself\u001b[0m\u001b[1;33m.\u001b[0m\u001b[0mforward_pass\u001b[0m\u001b[1;33m(\u001b[0m \u001b[0mx\u001b[0m \u001b[1;33m)\u001b[0m\u001b[1;33m\u001b[0m\u001b[1;33m\u001b[0m\u001b[0m\n\u001b[0m\u001b[0;32m    193\u001b[0m \u001b[1;33m\u001b[0m\u001b[0m\n\u001b[0;32m    194\u001b[0m     \u001b[1;31m# compute error-propagation-coefficents\u001b[0m\u001b[1;33m\u001b[0m\u001b[1;33m\u001b[0m\u001b[1;33m\u001b[0m\u001b[0m\n",
            "\u001b[1;32mc:\\Users\\valer\\Desktop\\ML-Project\\MLP.py\u001b[0m in \u001b[0;36mforward_pass\u001b[1;34m(self, u)\u001b[0m\n\u001b[0;32m    157\u001b[0m     \u001b[0ma\u001b[0m\u001b[1;33m[\u001b[0m\u001b[1;36m0\u001b[0m\u001b[1;33m]\u001b[0m \u001b[1;33m=\u001b[0m \u001b[0mu\u001b[0m \u001b[1;31m# activation of input units is external input\u001b[0m\u001b[1;33m\u001b[0m\u001b[1;33m\u001b[0m\u001b[0m\n\u001b[0;32m    158\u001b[0m     \u001b[1;32mfor\u001b[0m \u001b[0mm\u001b[0m \u001b[1;32min\u001b[0m \u001b[0mrange\u001b[0m\u001b[1;33m(\u001b[0m\u001b[0mself\u001b[0m\u001b[1;33m.\u001b[0m\u001b[0mNl\u001b[0m\u001b[1;33m+\u001b[0m\u001b[1;36m1\u001b[0m\u001b[1;33m)\u001b[0m\u001b[1;33m:\u001b[0m\u001b[1;33m\u001b[0m\u001b[1;33m\u001b[0m\u001b[0m\n\u001b[1;32m--> 159\u001b[1;33m       \u001b[0mv\u001b[0m\u001b[1;33m[\u001b[0m\u001b[0mm\u001b[0m\u001b[1;33m+\u001b[0m\u001b[1;36m1\u001b[0m\u001b[1;33m]\u001b[0m \u001b[1;33m=\u001b[0m  \u001b[0mnp\u001b[0m\u001b[1;33m.\u001b[0m\u001b[0mdot\u001b[0m\u001b[1;33m(\u001b[0m \u001b[0mself\u001b[0m\u001b[1;33m.\u001b[0m\u001b[0mw\u001b[0m\u001b[1;33m[\u001b[0m\u001b[0mm\u001b[0m\u001b[1;33m]\u001b[0m \u001b[1;33m,\u001b[0m \u001b[0mnp\u001b[0m\u001b[1;33m.\u001b[0m\u001b[0mvstack\u001b[0m\u001b[1;33m(\u001b[0m\u001b[1;33m(\u001b[0m\u001b[0ma\u001b[0m\u001b[1;33m[\u001b[0m\u001b[0mm\u001b[0m\u001b[1;33m]\u001b[0m\u001b[1;33m,\u001b[0m\u001b[1;36m1\u001b[0m\u001b[1;33m)\u001b[0m\u001b[1;33m)\u001b[0m \u001b[1;33m)\u001b[0m \u001b[1;31m# activation of bias units is always 1\u001b[0m\u001b[1;33m\u001b[0m\u001b[1;33m\u001b[0m\u001b[0m\n\u001b[0m\u001b[0;32m    160\u001b[0m       \u001b[0ma\u001b[0m\u001b[1;33m[\u001b[0m\u001b[0mm\u001b[0m\u001b[1;33m+\u001b[0m\u001b[1;36m1\u001b[0m\u001b[1;33m]\u001b[0m \u001b[1;33m=\u001b[0m \u001b[0mself\u001b[0m\u001b[1;33m.\u001b[0m\u001b[0mf\u001b[0m\u001b[1;33m[\u001b[0m\u001b[0mm\u001b[0m\u001b[1;33m+\u001b[0m\u001b[1;36m1\u001b[0m\u001b[1;33m]\u001b[0m\u001b[1;33m(\u001b[0m\u001b[0mv\u001b[0m\u001b[1;33m[\u001b[0m\u001b[0mm\u001b[0m\u001b[1;33m+\u001b[0m\u001b[1;36m1\u001b[0m\u001b[1;33m]\u001b[0m\u001b[1;33m)\u001b[0m\u001b[1;33m\u001b[0m\u001b[1;33m\u001b[0m\u001b[0m\n\u001b[0;32m    161\u001b[0m     \u001b[1;32mreturn\u001b[0m \u001b[0ma\u001b[0m\u001b[1;33m,\u001b[0m\u001b[0mv\u001b[0m\u001b[1;33m\u001b[0m\u001b[1;33m\u001b[0m\u001b[0m\n",
            "\u001b[1;32m<__array_function__ internals>\u001b[0m in \u001b[0;36mvstack\u001b[1;34m(*args, **kwargs)\u001b[0m\n",
            "\u001b[1;32m~\\AppData\\Local\\Programs\\Python\\Python39\\lib\\site-packages\\numpy\\core\\shape_base.py\u001b[0m in \u001b[0;36mvstack\u001b[1;34m(tup)\u001b[0m\n\u001b[0;32m    281\u001b[0m     \u001b[1;32mif\u001b[0m \u001b[1;32mnot\u001b[0m \u001b[0misinstance\u001b[0m\u001b[1;33m(\u001b[0m\u001b[0marrs\u001b[0m\u001b[1;33m,\u001b[0m \u001b[0mlist\u001b[0m\u001b[1;33m)\u001b[0m\u001b[1;33m:\u001b[0m\u001b[1;33m\u001b[0m\u001b[1;33m\u001b[0m\u001b[0m\n\u001b[0;32m    282\u001b[0m         \u001b[0marrs\u001b[0m \u001b[1;33m=\u001b[0m \u001b[1;33m[\u001b[0m\u001b[0marrs\u001b[0m\u001b[1;33m]\u001b[0m\u001b[1;33m\u001b[0m\u001b[1;33m\u001b[0m\u001b[0m\n\u001b[1;32m--> 283\u001b[1;33m     \u001b[1;32mreturn\u001b[0m \u001b[0m_nx\u001b[0m\u001b[1;33m.\u001b[0m\u001b[0mconcatenate\u001b[0m\u001b[1;33m(\u001b[0m\u001b[0marrs\u001b[0m\u001b[1;33m,\u001b[0m \u001b[1;36m0\u001b[0m\u001b[1;33m)\u001b[0m\u001b[1;33m\u001b[0m\u001b[1;33m\u001b[0m\u001b[0m\n\u001b[0m\u001b[0;32m    284\u001b[0m \u001b[1;33m\u001b[0m\u001b[0m\n\u001b[0;32m    285\u001b[0m \u001b[1;33m\u001b[0m\u001b[0m\n",
            "\u001b[1;32m<__array_function__ internals>\u001b[0m in \u001b[0;36mconcatenate\u001b[1;34m(*args, **kwargs)\u001b[0m\n",
            "\u001b[1;31mKeyboardInterrupt\u001b[0m: "
          ]
        }
      ]
    },
    {
      "cell_type": "markdown",
      "metadata": {
        "id": "boJeS78mBZF6"
      },
      "source": [
        "\n",
        "# Monk test 1"
      ]
    },
    {
      "cell_type": "code",
      "metadata": {
        "id": "VOvPimqR3yoQ"
      },
      "source": [
        "import pandas as pd\n",
        "\n",
        "data = pd.read_csv('monks-1.train',sep=' ',index_col=8)\n",
        "data = data.drop(columns = data.columns[0])\n",
        "data = data.to_numpy()\n",
        "\n",
        "ty = data[:100,0] ; ty = to_categorical(ty).reshape(-1,2,1)\n",
        "tx = data[:100,1:]\n",
        "\n",
        "vy = data[100:,0] ; vy = to_categorical(vy).reshape(-1,2,1)\n",
        "vx = data[100:,1:]"
      ],
      "execution_count": null,
      "outputs": []
    },
    {
      "cell_type": "code",
      "metadata": {
        "id": "9vNnfPzPBZMP"
      },
      "source": [
        "from scipy.special import softmax\n",
        "\n",
        "n = MLP(  Nh=[30,10], Nu=6, Ny=2, f='relu', f_out='softmax', w_scale=5, loss='cross_entropy', error='cross_entropy')\n",
        "outs = n.supply_sequence(tx)\n",
        "print( n.error(outs,ty))"
      ],
      "execution_count": null,
      "outputs": []
    },
    {
      "cell_type": "code",
      "metadata": {
        "id": "zxFdqrCgDuUU"
      },
      "source": [
        "e, v = n.train(tx, ty, 5e-02,\n",
        "  a = 1e-6,\n",
        "  l = 1e-9,\n",
        "  val_x = vx,\n",
        "  val_y = vy,\n",
        "  max_epochs = 1000,\n",
        "  tresh = 1e-03,\n",
        "  measure_interval = 10 )\n",
        "\n",
        "plt.plot(e)\n",
        "plt.plot(v)"
      ],
      "execution_count": null,
      "outputs": []
    },
    {
      "cell_type": "code",
      "metadata": {
        "id": "og_xCSw18k1I"
      },
      "source": [
        "data = read_dataset( filename='./monk_tests/monks-1.train', id_col=8 )\n",
        "\n",
        "params=[\n",
        "        {\n",
        "         'hidden_units': [[10],[25],[50]],\n",
        "         'learning_rate': [1e-01, 1e-02, 1e-03],\n",
        "         'alpha': [1e-01, 1e-02, 1e-03, 0],\n",
        "         'lambda' : [1e-01, 1e-02, 1e-03, 1e-10, 1e-12, 0],\n",
        "         'activation': ['relu', 'tanh'],\n",
        "         \"weights_range\": [0.7],\n",
        "         \"weights_scale\": [2],\n",
        "         \"Nu\":[6],\n",
        "         \"Ny\":[2],\n",
        "         'activation': ['tanh'],\n",
        "         \"f_out\":['ide'],\n",
        "         \"loss\":['squared_error'],\n",
        "         \"error\":['MSE']\n",
        "        }\n",
        "      ]\n",
        "\n",
        "def xy_monk1(set):\n",
        "    x,y = set[:,1:] , set[:,:1]\n",
        "    y = to_categorical(y).reshape(-1,2,1)\n",
        "    return x,y\n",
        "\n",
        "k_fold_CV(data, params, k=2, n_init=2, max_epochs=1000, measure_interval=50, tresh=.1,xy=xy_monk1)"
      ],
      "execution_count": null,
      "outputs": []
    },
    {
      "cell_type": "markdown",
      "metadata": {
        "id": "Vl9i8TmBF6rG"
      },
      "source": [
        "# Monk test 2\n"
      ]
    },
    {
      "cell_type": "code",
      "metadata": {
        "id": "AsjR7UoY5QtR"
      },
      "source": [
        "import pandas as pd\n",
        "data = pd.read_csv('monks-2.train',sep=' ',index_col=8)\n",
        "data = data.drop(columns = data.columns[0])\n",
        "data = data.to_numpy()\n",
        "\n",
        "ty = data[:100,0] ; ty[ty==0] = ty[ty==0]-1\n",
        "tx = data[:100,1:]\n",
        "\n",
        "vy = data[100:,0] ; vy[vy==0] = vy[vy==0]-1\n",
        "vx = data[100:,1:] \n",
        "\n",
        "n = MLP(  Nh=[30,100], Nu=6, Ny=2, f=relu, f_out=softmax, w_scale=.7 ,loss=cross_entropy)\n",
        "outs = n.supply_sequence(tx)\n",
        "print( MSE(outs,ty))\n",
        "\n",
        "e, v = n.train(tx, ty, 5e-02,\n",
        "  a = 1e-6,\n",
        "  l = 1e-12,\n",
        "  val_x = vx,\n",
        "  val_y = vy,\n",
        "  max_epochs = 1000,\n",
        "  tresh = 1e-03,\n",
        "  epoch_f = n.epoch_batch_BP,\n",
        "  measure_interval = 10 )\n",
        "\n",
        "plt.plot(e)\n",
        "plt.plot(v)"
      ],
      "execution_count": null,
      "outputs": []
    },
    {
      "cell_type": "markdown",
      "metadata": {
        "id": "-NU7JmZAdj4I"
      },
      "source": [
        "# cup"
      ]
    },
    {
      "cell_type": "code",
      "metadata": {
        "id": "i9QCwPUTGsKB",
        "colab": {
          "base_uri": "https://localhost:8080/"
        },
        "outputId": "c82e2d5b-98c0-473d-de9d-7706a80d69d5"
      },
      "source": [
        "data = pd.read_csv('cup/ML-CUP20-TR.csv',sep=',',index_col=0)\n",
        "data = data.to_numpy()\n",
        "\n",
        "tx = data[:,:-2]\n",
        "ty = data[:,-2:]\n",
        "\n",
        "def xy_monk1(data):\n",
        "    x = data[:,:-2]\n",
        "    y = data[:,-2:]\n",
        "    return x,y\n",
        "\n",
        "tx.shape, ty.shape"
      ],
      "execution_count": 4,
      "outputs": [
        {
          "output_type": "execute_result",
          "data": {
            "text/plain": [
              "((1523, 10), (1523, 2))"
            ]
          },
          "metadata": {},
          "execution_count": 4
        }
      ]
    },
    {
      "cell_type": "code",
      "metadata": {
        "colab": {
          "base_uri": "https://localhost:8080/",
          "height": 282
        },
        "id": "DXurjI40dj4J",
        "outputId": "285bbc51-3ccc-42fc-de81-fbeddf17c92e"
      },
      "source": [
        "n = MLP(  Nh=[50,30], Nu=10, Ny=2, f='tanh', f_out='ide', w_scale=2, w_range=.7)\n",
        "print('init', n.test_error(tx,ty))\n",
        "print( )\n",
        "\n",
        "e, _ = n.train(tx, ty, 1e-03,\n",
        "  a = 9e-01,\n",
        "  l = 1e-12,\n",
        "  max_epochs = 1000,\n",
        "  tresh = .1,\n",
        "  measure_interval = 10 )\n",
        "clear_output()\n",
        "plt.plot(e,label = 'train')\n",
        "print( n.test_error(tx,ty))"
      ],
      "execution_count": 22,
      "outputs": [
        {
          "output_type": "stream",
          "text": [
            "5.720977765179693\n"
          ],
          "name": "stdout"
        },
        {
          "output_type": "display_data",
          "data": {
            "image/png": "[encoded data removed]",
            "text/plain": [
              "<Figure size 432x288 with 1 Axes>"
            ]
          },
          "metadata": {
            "tags": [],
            "needs_background": "light"
          }
        }
      ]
    },
    {
      "cell_type": "code",
      "metadata": {
        "colab": {
          "base_uri": "https://localhost:8080/"
        },
        "id": "q0HgNFahdxDV",
        "outputId": "92b2ca99-3120-46d5-fa55-ccfde409f826",
        "tags": [
          "outputPrepend"
        ]
      },
      "source": [
        "params=[\n",
        "        {\n",
        "         'hidden_units': [[50,30]],\n",
        "         'learning_rate': [5e-02, 1e-02, 1e-03],\n",
        "         'alpha': [5e-01, 9e-01],\n",
        "         'lambda' : [1e-12,1e-5],\n",
        "         \"weights_range\": [.7],\n",
        "         \"weights_scale\": [2], # numero cifre decimali pesi\n",
        "         \"Nu\":[10],\n",
        "         \"Ny\":[2],\n",
        "         'activation': ['tanh'],\n",
        "         \"f_out\":['ide'],\n",
        "         \"loss\":['squared_error'],\n",
        "         \"error\":['MSE']\n",
        "        }\n",
        "      ]\n",
        "\n",
        "def xy(data):\n",
        "    x = data[:,:-2]\n",
        "    y = data[:,-2:]\n",
        "    return x,y\n",
        "\n",
        "\n",
        "c,e = k_fold_CV(data, params, k=3, n_init=5, max_epochs=1000, measure_interval=10, tresh=.1,xy=xy)"
      ],
      "execution_count": 5,
      "outputs": [
        {
          "output_type": "stream",
          "name": "stdout",
          "text": [
            "configuration {'hidden_units': [50, 30], 'learning_rate': 0.05, 'alpha': 0.5, 'lambda': 1e-05, 'weights_range': 0.7, 'weights_scale': 2, 'Nu': 10, 'Ny': 2, 'activation': 'tanh', 'f_out': 'ide', 'loss': 'squared_error', 'error': 'MSE'}, 1/12\n",
            "initialization 0\n",
            " (1015, 10), (1015, 2), (508, 10), (508, 2) \n",
            "fold 0 done, error 10.998038476865627\n",
            " (1015, 10), (1015, 2), (508, 10), (508, 2) \n",
            "fold 1 done, error 8.679292674352558\n",
            " (1016, 10), (1016, 2), (507, 10), (507, 2) \n",
            "fold 2 done, error 8.34174947428354\n",
            "initialization 1\n",
            " (1015, 10), (1015, 2), (508, 10), (508, 2) \n",
            "fold 0 done, error 9.404520889572117\n",
            " (1015, 10), (1015, 2), (508, 10), (508, 2) \n",
            "fold 1 done, error 7.738359052388096\n",
            " (1016, 10), (1016, 2), (507, 10), (507, 2) \n",
            "fold 2 done, error 7.878358437089734\n",
            "initialization 2\n",
            " (1015, 10), (1015, 2), (508, 10), (508, 2) \n",
            "fold 0 done, error 9.588485484606428\n",
            " (1015, 10), (1015, 2), (508, 10), (508, 2) \n",
            "fold 1 done, error 8.55520337856086\n",
            " (1016, 10), (1016, 2), (507, 10), (507, 2) \n",
            "fold 2 done, error 7.673144273692977\n",
            "initialization 3\n",
            " (1015, 10), (1015, 2), (508, 10), (508, 2) \n",
            "fold 0 done, error 12.64458550944281\n",
            " (1015, 10), (1015, 2), (508, 10), (508, 2) \n",
            "fold 1 done, error 13.270402578089865\n",
            " (1016, 10), (1016, 2), (507, 10), (507, 2) \n",
            "fold 2 done, error 10.406116827509434\n",
            "initialization 4\n",
            " (1015, 10), (1015, 2), (508, 10), (508, 2) \n",
            "fold 0 done, error 17.15346715158553\n",
            " (1015, 10), (1015, 2), (508, 10), (508, 2) \n",
            "fold 1 done, error 13.003196346658436\n",
            " (1016, 10), (1016, 2), (507, 10), (507, 2) \n",
            "fold 2 done, error 11.114099328688576\n",
            "best config {'hidden_units': [50, 30], 'learning_rate': 0.05, 'alpha': 0.5, 'lambda': 1e-05, 'weights_range': 0.7, 'weights_scale': 2, 'Nu': 10, 'Ny': 2, 'activation': 'tanh', 'f_out': 'ide', 'loss': 'squared_error', 'error': 'MSE'}: 8.340412793016649\n",
            "testing configuration {'hidden_units': [50, 30], 'learning_rate': 0.05, 'alpha': 0.9, 'lambda': 1e-12, 'weights_range': 0.7, 'weights_scale': 2, 'Nu': 10, 'Ny': 2, 'activation': 'tanh', 'f_out': 'ide', 'loss': 'squared_error', 'error': 'MSE'}, 2/12\n",
            "initialization 0\n",
            " (1015, 10), (1015, 2), (508, 10), (508, 2) \n",
            "fold 0 done, error 28.309870854569688\n",
            " (1015, 10), (1015, 2), (508, 10), (508, 2) \n",
            "fold 1 done, error 22.793164025859884\n",
            " (1016, 10), (1016, 2), (507, 10), (507, 2) \n",
            "fold 2 done, error 47.17189219163387\n",
            "initialization 1\n",
            " (1015, 10), (1015, 2), (508, 10), (508, 2) \n",
            "fold 0 done, error 38.54610139850151\n",
            " (1015, 10), (1015, 2), (508, 10), (508, 2) \n",
            "fold 1 done, error 25.587589144663216\n",
            " (1016, 10), (1016, 2), (507, 10), (507, 2) \n",
            "fold 2 done, error 17.60540645734952\n",
            "initialization 2\n",
            " (1015, 10), (1015, 2), (508, 10), (508, 2) \n",
            "fold 0 done, error 25.893552606380574\n",
            " (1015, 10), (1015, 2), (508, 10), (508, 2) \n",
            "fold 1 done, error 22.45192996766713\n",
            " (1016, 10), (1016, 2), (507, 10), (507, 2) \n",
            "fold 2 done, error 16.584519685233765\n",
            "initialization 3\n",
            " (1015, 10), (1015, 2), (508, 10), (508, 2) \n",
            "fold 0 done, error 22.162514784875214\n",
            " (1015, 10), (1015, 2), (508, 10), (508, 2) \n",
            "fold 1 done, error 18.84011413132073\n",
            " (1016, 10), (1016, 2), (507, 10), (507, 2) \n",
            "fold 2 done, error 15.075138129776265\n",
            "initialization 4\n",
            " (1015, 10), (1015, 2), (508, 10), (508, 2) \n",
            "fold 0 done, error 81.97149739312421\n",
            " (1015, 10), (1015, 2), (508, 10), (508, 2) \n",
            "fold 1 done, error 63.23833524091303\n",
            " (1016, 10), (1016, 2), (507, 10), (507, 2) \n",
            "fold 2 done, error 68.57052320541138\n",
            "best config {'hidden_units': [50, 30], 'learning_rate': 0.05, 'alpha': 0.9, 'lambda': 1e-12, 'weights_range': 0.7, 'weights_scale': 2, 'Nu': 10, 'Ny': 2, 'activation': 'tanh', 'f_out': 'ide', 'loss': 'squared_error', 'error': 'MSE'}: 8.340412793016649\n",
            "testing configuration {'hidden_units': [50, 30], 'learning_rate': 0.05, 'alpha': 0.9, 'lambda': 1e-05, 'weights_range': 0.7, 'weights_scale': 2, 'Nu': 10, 'Ny': 2, 'activation': 'tanh', 'f_out': 'ide', 'loss': 'squared_error', 'error': 'MSE'}, 3/12\n",
            "initialization 0\n",
            " (1015, 10), (1015, 2), (508, 10), (508, 2) \n",
            "fold 0 done, error 38.954219244932276\n",
            " (1015, 10), (1015, 2), (508, 10), (508, 2) \n",
            "fold 1 done, error 34.98844882803968\n",
            " (1016, 10), (1016, 2), (507, 10), (507, 2) \n",
            "fold 2 done, error 32.97646000730913\n",
            "initialization 1\n",
            " (1015, 10), (1015, 2), (508, 10), (508, 2) \n",
            "fold 0 done, error 24.003066558531003\n",
            " (1015, 10), (1015, 2), (508, 10), (508, 2) \n",
            "fold 1 done, error 18.477796065952923\n",
            " (1016, 10), (1016, 2), (507, 10), (507, 2) \n",
            "fold 2 done, error 19.111794175815657\n",
            "initialization 2\n",
            " (1015, 10), (1015, 2), (508, 10), (508, 2) \n",
            "fold 0 done, error 15.084353427754357\n",
            " (1015, 10), (1015, 2), (508, 10), (508, 2) \n",
            "fold 1 done, error 13.427597823112942\n",
            " (1016, 10), (1016, 2), (507, 10), (507, 2) \n",
            "fold 2 done, error 12.637822677755388\n",
            "initialization 3\n",
            " (1015, 10), (1015, 2), (508, 10), (508, 2) \n",
            "fold 0 done, error 22.465826335186268\n",
            " (1015, 10), (1015, 2), (508, 10), (508, 2) \n",
            "fold 1 done, error 16.942994305139326\n",
            " (1016, 10), (1016, 2), (507, 10), (507, 2) \n",
            "fold 2 done, error 15.112523000911787\n",
            "initialization 4\n",
            " (1015, 10), (1015, 2), (508, 10), (508, 2) \n",
            "fold 0 done, error 96.74326611066573\n",
            " (1015, 10), (1015, 2), (508, 10), (508, 2) \n",
            "fold 1 done, error 43.410314444307964\n",
            " (1016, 10), (1016, 2), (507, 10), (507, 2) \n",
            "fold 2 done, error 20.769508406572264\n",
            "best config {'hidden_units': [50, 30], 'learning_rate': 0.05, 'alpha': 0.9, 'lambda': 1e-05, 'weights_range': 0.7, 'weights_scale': 2, 'Nu': 10, 'Ny': 2, 'activation': 'tanh', 'f_out': 'ide', 'loss': 'squared_error', 'error': 'MSE'}: 8.340412793016649\n",
            "testing configuration {'hidden_units': [50, 30], 'learning_rate': 0.01, 'alpha': 0.5, 'lambda': 1e-12, 'weights_range': 0.7, 'weights_scale': 2, 'Nu': 10, 'Ny': 2, 'activation': 'tanh', 'f_out': 'ide', 'loss': 'squared_error', 'error': 'MSE'}, 4/12\n",
            "initialization 0\n",
            " (1015, 10), (1015, 2), (508, 10), (508, 2) \n",
            "fold 0 done, error 7.9878374381149575\n",
            " (1015, 10), (1015, 2), (508, 10), (508, 2) \n",
            "fold 1 done, error 6.488875469985589\n",
            " (1016, 10), (1016, 2), (507, 10), (507, 2) \n",
            "fold 2 done, error 5.480530432314978\n",
            "initialization 1\n",
            " (1015, 10), (1015, 2), (508, 10), (508, 2) \n",
            "fold 0 done, error 8.038377402099805\n",
            " (1015, 10), (1015, 2), (508, 10), (508, 2) \n",
            "fold 1 done, error 7.030099229039049\n",
            " (1016, 10), (1016, 2), (507, 10), (507, 2) \n",
            "fold 2 done, error 4.834067373943245\n",
            "initialization 2\n",
            " (1015, 10), (1015, 2), (508, 10), (508, 2) \n",
            "fold 0 done, error 8.158709347650396\n",
            " (1015, 10), (1015, 2), (508, 10), (508, 2) \n",
            "fold 1 done, error 6.920001271252342\n",
            " (1016, 10), (1016, 2), (507, 10), (507, 2) \n",
            "fold 2 done, error 6.225926089913399\n",
            "initialization 3\n",
            " (1015, 10), (1015, 2), (508, 10), (508, 2) \n",
            "fold 0 done, error 8.062294358957335\n",
            " (1015, 10), (1015, 2), (508, 10), (508, 2) \n",
            "fold 1 done, error 6.668208958422808\n",
            " (1016, 10), (1016, 2), (507, 10), (507, 2) \n",
            "fold 2 done, error 5.734306462254596\n",
            "initialization 4\n",
            " (1015, 10), (1015, 2), (508, 10), (508, 2) \n",
            "fold 0 done, error 8.260154819500103\n",
            " (1015, 10), (1015, 2), (508, 10), (508, 2) \n",
            "fold 1 done, error 6.389806390455132\n",
            " (1016, 10), (1016, 2), (507, 10), (507, 2) \n",
            "fold 2 done, error 5.473363101646165\n",
            "best config {'hidden_units': [50, 30], 'learning_rate': 0.01, 'alpha': 0.5, 'lambda': 1e-12, 'weights_range': 0.7, 'weights_scale': 2, 'Nu': 10, 'Ny': 2, 'activation': 'tanh', 'f_out': 'ide', 'loss': 'squared_error', 'error': 'MSE'}: 6.634181335027367\n",
            "testing configuration {'hidden_units': [50, 30], 'learning_rate': 0.01, 'alpha': 0.5, 'lambda': 1e-05, 'weights_range': 0.7, 'weights_scale': 2, 'Nu': 10, 'Ny': 2, 'activation': 'tanh', 'f_out': 'ide', 'loss': 'squared_error', 'error': 'MSE'}, 5/12\n",
            "initialization 0\n",
            " (1015, 10), (1015, 2), (508, 10), (508, 2) \n",
            "fold 0 done, error 7.945853217001477\n",
            " (1015, 10), (1015, 2), (508, 10), (508, 2) \n",
            "fold 1 done, error 6.496326950265578\n",
            " (1016, 10), (1016, 2), (507, 10), (507, 2) \n",
            "fold 2 done, error 5.922394066894779\n",
            "initialization 1\n",
            " (1015, 10), (1015, 2), (508, 10), (508, 2) \n",
            "fold 0 done, error 8.065834085771149\n",
            " (1015, 10), (1015, 2), (508, 10), (508, 2) \n",
            "fold 1 done, error 6.626858946209996\n",
            " (1016, 10), (1016, 2), (507, 10), (507, 2) \n",
            "fold 2 done, error 6.0412059298534375\n",
            "initialization 2\n",
            " (1015, 10), (1015, 2), (508, 10), (508, 2) \n",
            "fold 0 done, error 7.854084562351603\n",
            " (1015, 10), (1015, 2), (508, 10), (508, 2) \n",
            "fold 1 done, error 7.0215559113018235\n",
            " (1016, 10), (1016, 2), (507, 10), (507, 2) \n",
            "fold 2 done, error 6.304623029623387\n",
            "initialization 3\n",
            " (1015, 10), (1015, 2), (508, 10), (508, 2) \n",
            "fold 0 done, error 7.831325391714835\n",
            " (1015, 10), (1015, 2), (508, 10), (508, 2) \n",
            "fold 1 done, error 6.884984941088905\n",
            " (1016, 10), (1016, 2), (507, 10), (507, 2) \n",
            "fold 2 done, error 5.870951124874103\n",
            "initialization 4\n",
            " (1015, 10), (1015, 2), (508, 10), (508, 2) \n",
            "fold 0 done, error 7.817378621923268\n",
            " (1015, 10), (1015, 2), (508, 10), (508, 2) \n",
            "fold 1 done, error 6.899098935702853\n",
            " (1016, 10), (1016, 2), (507, 10), (507, 2) \n",
            "fold 2 done, error 5.689666001892663\n",
            "best config {'hidden_units': [50, 30], 'learning_rate': 0.01, 'alpha': 0.5, 'lambda': 1e-05, 'weights_range': 0.7, 'weights_scale': 2, 'Nu': 10, 'Ny': 2, 'activation': 'tanh', 'f_out': 'ide', 'loss': 'squared_error', 'error': 'MSE'}: 6.634181335027367\n",
            "testing configuration {'hidden_units': [50, 30], 'learning_rate': 0.01, 'alpha': 0.9, 'lambda': 1e-12, 'weights_range': 0.7, 'weights_scale': 2, 'Nu': 10, 'Ny': 2, 'activation': 'tanh', 'f_out': 'ide', 'loss': 'squared_error', 'error': 'MSE'}, 6/12\n",
            "initialization 0\n",
            " (1015, 10), (1015, 2), (508, 10), (508, 2) \n",
            "fold 0 done, error 26.69479151153374\n",
            " (1015, 10), (1015, 2), (508, 10), (508, 2) \n",
            "fold 1 done, error 8.663111989614208\n",
            " (1016, 10), (1016, 2), (507, 10), (507, 2) \n",
            "fold 2 done, error 6.7411958646088745\n",
            "initialization 1\n",
            " (1015, 10), (1015, 2), (508, 10), (508, 2) \n",
            "fold 0 done, error 9.188457331197581\n",
            " (1015, 10), (1015, 2), (508, 10), (508, 2) \n",
            "fold 1 done, error 7.908776768551699\n",
            " (1016, 10), (1016, 2), (507, 10), (507, 2) \n",
            "fold 2 done, error 6.638721116578746\n",
            "initialization 2\n",
            " (1015, 10), (1015, 2), (508, 10), (508, 2) \n",
            "fold 0 done, error 8.489924143865206\n",
            " (1015, 10), (1015, 2), (508, 10), (508, 2) \n",
            "fold 1 done, error 8.552915357299668\n",
            " (1016, 10), (1016, 2), (507, 10), (507, 2) \n",
            "fold 2 done, error 6.915206084261526\n",
            "initialization 3\n",
            " (1015, 10), (1015, 2), (508, 10), (508, 2) \n",
            "fold 0 done, error 8.938810040850258\n",
            " (1015, 10), (1015, 2), (508, 10), (508, 2) \n",
            "fold 1 done, error 6.929868602952249\n",
            " (1016, 10), (1016, 2), (507, 10), (507, 2) \n",
            "fold 2 done, error 6.386761577949839\n",
            "initialization 4\n",
            " (1015, 10), (1015, 2), (508, 10), (508, 2) \n",
            "fold 0 done, error 9.22502882052303\n",
            " (1015, 10), (1015, 2), (508, 10), (508, 2) \n",
            "fold 1 done, error 8.1799376188447\n",
            " (1016, 10), (1016, 2), (507, 10), (507, 2) \n",
            "fold 2 done, error 7.851421058479038\n",
            "best config {'hidden_units': [50, 30], 'learning_rate': 0.01, 'alpha': 0.9, 'lambda': 1e-12, 'weights_range': 0.7, 'weights_scale': 2, 'Nu': 10, 'Ny': 2, 'activation': 'tanh', 'f_out': 'ide', 'loss': 'squared_error', 'error': 'MSE'}: 6.634181335027367\n",
            "testing configuration {'hidden_units': [50, 30], 'learning_rate': 0.01, 'alpha': 0.9, 'lambda': 1e-05, 'weights_range': 0.7, 'weights_scale': 2, 'Nu': 10, 'Ny': 2, 'activation': 'tanh', 'f_out': 'ide', 'loss': 'squared_error', 'error': 'MSE'}, 7/12\n",
            "initialization 0\n",
            " (1015, 10), (1015, 2), (508, 10), (508, 2) \n",
            "fold 0 done, error 8.79944791812176\n",
            " (1015, 10), (1015, 2), (508, 10), (508, 2) \n",
            "fold 1 done, error 7.67101406089779\n",
            " (1016, 10), (1016, 2), (507, 10), (507, 2) \n",
            "fold 2 done, error 7.1587991143765235\n",
            "initialization 1\n",
            " (1015, 10), (1015, 2), (508, 10), (508, 2) \n",
            "fold 0 done, error 9.463997448261157\n",
            " (1015, 10), (1015, 2), (508, 10), (508, 2) \n",
            "fold 1 done, error 8.854056597846522\n",
            " (1016, 10), (1016, 2), (507, 10), (507, 2) \n",
            "fold 2 done, error 7.840857855489851\n",
            "initialization 2\n",
            " (1015, 10), (1015, 2), (508, 10), (508, 2) \n",
            "fold 0 done, error 8.07043508350061\n",
            " (1015, 10), (1015, 2), (508, 10), (508, 2) \n",
            "fold 1 done, error 8.019944996414642\n",
            " (1016, 10), (1016, 2), (507, 10), (507, 2) \n",
            "fold 2 done, error 7.520901669681705\n",
            "initialization 3\n",
            " (1015, 10), (1015, 2), (508, 10), (508, 2) \n",
            "fold 0 done, error 10.817064286816297\n",
            " (1015, 10), (1015, 2), (508, 10), (508, 2) \n",
            "fold 1 done, error 9.957739080216795\n",
            " (1016, 10), (1016, 2), (507, 10), (507, 2) \n",
            "fold 2 done, error 8.49626822907953\n",
            "initialization 4\n",
            " (1015, 10), (1015, 2), (508, 10), (508, 2) \n",
            "fold 0 done, error 10.845059226101466\n",
            " (1015, 10), (1015, 2), (508, 10), (508, 2) \n",
            "fold 1 done, error 8.766204481355368\n",
            " (1016, 10), (1016, 2), (507, 10), (507, 2) \n",
            "fold 2 done, error 11.718947159483852\n",
            "best config {'hidden_units': [50, 30], 'learning_rate': 0.01, 'alpha': 0.9, 'lambda': 1e-05, 'weights_range': 0.7, 'weights_scale': 2, 'Nu': 10, 'Ny': 2, 'activation': 'tanh', 'f_out': 'ide', 'loss': 'squared_error', 'error': 'MSE'}: 6.634181335027367\n",
            "testing configuration {'hidden_units': [50, 30], 'learning_rate': 0.001, 'alpha': 0.5, 'lambda': 1e-12, 'weights_range': 0.7, 'weights_scale': 2, 'Nu': 10, 'Ny': 2, 'activation': 'tanh', 'f_out': 'ide', 'loss': 'squared_error', 'error': 'MSE'}, 8/12\n",
            "initialization 0\n",
            " (1015, 10), (1015, 2), (508, 10), (508, 2) \n",
            "fold 0 done, error 8.471973883873115\n",
            " (1015, 10), (1015, 2), (508, 10), (508, 2) \n",
            "fold 1 done, error 7.036854553350764\n",
            " (1016, 10), (1016, 2), (507, 10), (507, 2) \n",
            "fold 2 done, error 6.435598664516851\n",
            "initialization 1\n",
            " (1015, 10), (1015, 2), (508, 10), (508, 2) \n",
            "fold 0 done, error 8.31608821888256\n",
            " (1015, 10), (1015, 2), (508, 10), (508, 2) \n",
            "fold 1 done, error 7.240037998716695\n",
            " (1016, 10), (1016, 2), (507, 10), (507, 2) \n",
            "fold 2 done, error 6.115787866809331\n",
            "initialization 2\n",
            " (1015, 10), (1015, 2), (508, 10), (508, 2) \n",
            "fold 0 done, error 8.472078259198822\n",
            " (1015, 10), (1015, 2), (508, 10), (508, 2) \n",
            "fold 1 done, error 7.37222283232642\n",
            " (1016, 10), (1016, 2), (507, 10), (507, 2) \n",
            "fold 2 done, error 6.260185140591593\n",
            "initialization 3\n",
            " (1015, 10), (1015, 2), (508, 10), (508, 2) \n",
            "fold 0 done, error 8.509093734508305\n",
            " (1015, 10), (1015, 2), (508, 10), (508, 2) \n",
            "fold 1 done, error 7.206483710909116\n",
            " (1016, 10), (1016, 2), (507, 10), (507, 2) \n",
            "fold 2 done, error 6.368496907367248\n",
            "initialization 4\n",
            " (1015, 10), (1015, 2), (508, 10), (508, 2) \n",
            "fold 0 done, error 8.074809517583825\n",
            " (1015, 10), (1015, 2), (508, 10), (508, 2) \n",
            "fold 1 done, error 7.108618430931194\n",
            " (1016, 10), (1016, 2), (507, 10), (507, 2) \n",
            "fold 2 done, error 6.329010904547439\n",
            "best config {'hidden_units': [50, 30], 'learning_rate': 0.001, 'alpha': 0.5, 'lambda': 1e-12, 'weights_range': 0.7, 'weights_scale': 2, 'Nu': 10, 'Ny': 2, 'activation': 'tanh', 'f_out': 'ide', 'loss': 'squared_error', 'error': 'MSE'}: 6.634181335027367\n",
            "testing configuration {'hidden_units': [50, 30], 'learning_rate': 0.001, 'alpha': 0.5, 'lambda': 1e-05, 'weights_range': 0.7, 'weights_scale': 2, 'Nu': 10, 'Ny': 2, 'activation': 'tanh', 'f_out': 'ide', 'loss': 'squared_error', 'error': 'MSE'}, 9/12\n",
            "initialization 0\n",
            " (1015, 10), (1015, 2), (508, 10), (508, 2) \n",
            "fold 0 done, error 8.319263531499065\n",
            " (1015, 10), (1015, 2), (508, 10), (508, 2) \n",
            "fold 1 done, error 7.291633529104353\n",
            " (1016, 10), (1016, 2), (507, 10), (507, 2) \n",
            "fold 2 done, error 6.314858514616245\n",
            "initialization 1\n",
            " (1015, 10), (1015, 2), (508, 10), (508, 2) \n",
            "fold 0 done, error 8.55690631434513\n",
            " (1015, 10), (1015, 2), (508, 10), (508, 2) \n",
            "fold 1 done, error 7.117459479646549\n",
            " (1016, 10), (1016, 2), (507, 10), (507, 2) \n",
            "fold 2 done, error 6.322957656745897\n",
            "initialization 2\n",
            " (1015, 10), (1015, 2), (508, 10), (508, 2) \n",
            "fold 0 done, error 8.345769604611425\n",
            " (1015, 10), (1015, 2), (508, 10), (508, 2) \n",
            "fold 1 done, error 7.191656507786007\n",
            " (1016, 10), (1016, 2), (507, 10), (507, 2) \n",
            "fold 2 done, error 6.2209672184698785\n",
            "initialization 3\n",
            " (1015, 10), (1015, 2), (508, 10), (508, 2) \n",
            "fold 0 done, error 8.378059172651524\n",
            " (1015, 10), (1015, 2), (508, 10), (508, 2) \n",
            "fold 1 done, error 7.016469017019048\n",
            " (1016, 10), (1016, 2), (507, 10), (507, 2) \n",
            "fold 2 done, error 6.210605375500655\n",
            "initialization 4\n",
            " (1015, 10), (1015, 2), (508, 10), (508, 2) \n",
            "fold 0 done, error 8.841103142384377\n",
            " (1015, 10), (1015, 2), (508, 10), (508, 2) \n",
            "fold 1 done, error 7.498058576572818\n",
            " (1016, 10), (1016, 2), (507, 10), (507, 2) \n",
            "fold 2 done, error 6.142226665038436\n",
            "best config {'hidden_units': [50, 30], 'learning_rate': 0.001, 'alpha': 0.5, 'lambda': 1e-05, 'weights_range': 0.7, 'weights_scale': 2, 'Nu': 10, 'Ny': 2, 'activation': 'tanh', 'f_out': 'ide', 'loss': 'squared_error', 'error': 'MSE'}: 6.634181335027367\n",
            "testing configuration {'hidden_units': [50, 30], 'learning_rate': 0.001, 'alpha': 0.9, 'lambda': 1e-12, 'weights_range': 0.7, 'weights_scale': 2, 'Nu': 10, 'Ny': 2, 'activation': 'tanh', 'f_out': 'ide', 'loss': 'squared_error', 'error': 'MSE'}, 10/12\n",
            "initialization 0\n",
            " (1015, 10), (1015, 2), (508, 10), (508, 2) \n",
            "fold 0 done, error 7.583354179580985\n",
            " (1015, 10), (1015, 2), (508, 10), (508, 2) \n",
            "fold 1 done, error 6.763344515565836\n",
            " (1016, 10), (1016, 2), (507, 10), (507, 2) \n",
            "fold 2 done, error 5.801661532210649\n",
            "initialization 1\n",
            " (1015, 10), (1015, 2), (508, 10), (508, 2) \n",
            "fold 0 done, error 7.533313563458663\n",
            " (1015, 10), (1015, 2), (508, 10), (508, 2) \n",
            "fold 1 done, error 6.72710676507787\n",
            " (1016, 10), (1016, 2), (507, 10), (507, 2) \n",
            "fold 2 done, error 5.6834271458866334\n",
            "initialization 2\n",
            " (1015, 10), (1015, 2), (508, 10), (508, 2) \n",
            "fold 0 done, error 7.56127276391492\n",
            " (1015, 10), (1015, 2), (508, 10), (508, 2) \n",
            "fold 1 done, error 6.7014647131757235\n",
            " (1016, 10), (1016, 2), (507, 10), (507, 2) \n",
            "fold 2 done, error 5.55065945629766\n",
            "initialization 3\n",
            " (1015, 10), (1015, 2), (508, 10), (508, 2) \n",
            "fold 0 done, error 7.719245037312633\n",
            " (1015, 10), (1015, 2), (508, 10), (508, 2) \n",
            "fold 1 done, error 6.357152928475958\n",
            " (1016, 10), (1016, 2), (507, 10), (507, 2) \n",
            "fold 2 done, error 5.901398539465416\n",
            "initialization 4\n",
            " (1015, 10), (1015, 2), (508, 10), (508, 2) \n",
            "fold 0 done, error 7.40553484597882\n",
            " (1015, 10), (1015, 2), (508, 10), (508, 2) \n",
            "fold 1 done, error 6.431409057245188\n",
            " (1016, 10), (1016, 2), (507, 10), (507, 2) \n",
            "fold 2 done, error 5.577648597607878\n",
            "best config {'hidden_units': [50, 30], 'learning_rate': 0.001, 'alpha': 0.9, 'lambda': 1e-12, 'weights_range': 0.7, 'weights_scale': 2, 'Nu': 10, 'Ny': 2, 'activation': 'tanh', 'f_out': 'ide', 'loss': 'squared_error', 'error': 'MSE'}: 6.471530833610629\n",
            "testing configuration {'hidden_units': [50, 30], 'learning_rate': 0.001, 'alpha': 0.9, 'lambda': 1e-05, 'weights_range': 0.7, 'weights_scale': 2, 'Nu': 10, 'Ny': 2, 'activation': 'tanh', 'f_out': 'ide', 'loss': 'squared_error', 'error': 'MSE'}, 11/12\n",
            "initialization 0\n",
            " (1015, 10), (1015, 2), (508, 10), (508, 2) \n",
            "fold 0 done, error 82.23115024059489\n",
            " (1015, 10), (1015, 2), (508, 10), (508, 2) \n",
            "fold 1 done, error 7.4796563644480765\n",
            " (1016, 10), (1016, 2), (507, 10), (507, 2) \n",
            "fold 2 done, error 6.375273295749285\n",
            "initialization 1\n",
            " (1015, 10), (1015, 2), (508, 10), (508, 2) \n",
            "fold 0 done, error 7.2245930372712195\n",
            " (1015, 10), (1015, 2), (508, 10), (508, 2) \n",
            "fold 1 done, error 6.301519876851215\n",
            " (1016, 10), (1016, 2), (507, 10), (507, 2) \n",
            "fold 2 done, error 6.1058114692098036\n",
            "initialization 2\n",
            " (1015, 10), (1015, 2), (508, 10), (508, 2) \n",
            "fold 0 done, error 7.686999395990683\n",
            " (1015, 10), (1015, 2), (508, 10), (508, 2) \n",
            "fold 1 done, error 6.69424057856981\n",
            " (1016, 10), (1016, 2), (507, 10), (507, 2) \n",
            "fold 2 done, error 5.746965808585389\n",
            "initialization 3\n",
            " (1015, 10), (1015, 2), (508, 10), (508, 2) \n",
            "fold 0 done, error 7.327255990053687\n",
            " (1015, 10), (1015, 2), (508, 10), (508, 2) \n",
            "fold 1 done, error 6.555509191788262\n",
            " (1016, 10), (1016, 2), (507, 10), (507, 2) \n",
            "fold 2 done, error 5.784588448080421\n",
            "initialization 4\n",
            " (1015, 10), (1015, 2), (508, 10), (508, 2) \n",
            "fold 0 done, error 7.3864739945703315\n",
            " (1015, 10), (1015, 2), (508, 10), (508, 2) \n",
            "fold 1 done, error 6.382440522249656\n",
            " (1016, 10), (1016, 2), (507, 10), (507, 2) \n",
            "fold 2 done, error 5.608219887684211\n",
            "best config {'hidden_units': [50, 30], 'learning_rate': 0.001, 'alpha': 0.9, 'lambda': 1e-05, 'weights_range': 0.7, 'weights_scale': 2, 'Nu': 10, 'Ny': 2, 'activation': 'tanh', 'f_out': 'ide', 'loss': 'squared_error', 'error': 'MSE'}: 6.459044801501399\n"
          ]
        }
      ]
    },
    {
      "cell_type": "code",
      "metadata": {
        "id": "NI8uuzLYhuml"
      },
      "source": [
        "print(c)\n",
        "print(e)"
      ],
      "execution_count": 6,
      "outputs": [
        {
          "output_type": "stream",
          "name": "stdout",
          "text": [
            "{'hidden_units': [50, 30], 'learning_rate': 0.001, 'alpha': 0.9, 'lambda': 1e-05, 'weights_range': 0.7, 'weights_scale': 2, 'Nu': 10, 'Ny': 2, 'activation': 'tanh', 'f_out': 'ide', 'loss': 'squared_error', 'error': 'MSE'}\n6.459044801501399\n"
          ]
        }
      ]
    },
    {
      "cell_type": "code",
      "execution_count": null,
      "metadata": {},
      "outputs": [],
      "source": [
        "params=[ \n",
        "        {\n",
        "         'hidden_units': [[50]],\n",
        "         'learning_rate': [5e-02, 1e-02, 1e-03],\n",
        "         'alpha': [5e-01, 9e-01],\n",
        "         'lambda' : [1e-12,1e-5],\n",
        "         \"weights_range\": [.7],\n",
        "         \"weights_scale\": [2], # numero cifre decimali pesi\n",
        "         \"Nu\":[10],\n",
        "         \"Ny\":[2],\n",
        "         'activation': ['tanh'],\n",
        "         \"f_out\":['ide'],\n",
        "         \"loss\":['squared_error'],\n",
        "         \"error\":['MSE']\n",
        "        }\n",
        "      ]\n",
        "\n",
        "def xy(data):\n",
        "    x = data[:,:-2]\n",
        "    y = data[:,-2:]\n",
        "    return x,y\n",
        "\n",
        "\n",
        "c,e = k_fold_CV(data, params, k=3, n_init=5, max_epochs=1000, measure_interval=10, tresh=.1,xy=xy)"
      ]
    },
    {
      "cell_type": "code",
      "execution_count": null,
      "metadata": {},
      "outputs": [],
      "source": [
        "print(c)\n",
        "print(e)"
      ]
    },
    {
      "cell_type": "code",
      "execution_count": null,
      "metadata": {},
      "outputs": [],
      "source": [
        "params=[\n",
        "        {\n",
        "         'hidden_units': [[64,32]],\n",
        "         'learning_rate': [5e-02, 1e-02, 1e-03],\n",
        "         'alpha': [5e-01, 9e-01],\n",
        "         'lambda' : [1e-12,1e-5],\n",
        "         \"weights_range\": [.7],\n",
        "         \"weights_scale\": [2], # numero cifre decimali pesi\n",
        "         \"Nu\":[10],\n",
        "         \"Ny\":[2],\n",
        "         'activation': ['tanh'],\n",
        "         \"f_out\":['ide'],\n",
        "         \"loss\":['squared_error'],\n",
        "         \"error\":['MSE']\n",
        "        }\n",
        "      ]\n",
        "\n",
        "def xy(data):\n",
        "    x = data[:,:-2]\n",
        "    y = data[:,-2:]\n",
        "    return x,y\n",
        "\n",
        "\n",
        "c,e = k_fold_CV(data, params, k=3, n_init=5, max_epochs=1000, measure_interval=10, tresh=.1,xy=xy)"
      ]
    },
    {
      "cell_type": "code",
      "execution_count": null,
      "metadata": {},
      "outputs": [],
      "source": [
        "print(c)\n",
        "print(e)"
      ]
    },
    {
      "cell_type": "code",
      "execution_count": null,
      "metadata": {},
      "outputs": [],
      "source": []
    }
  ]
}