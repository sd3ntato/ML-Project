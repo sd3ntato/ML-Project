{
  "nbformat": 4,
  "nbformat_minor": 0,
  "metadata": {
    "colab": {
      "name": "test_notebook.ipynb",
      "provenance": [],
      "collapsed_sections": [],
      "toc_visible": true
    },
    "kernelspec": {
      "name": "python395jvsc74a57bd04d00386660ca0f79f46b84405b75c0d1d535661626bcbf1887288dd3efedda2f",
      "display_name": "Python 3.9.5 64-bit"
    },
    "metadata": {
      "interpreter": {
        "hash": "4d00386660ca0f79f46b84405b75c0d1d535661626bcbf1887288dd3efedda2f"
      }
    }
  },
  "cells": [
    {
      "cell_type": "code",
      "metadata": {
        "id": "RIXyAESxe2A-"
      },
      "source": [
        "import numpy as np\n",
        "import matplotlib.pyplot as plt\n",
        "from numpy import tanh\n",
        "from IPython.display import clear_output\n"
      ],
      "execution_count": 1,
      "outputs": []
    },
    {
      "cell_type": "code",
      "metadata": {
        "id": "j1HKfk44BZyk"
      },
      "source": [
        "from MLP import *\n",
        "from gridSearch import *"
      ],
      "execution_count": 2,
      "outputs": []
    },
    {
      "cell_type": "code",
      "metadata": {
        "id": "IYn9SuJkqhIG",
        "colab": {
          "base_uri": "https://localhost:8080/"
        },
        "outputId": "a8f7e3c8-7c52-4eca-b7e4-d2c37d67aacf"
      },
      "source": [
        "f_target = lambda x: x**3-x**2\n",
        "\n",
        "tx = np.sort( (2*np.random.rand(300)-1)*2 )\n",
        "ty = np.array( [f_target(x)+(2*np.random.rand()-1) for x in tx ])#.reshape(1,-1)\n",
        "\n",
        "tx = (tx-np.min(tx))/(np.max(tx)-np.min(tx))\n",
        "tx = tx.reshape(-1,1)\n",
        "ty = ty.reshape(-1,1)\n",
        "\n",
        "data = np.hstack((tx,ty))\n",
        "data.shape"
      ],
      "execution_count": 3,
      "outputs": [
        {
          "output_type": "execute_result",
          "data": {
            "text/plain": [
              "(300, 2)"
            ]
          },
          "metadata": {},
          "execution_count": 3
        }
      ]
    },
    {
      "cell_type": "code",
      "metadata": {
        "id": "ZMo0dgWUt1Iy",
        "tags": []
      },
      "source": [
        "n = MLP(  Nh=[2,3], Nu=1, Ny=1, f='tanh', f_out='ide', w_scale=5 )\n",
        "plt.plot(tx,ty,label='target fuction')\n",
        "outs = n.supply_sequence(tx).reshape(-1)\n",
        "\n",
        "\n",
        "plt.plot(tx,outs,label='network outputs')\n",
        "plt.legend()\n",
        "print( MSE(outs,ty))"
      ],
      "execution_count": null,
      "outputs": []
    },
    {
      "cell_type": "code",
      "metadata": {
        "id": "2xINYkImsxlU"
      },
      "source": [
        "e, _ = n.train(tx, ty, 5e-02,\n",
        "  a = 1e-02,\n",
        "  l = 0,\n",
        "  max_epochs = 1000,\n",
        "  tresh = .1,\n",
        "  measure_interval = 10 )\n",
        "clear_output()\n",
        "plt.plot(e)"
      ],
      "execution_count": null,
      "outputs": []
    },
    {
      "cell_type": "code",
      "metadata": {
        "id": "SbPwvWr6tTIB"
      },
      "source": [
        "plt.plot(tx,ty,label='target function')\n",
        "outs = n.supply_sequence(tx)\n",
        "outs = outs.reshape(ty.shape)\n",
        "plt.plot(tx,outs.reshape(-1),label='network outputs')\n",
        "plt.legend()\n",
        "\n",
        "print( MSE(outs,ty))\n",
        "print( n.test_error(tx,ty))"
      ],
      "execution_count": null,
      "outputs": []
    },
    {
      "cell_type": "code",
      "metadata": {
        "tags": [],
        "id": "0JhL-1jU8k1G"
      },
      "source": [
        "params=[\n",
        "        {\n",
        "         'hidden_units': [[10]],\n",
        "         'learning_rate': [5e-02, 1e-02],\n",
        "         'alpha': [5e-01, 9e-01],\n",
        "         'lambda' : [0],\n",
        "         \"weights_range\": [.7],\n",
        "         \"weights_scale\": [2], # numero cifre decimali pesi\n",
        "         \"Nu\":[1],\n",
        "         \"Ny\":[1],\n",
        "         'activation': ['tanh'],\n",
        "         \"f_out\":['ide'],\n",
        "         \"loss\":['squared_error'],\n",
        "         \"error\":['MSE']\n",
        "        }\n",
        "      ]\n",
        "\n",
        "def xy(set):\n",
        "    return set[:,0].reshape(-1,1), set[:,1].reshape(-1,1)\n",
        "\n",
        "k_fold_CV(data, params, k=4, n_init=5, max_epochs=1000, measure_interval=10, tresh=.1,xy=xy)"
      ],
      "execution_count": null,
      "outputs": []
    },
    {
      "cell_type": "markdown",
      "metadata": {
        "id": "boJeS78mBZF6"
      },
      "source": [
        "\n",
        "# Monk test 1"
      ]
    },
    {
      "cell_type": "code",
      "metadata": {
        "id": "VOvPimqR3yoQ"
      },
      "source": [
        "import pandas as pd\n",
        "\n",
        "data = pd.read_csv('monks-1.train',sep=' ',index_col=8)\n",
        "data = data.drop(columns = data.columns[0])\n",
        "data = data.to_numpy()\n",
        "\n",
        "ty = data[:100,0] ; ty = to_categorical(ty).reshape(-1,2,1)\n",
        "tx = data[:100,1:]\n",
        "\n",
        "vy = data[100:,0] ; vy = to_categorical(vy).reshape(-1,2,1)\n",
        "vx = data[100:,1:]"
      ],
      "execution_count": null,
      "outputs": []
    },
    {
      "cell_type": "code",
      "metadata": {
        "id": "9vNnfPzPBZMP"
      },
      "source": [
        "from scipy.special import softmax\n",
        "\n",
        "n = MLP(  Nh=[30,10], Nu=6, Ny=2, f='relu', f_out='softmax', w_scale=5, loss='cross_entropy', error='cross_entropy')\n",
        "outs = n.supply_sequence(tx)\n",
        "print( n.error(outs,ty))"
      ],
      "execution_count": null,
      "outputs": []
    },
    {
      "cell_type": "code",
      "metadata": {
        "id": "zxFdqrCgDuUU"
      },
      "source": [
        "e, v = n.train(tx, ty, 5e-02,\n",
        "  a = 1e-6,\n",
        "  l = 1e-9,\n",
        "  val_x = vx,\n",
        "  val_y = vy,\n",
        "  max_epochs = 1000,\n",
        "  tresh = 1e-03,\n",
        "  measure_interval = 10 )\n",
        "\n",
        "plt.plot(e)\n",
        "plt.plot(v)"
      ],
      "execution_count": null,
      "outputs": []
    },
    {
      "cell_type": "code",
      "metadata": {
        "id": "og_xCSw18k1I"
      },
      "source": [
        "data = read_dataset( filename='./monk_tests/monks-1.train', id_col=8 )\n",
        "\n",
        "params=[\n",
        "        {\n",
        "         'hidden_units': [[10],[25],[50]],\n",
        "         'learning_rate': [1e-01, 1e-02, 1e-03],\n",
        "         'alpha': [1e-01, 1e-02, 1e-03, 0],\n",
        "         'lambda' : [1e-01, 1e-02, 1e-03, 1e-10, 1e-12, 0],\n",
        "         'activation': ['relu', 'tanh'],\n",
        "         \"weights_range\": [0.7],\n",
        "         \"weights_scale\": [2],\n",
        "         \"Nu\":[6],\n",
        "         \"Ny\":[2],\n",
        "         'activation': ['tanh'],\n",
        "         \"f_out\":['ide'],\n",
        "         \"loss\":['squared_error'],\n",
        "         \"error\":['MSE']\n",
        "        }\n",
        "      ]\n",
        "\n",
        "def xy_monk1(set):\n",
        "    x,y = set[:,1:] , set[:,:1]\n",
        "    y = to_categorical(y).reshape(-1,2,1)\n",
        "    return x,y\n",
        "\n",
        "k_fold_CV(data, params, k=2, n_init=2, max_epochs=1000, measure_interval=50, tresh=.1,xy=xy_monk1)"
      ],
      "execution_count": null,
      "outputs": []
    },
    {
      "cell_type": "markdown",
      "metadata": {
        "id": "Vl9i8TmBF6rG"
      },
      "source": [
        "# Monk test 2\n"
      ]
    },
    {
      "cell_type": "code",
      "metadata": {
        "id": "AsjR7UoY5QtR"
      },
      "source": [
        "import pandas as pd\n",
        "data = pd.read_csv('monks-2.train',sep=' ',index_col=8)\n",
        "data = data.drop(columns = data.columns[0])\n",
        "data = data.to_numpy()\n",
        "\n",
        "ty = data[:100,0] ; ty[ty==0] = ty[ty==0]-1\n",
        "tx = data[:100,1:]\n",
        "\n",
        "vy = data[100:,0] ; vy[vy==0] = vy[vy==0]-1\n",
        "vx = data[100:,1:] \n",
        "\n",
        "n = MLP(  Nh=[30,100], Nu=6, Ny=2, f=relu, f_out=softmax, w_scale=.7 ,loss=cross_entropy)\n",
        "outs = n.supply_sequence(tx)\n",
        "print( MSE(outs,ty))\n",
        "\n",
        "e, v = n.train(tx, ty, 5e-02,\n",
        "  a = 1e-6,\n",
        "  l = 1e-12,\n",
        "  val_x = vx,\n",
        "  val_y = vy,\n",
        "  max_epochs = 1000,\n",
        "  tresh = 1e-03,\n",
        "  epoch_f = n.epoch_batch_BP,\n",
        "  measure_interval = 10 )\n",
        "\n",
        "plt.plot(e)\n",
        "plt.plot(v)"
      ],
      "execution_count": null,
      "outputs": []
    },
    {
      "cell_type": "markdown",
      "metadata": {
        "id": "-NU7JmZAdj4I"
      },
      "source": [
        "# cup"
      ]
    },
    {
      "cell_type": "code",
      "metadata": {
        "id": "i9QCwPUTGsKB",
        "colab": {
          "base_uri": "https://localhost:8080/"
        },
        "outputId": "c82e2d5b-98c0-473d-de9d-7706a80d69d5"
      },
      "source": [
        "data = pd.read_csv('cup/ML-CUP20-TR.csv',sep=',',index_col=0)\n",
        "data = data.to_numpy()\n",
        "\n",
        "tx = data[:,:-2]\n",
        "ty = data[:,-2:]\n",
        "\n",
        "def xy_monk1(data):\n",
        "    x = data[:,:-2]\n",
        "    y = data[:,-2:]\n",
        "    return x,y\n",
        "\n",
        "tx.shape, ty.shape"
      ],
      "execution_count": 4,
      "outputs": [
        {
          "output_type": "execute_result",
          "data": {
            "text/plain": [
              "((1523, 10), (1523, 2))"
            ]
          },
          "metadata": {},
          "execution_count": 4
        }
      ]
    },
    {
      "cell_type": "code",
      "metadata": {
        "colab": {
          "base_uri": "https://localhost:8080/",
          "height": 282
        },
        "id": "DXurjI40dj4J",
        "outputId": "285bbc51-3ccc-42fc-de81-fbeddf17c92e"
      },
      "source": [
        "n = MLP(  Nh=[50,30], Nu=10, Ny=2, f='tanh', f_out='ide', w_scale=2, w_range=.7)\n",
        "print('init', n.test_error(tx,ty))\n",
        "print( )\n",
        "\n",
        "e, _ = n.train(tx, ty, 1e-03,\n",
        "  a = 9e-01,\n",
        "  l = 1e-12,\n",
        "  max_epochs = 1000,\n",
        "  tresh = .1,\n",
        "  measure_interval = 10 )\n",
        "clear_output()\n",
        "plt.plot(e,label = 'train')\n",
        "print( n.test_error(tx,ty))"
      ],
      "execution_count": 22,
      "outputs": [
        {
          "output_type": "stream",
          "text": [
            "5.720977765179693\n"
          ],
          "name": "stdout"
        },
        {
          "output_type": "display_data",
          "data": {
            "image/png": "[encoded data removed]",
            "text/plain": [
              "<Figure size 432x288 with 1 Axes>"
            ]
          },
          "metadata": {
            "tags": [],
            "needs_background": "light"
          }
        }
      ]
    },
    {
      "cell_type": "code",
      "metadata": {
        "colab": {
          "base_uri": "https://localhost:8080/"
        },
        "id": "q0HgNFahdxDV",
        "outputId": "92b2ca99-3120-46d5-fa55-ccfde409f826",
        "tags": [
          "outputPrepend"
        ]
      },
      "source": [
        "params=[\n",
        "        {\n",
        "         'hidden_units': [[50,30]],\n",
        "         'learning_rate': [5e-02, 1e-02, 1e-03],\n",
        "         'alpha': [5e-01, 9e-01],\n",
        "         'lambda' : [1e-12,1e-5],\n",
        "         \"weights_range\": [.7],\n",
        "         \"weights_scale\": [2], # numero cifre decimali pesi\n",
        "         \"Nu\":[10],\n",
        "         \"Ny\":[2],\n",
        "         'activation': ['tanh'],\n",
        "         \"f_out\":['ide'],\n",
        "         \"loss\":['squared_error'],\n",
        "         \"error\":['MSE']\n",
        "        }\n",
        "      ]\n",
        "\n",
        "def xy(data):\n",
        "    x = data[:,:-2]\n",
        "    y = data[:,-2:]\n",
        "    return x,y\n",
        "\n",
        "\n",
        "c,e = k_fold_CV(data, params, k=3, n_init=5, max_epochs=1000, measure_interval=10, tresh=.1,xy=xy)"
      ],
      "execution_count": 5,
      "outputs": [
        {
          "output_type": "stream",
          "name": "stdout",
          "text": [
            "configuration {'hidden_units': [50, 30], 'learning_rate': 0.05, 'alpha': 0.5, 'lambda': 1e-05, 'weights_range': 0.7, 'weights_scale': 2, 'Nu': 10, 'Ny': 2, 'activation': 'tanh', 'f_out': 'ide', 'loss': 'squared_error', 'error': 'MSE'}, 1/12\n",
            "initialization 0\n",
            " (1015, 10), (1015, 2), (508, 10), (508, 2) \n",
            "fold 0 done, error 10.998038476865627\n",
            " (1015, 10), (1015, 2), (508, 10), (508, 2) \n",
            "fold 1 done, error 8.679292674352558\n",
            " (1016, 10), (1016, 2), (507, 10), (507, 2) \n",
            "fold 2 done, error 8.34174947428354\n",
            "initialization 1\n",
            " (1015, 10), (1015, 2), (508, 10), (508, 2) \n",
            "fold 0 done, error 9.404520889572117\n",
            " (1015, 10), (1015, 2), (508, 10), (508, 2) \n",
            "fold 1 done, error 7.738359052388096\n",
            " (1016, 10), (1016, 2), (507, 10), (507, 2) \n",
            "fold 2 done, error 7.878358437089734\n",
            "initialization 2\n",
            " (1015, 10), (1015, 2), (508, 10), (508, 2) \n",
            "fold 0 done, error 9.588485484606428\n",
            " (1015, 10), (1015, 2), (508, 10), (508, 2) \n",
            "fold 1 done, error 8.55520337856086\n",
            " (1016, 10), (1016, 2), (507, 10), (507, 2) \n",
            "fold 2 done, error 7.673144273692977\n",
            "initialization 3\n",
            " (1015, 10), (1015, 2), (508, 10), (508, 2) \n",
            "fold 0 done, error 12.64458550944281\n",
            " (1015, 10), (1015, 2), (508, 10), (508, 2) \n",
            "fold 1 done, error 13.270402578089865\n",
            " (1016, 10), (1016, 2), (507, 10), (507, 2) \n",
            "fold 2 done, error 10.406116827509434\n",
            "initialization 4\n",
            " (1015, 10), (1015, 2), (508, 10), (508, 2) \n",
            "fold 0 done, error 17.15346715158553\n",
            " (1015, 10), (1015, 2), (508, 10), (508, 2) \n",
            "fold 1 done, error 13.003196346658436\n",
            " (1016, 10), (1016, 2), (507, 10), (507, 2) \n",
            "fold 2 done, error 11.114099328688576\n",
            "best config {'hidden_units': [50, 30], 'learning_rate': 0.05, 'alpha': 0.5, 'lambda': 1e-05, 'weights_range': 0.7, 'weights_scale': 2, 'Nu': 10, 'Ny': 2, 'activation': 'tanh', 'f_out': 'ide', 'loss': 'squared_error', 'error': 'MSE'}: 8.340412793016649\n",
            "testing configuration {'hidden_units': [50, 30], 'learning_rate': 0.05, 'alpha': 0.9, 'lambda': 1e-12, 'weights_range': 0.7, 'weights_scale': 2, 'Nu': 10, 'Ny': 2, 'activation': 'tanh', 'f_out': 'ide', 'loss': 'squared_error', 'error': 'MSE'}, 2/12\n",
            "initialization 0\n",
            " (1015, 10), (1015, 2), (508, 10), (508, 2) \n",
            "fold 0 done, error 28.309870854569688\n",
            " (1015, 10), (1015, 2), (508, 10), (508, 2) \n",
            "fold 1 done, error 22.793164025859884\n",
            " (1016, 10), (1016, 2), (507, 10), (507, 2) \n",
            "fold 2 done, error 47.17189219163387\n",
            "initialization 1\n",
            " (1015, 10), (1015, 2), (508, 10), (508, 2) \n",
            "fold 0 done, error 38.54610139850151\n",
            " (1015, 10), (1015, 2), (508, 10), (508, 2) \n",
            "fold 1 done, error 25.587589144663216\n",
            " (1016, 10), (1016, 2), (507, 10), (507, 2) \n",
            "fold 2 done, error 17.60540645734952\n",
            "initialization 2\n",
            " (1015, 10), (1015, 2), (508, 10), (508, 2) \n",
            "fold 0 done, error 25.893552606380574\n",
            " (1015, 10), (1015, 2), (508, 10), (508, 2) \n",
            "fold 1 done, error 22.45192996766713\n",
            " (1016, 10), (1016, 2), (507, 10), (507, 2) \n",
            "fold 2 done, error 16.584519685233765\n",
            "initialization 3\n",
            " (1015, 10), (1015, 2), (508, 10), (508, 2) \n",
            "fold 0 done, error 22.162514784875214\n",
            " (1015, 10), (1015, 2), (508, 10), (508, 2) \n",
            "fold 1 done, error 18.84011413132073\n",
            " (1016, 10), (1016, 2), (507, 10), (507, 2) \n",
            "fold 2 done, error 15.075138129776265\n",
            "initialization 4\n",
            " (1015, 10), (1015, 2), (508, 10), (508, 2) \n",
            "fold 0 done, error 81.97149739312421\n",
            " (1015, 10), (1015, 2), (508, 10), (508, 2) \n",
            "fold 1 done, error 63.23833524091303\n",
            " (1016, 10), (1016, 2), (507, 10), (507, 2) \n",
            "fold 2 done, error 68.57052320541138\n",
            "best config {'hidden_units': [50, 30], 'learning_rate': 0.05, 'alpha': 0.9, 'lambda': 1e-12, 'weights_range': 0.7, 'weights_scale': 2, 'Nu': 10, 'Ny': 2, 'activation': 'tanh', 'f_out': 'ide', 'loss': 'squared_error', 'error': 'MSE'}: 8.340412793016649\n",
            "testing configuration {'hidden_units': [50, 30], 'learning_rate': 0.05, 'alpha': 0.9, 'lambda': 1e-05, 'weights_range': 0.7, 'weights_scale': 2, 'Nu': 10, 'Ny': 2, 'activation': 'tanh', 'f_out': 'ide', 'loss': 'squared_error', 'error': 'MSE'}, 3/12\n",
            "initialization 0\n",
            " (1015, 10), (1015, 2), (508, 10), (508, 2) \n",
            "fold 0 done, error 38.954219244932276\n",
            " (1015, 10), (1015, 2), (508, 10), (508, 2) \n",
            "fold 1 done, error 34.98844882803968\n",
            " (1016, 10), (1016, 2), (507, 10), (507, 2) \n",
            "fold 2 done, error 32.97646000730913\n",
            "initialization 1\n",
            " (1015, 10), (1015, 2), (508, 10), (508, 2) \n",
            "fold 0 done, error 24.003066558531003\n",
            " (1015, 10), (1015, 2), (508, 10), (508, 2) \n",
            "fold 1 done, error 18.477796065952923\n",
            " (1016, 10), (1016, 2), (507, 10), (507, 2) \n",
            "fold 2 done, error 19.111794175815657\n",
            "initialization 2\n",
            " (1015, 10), (1015, 2), (508, 10), (508, 2) \n",
            "fold 0 done, error 15.084353427754357\n",
            " (1015, 10), (1015, 2), (508, 10), (508, 2) \n",
            "fold 1 done, error 13.427597823112942\n",
            " (1016, 10), (1016, 2), (507, 10), (507, 2) \n",
            "fold 2 done, error 12.637822677755388\n",
            "initialization 3\n",
            " (1015, 10), (1015, 2), (508, 10), (508, 2) \n",
            "fold 0 done, error 22.465826335186268\n",
            " (1015, 10), (1015, 2), (508, 10), (508, 2) \n",
            "fold 1 done, error 16.942994305139326\n",
            " (1016, 10), (1016, 2), (507, 10), (507, 2) \n",
            "fold 2 done, error 15.112523000911787\n",
            "initialization 4\n",
            " (1015, 10), (1015, 2), (508, 10), (508, 2) \n",
            "fold 0 done, error 96.74326611066573\n",
            " (1015, 10), (1015, 2), (508, 10), (508, 2) \n",
            "fold 1 done, error 43.410314444307964\n",
            " (1016, 10), (1016, 2), (507, 10), (507, 2) \n",
            "fold 2 done, error 20.769508406572264\n",
            "best config {'hidden_units': [50, 30], 'learning_rate': 0.05, 'alpha': 0.9, 'lambda': 1e-05, 'weights_range': 0.7, 'weights_scale': 2, 'Nu': 10, 'Ny': 2, 'activation': 'tanh', 'f_out': 'ide', 'loss': 'squared_error', 'error': 'MSE'}: 8.340412793016649\n",
            "testing configuration {'hidden_units': [50, 30], 'learning_rate': 0.01, 'alpha': 0.5, 'lambda': 1e-12, 'weights_range': 0.7, 'weights_scale': 2, 'Nu': 10, 'Ny': 2, 'activation': 'tanh', 'f_out': 'ide', 'loss': 'squared_error', 'error': 'MSE'}, 4/12\n",
            "initialization 0\n",
            " (1015, 10), (1015, 2), (508, 10), (508, 2) \n",
            "fold 0 done, error 7.9878374381149575\n",
            " (1015, 10), (1015, 2), (508, 10), (508, 2) \n",
            "fold 1 done, error 6.488875469985589\n",
            " (1016, 10), (1016, 2), (507, 10), (507, 2) \n",
            "fold 2 done, error 5.480530432314978\n",
            "initialization 1\n",
            " (1015, 10), (1015, 2), (508, 10), (508, 2) \n",
            "fold 0 done, error 8.038377402099805\n",
            " (1015, 10), (1015, 2), (508, 10), (508, 2) \n",
            "fold 1 done, error 7.030099229039049\n",
            " (1016, 10), (1016, 2), (507, 10), (507, 2) \n",
            "fold 2 done, error 4.834067373943245\n",
            "initialization 2\n",
            " (1015, 10), (1015, 2), (508, 10), (508, 2) \n",
            "fold 0 done, error 8.158709347650396\n",
            " (1015, 10), (1015, 2), (508, 10), (508, 2) \n",
            "fold 1 done, error 6.920001271252342\n",
            " (1016, 10), (1016, 2), (507, 10), (507, 2) \n",
            "fold 2 done, error 6.225926089913399\n",
            "initialization 3\n",
            " (1015, 10), (1015, 2), (508, 10), (508, 2) \n",
            "fold 0 done, error 8.062294358957335\n",
            " (1015, 10), (1015, 2), (508, 10), (508, 2) \n",
            "fold 1 done, error 6.668208958422808\n",
            " (1016, 10), (1016, 2), (507, 10), (507, 2) \n",
            "fold 2 done, error 5.734306462254596\n",
            "initialization 4\n",
            " (1015, 10), (1015, 2), (508, 10), (508, 2) \n",
            "fold 0 done, error 8.260154819500103\n",
            " (1015, 10), (1015, 2), (508, 10), (508, 2) \n",
            "fold 1 done, error 6.389806390455132\n",
            " (1016, 10), (1016, 2), (507, 10), (507, 2) \n",
            "fold 2 done, error 5.473363101646165\n",
            "best config {'hidden_units': [50, 30], 'learning_rate': 0.01, 'alpha': 0.5, 'lambda': 1e-12, 'weights_range': 0.7, 'weights_scale': 2, 'Nu': 10, 'Ny': 2, 'activation': 'tanh', 'f_out': 'ide', 'loss': 'squared_error', 'error': 'MSE'}: 6.634181335027367\n",
            "testing configuration {'hidden_units': [50, 30], 'learning_rate': 0.01, 'alpha': 0.5, 'lambda': 1e-05, 'weights_range': 0.7, 'weights_scale': 2, 'Nu': 10, 'Ny': 2, 'activation': 'tanh', 'f_out': 'ide', 'loss': 'squared_error', 'error': 'MSE'}, 5/12\n",
            "initialization 0\n",
            " (1015, 10), (1015, 2), (508, 10), (508, 2) \n",
            "fold 0 done, error 7.945853217001477\n",
            " (1015, 10), (1015, 2), (508, 10), (508, 2) \n",
            "fold 1 done, error 6.496326950265578\n",
            " (1016, 10), (1016, 2), (507, 10), (507, 2) \n",
            "fold 2 done, error 5.922394066894779\n",
            "initialization 1\n",
            " (1015, 10), (1015, 2), (508, 10), (508, 2) \n",
            "fold 0 done, error 8.065834085771149\n",
            " (1015, 10), (1015, 2), (508, 10), (508, 2) \n",
            "fold 1 done, error 6.626858946209996\n",
            " (1016, 10), (1016, 2), (507, 10), (507, 2) \n",
            "fold 2 done, error 6.0412059298534375\n",
            "initialization 2\n",
            " (1015, 10), (1015, 2), (508, 10), (508, 2) \n",
            "fold 0 done, error 7.854084562351603\n",
            " (1015, 10), (1015, 2), (508, 10), (508, 2) \n",
            "fold 1 done, error 7.0215559113018235\n",
            " (1016, 10), (1016, 2), (507, 10), (507, 2) \n",
            "fold 2 done, error 6.304623029623387\n",
            "initialization 3\n",
            " (1015, 10), (1015, 2), (508, 10), (508, 2) \n",
            "fold 0 done, error 7.831325391714835\n",
            " (1015, 10), (1015, 2), (508, 10), (508, 2) \n",
            "fold 1 done, error 6.884984941088905\n",
            " (1016, 10), (1016, 2), (507, 10), (507, 2) \n",
            "fold 2 done, error 5.870951124874103\n",
            "initialization 4\n",
            " (1015, 10), (1015, 2), (508, 10), (508, 2) \n",
            "fold 0 done, error 7.817378621923268\n",
            " (1015, 10), (1015, 2), (508, 10), (508, 2) \n",
            "fold 1 done, error 6.899098935702853\n",
            " (1016, 10), (1016, 2), (507, 10), (507, 2) \n",
            "fold 2 done, error 5.689666001892663\n",
            "best config {'hidden_units': [50, 30], 'learning_rate': 0.01, 'alpha': 0.5, 'lambda': 1e-05, 'weights_range': 0.7, 'weights_scale': 2, 'Nu': 10, 'Ny': 2, 'activation': 'tanh', 'f_out': 'ide', 'loss': 'squared_error', 'error': 'MSE'}: 6.634181335027367\n",
            "testing configuration {'hidden_units': [50, 30], 'learning_rate': 0.01, 'alpha': 0.9, 'lambda': 1e-12, 'weights_range': 0.7, 'weights_scale': 2, 'Nu': 10, 'Ny': 2, 'activation': 'tanh', 'f_out': 'ide', 'loss': 'squared_error', 'error': 'MSE'}, 6/12\n",
            "initialization 0\n",
            " (1015, 10), (1015, 2), (508, 10), (508, 2) \n",
            "fold 0 done, error 26.69479151153374\n",
            " (1015, 10), (1015, 2), (508, 10), (508, 2) \n",
            "fold 1 done, error 8.663111989614208\n",
            " (1016, 10), (1016, 2), (507, 10), (507, 2) \n",
            "fold 2 done, error 6.7411958646088745\n",
            "initialization 1\n",
            " (1015, 10), (1015, 2), (508, 10), (508, 2) \n",
            "fold 0 done, error 9.188457331197581\n",
            " (1015, 10), (1015, 2), (508, 10), (508, 2) \n",
            "fold 1 done, error 7.908776768551699\n",
            " (1016, 10), (1016, 2), (507, 10), (507, 2) \n",
            "fold 2 done, error 6.638721116578746\n",
            "initialization 2\n",
            " (1015, 10), (1015, 2), (508, 10), (508, 2) \n",
            "fold 0 done, error 8.489924143865206\n",
            " (1015, 10), (1015, 2), (508, 10), (508, 2) \n",
            "fold 1 done, error 8.552915357299668\n",
            " (1016, 10), (1016, 2), (507, 10), (507, 2) \n",
            "fold 2 done, error 6.915206084261526\n",
            "initialization 3\n",
            " (1015, 10), (1015, 2), (508, 10), (508, 2) \n",
            "fold 0 done, error 8.938810040850258\n",
            " (1015, 10), (1015, 2), (508, 10), (508, 2) \n",
            "fold 1 done, error 6.929868602952249\n",
            " (1016, 10), (1016, 2), (507, 10), (507, 2) \n",
            "fold 2 done, error 6.386761577949839\n",
            "initialization 4\n",
            " (1015, 10), (1015, 2), (508, 10), (508, 2) \n",
            "fold 0 done, error 9.22502882052303\n",
            " (1015, 10), (1015, 2), (508, 10), (508, 2) \n",
            "fold 1 done, error 8.1799376188447\n",
            " (1016, 10), (1016, 2), (507, 10), (507, 2) \n",
            "fold 2 done, error 7.851421058479038\n",
            "best config {'hidden_units': [50, 30], 'learning_rate': 0.01, 'alpha': 0.9, 'lambda': 1e-12, 'weights_range': 0.7, 'weights_scale': 2, 'Nu': 10, 'Ny': 2, 'activation': 'tanh', 'f_out': 'ide', 'loss': 'squared_error', 'error': 'MSE'}: 6.634181335027367\n",
            "testing configuration {'hidden_units': [50, 30], 'learning_rate': 0.01, 'alpha': 0.9, 'lambda': 1e-05, 'weights_range': 0.7, 'weights_scale': 2, 'Nu': 10, 'Ny': 2, 'activation': 'tanh', 'f_out': 'ide', 'loss': 'squared_error', 'error': 'MSE'}, 7/12\n",
            "initialization 0\n",
            " (1015, 10), (1015, 2), (508, 10), (508, 2) \n",
            "fold 0 done, error 8.79944791812176\n",
            " (1015, 10), (1015, 2), (508, 10), (508, 2) \n",
            "fold 1 done, error 7.67101406089779\n",
            " (1016, 10), (1016, 2), (507, 10), (507, 2) \n",
            "fold 2 done, error 7.1587991143765235\n",
            "initialization 1\n",
            " (1015, 10), (1015, 2), (508, 10), (508, 2) \n",
            "fold 0 done, error 9.463997448261157\n",
            " (1015, 10), (1015, 2), (508, 10), (508, 2) \n",
            "fold 1 done, error 8.854056597846522\n",
            " (1016, 10), (1016, 2), (507, 10), (507, 2) \n",
            "fold 2 done, error 7.840857855489851\n",
            "initialization 2\n",
            " (1015, 10), (1015, 2), (508, 10), (508, 2) \n",
            "fold 0 done, error 8.07043508350061\n",
            " (1015, 10), (1015, 2), (508, 10), (508, 2) \n",
            "fold 1 done, error 8.019944996414642\n",
            " (1016, 10), (1016, 2), (507, 10), (507, 2) \n",
            "fold 2 done, error 7.520901669681705\n",
            "initialization 3\n",
            " (1015, 10), (1015, 2), (508, 10), (508, 2) \n",
            "fold 0 done, error 10.817064286816297\n",
            " (1015, 10), (1015, 2), (508, 10), (508, 2) \n",
            "fold 1 done, error 9.957739080216795\n",
            " (1016, 10), (1016, 2), (507, 10), (507, 2) \n",
            "fold 2 done, error 8.49626822907953\n",
            "initialization 4\n",
            " (1015, 10), (1015, 2), (508, 10), (508, 2) \n",
            "fold 0 done, error 10.845059226101466\n",
            " (1015, 10), (1015, 2), (508, 10), (508, 2) \n",
            "fold 1 done, error 8.766204481355368\n",
            " (1016, 10), (1016, 2), (507, 10), (507, 2) \n",
            "fold 2 done, error 11.718947159483852\n",
            "best config {'hidden_units': [50, 30], 'learning_rate': 0.01, 'alpha': 0.9, 'lambda': 1e-05, 'weights_range': 0.7, 'weights_scale': 2, 'Nu': 10, 'Ny': 2, 'activation': 'tanh', 'f_out': 'ide', 'loss': 'squared_error', 'error': 'MSE'}: 6.634181335027367\n",
            "testing configuration {'hidden_units': [50, 30], 'learning_rate': 0.001, 'alpha': 0.5, 'lambda': 1e-12, 'weights_range': 0.7, 'weights_scale': 2, 'Nu': 10, 'Ny': 2, 'activation': 'tanh', 'f_out': 'ide', 'loss': 'squared_error', 'error': 'MSE'}, 8/12\n",
            "initialization 0\n",
            " (1015, 10), (1015, 2), (508, 10), (508, 2) \n",
            "fold 0 done, error 8.471973883873115\n",
            " (1015, 10), (1015, 2), (508, 10), (508, 2) \n",
            "fold 1 done, error 7.036854553350764\n",
            " (1016, 10), (1016, 2), (507, 10), (507, 2) \n",
            "fold 2 done, error 6.435598664516851\n",
            "initialization 1\n",
            " (1015, 10), (1015, 2), (508, 10), (508, 2) \n",
            "fold 0 done, error 8.31608821888256\n",
            " (1015, 10), (1015, 2), (508, 10), (508, 2) \n",
            "fold 1 done, error 7.240037998716695\n",
            " (1016, 10), (1016, 2), (507, 10), (507, 2) \n",
            "fold 2 done, error 6.115787866809331\n",
            "initialization 2\n",
            " (1015, 10), (1015, 2), (508, 10), (508, 2) \n",
            "fold 0 done, error 8.472078259198822\n",
            " (1015, 10), (1015, 2), (508, 10), (508, 2) \n",
            "fold 1 done, error 7.37222283232642\n",
            " (1016, 10), (1016, 2), (507, 10), (507, 2) \n",
            "fold 2 done, error 6.260185140591593\n",
            "initialization 3\n",
            " (1015, 10), (1015, 2), (508, 10), (508, 2) \n",
            "fold 0 done, error 8.509093734508305\n",
            " (1015, 10), (1015, 2), (508, 10), (508, 2) \n",
            "fold 1 done, error 7.206483710909116\n",
            " (1016, 10), (1016, 2), (507, 10), (507, 2) \n",
            "fold 2 done, error 6.368496907367248\n",
            "initialization 4\n",
            " (1015, 10), (1015, 2), (508, 10), (508, 2) \n",
            "fold 0 done, error 8.074809517583825\n",
            " (1015, 10), (1015, 2), (508, 10), (508, 2) \n",
            "fold 1 done, error 7.108618430931194\n",
            " (1016, 10), (1016, 2), (507, 10), (507, 2) \n",
            "fold 2 done, error 6.329010904547439\n",
            "best config {'hidden_units': [50, 30], 'learning_rate': 0.001, 'alpha': 0.5, 'lambda': 1e-12, 'weights_range': 0.7, 'weights_scale': 2, 'Nu': 10, 'Ny': 2, 'activation': 'tanh', 'f_out': 'ide', 'loss': 'squared_error', 'error': 'MSE'}: 6.634181335027367\n",
            "testing configuration {'hidden_units': [50, 30], 'learning_rate': 0.001, 'alpha': 0.5, 'lambda': 1e-05, 'weights_range': 0.7, 'weights_scale': 2, 'Nu': 10, 'Ny': 2, 'activation': 'tanh', 'f_out': 'ide', 'loss': 'squared_error', 'error': 'MSE'}, 9/12\n",
            "initialization 0\n",
            " (1015, 10), (1015, 2), (508, 10), (508, 2) \n",
            "fold 0 done, error 8.319263531499065\n",
            " (1015, 10), (1015, 2), (508, 10), (508, 2) \n",
            "fold 1 done, error 7.291633529104353\n",
            " (1016, 10), (1016, 2), (507, 10), (507, 2) \n",
            "fold 2 done, error 6.314858514616245\n",
            "initialization 1\n",
            " (1015, 10), (1015, 2), (508, 10), (508, 2) \n",
            "fold 0 done, error 8.55690631434513\n",
            " (1015, 10), (1015, 2), (508, 10), (508, 2) \n",
            "fold 1 done, error 7.117459479646549\n",
            " (1016, 10), (1016, 2), (507, 10), (507, 2) \n",
            "fold 2 done, error 6.322957656745897\n",
            "initialization 2\n",
            " (1015, 10), (1015, 2), (508, 10), (508, 2) \n",
            "fold 0 done, error 8.345769604611425\n",
            " (1015, 10), (1015, 2), (508, 10), (508, 2) \n",
            "fold 1 done, error 7.191656507786007\n",
            " (1016, 10), (1016, 2), (507, 10), (507, 2) \n",
            "fold 2 done, error 6.2209672184698785\n",
            "initialization 3\n",
            " (1015, 10), (1015, 2), (508, 10), (508, 2) \n",
            "fold 0 done, error 8.378059172651524\n",
            " (1015, 10), (1015, 2), (508, 10), (508, 2) \n",
            "fold 1 done, error 7.016469017019048\n",
            " (1016, 10), (1016, 2), (507, 10), (507, 2) \n",
            "fold 2 done, error 6.210605375500655\n",
            "initialization 4\n",
            " (1015, 10), (1015, 2), (508, 10), (508, 2) \n",
            "fold 0 done, error 8.841103142384377\n",
            " (1015, 10), (1015, 2), (508, 10), (508, 2) \n",
            "fold 1 done, error 7.498058576572818\n",
            " (1016, 10), (1016, 2), (507, 10), (507, 2) \n",
            "fold 2 done, error 6.142226665038436\n",
            "best config {'hidden_units': [50, 30], 'learning_rate': 0.001, 'alpha': 0.5, 'lambda': 1e-05, 'weights_range': 0.7, 'weights_scale': 2, 'Nu': 10, 'Ny': 2, 'activation': 'tanh', 'f_out': 'ide', 'loss': 'squared_error', 'error': 'MSE'}: 6.634181335027367\n",
            "testing configuration {'hidden_units': [50, 30], 'learning_rate': 0.001, 'alpha': 0.9, 'lambda': 1e-12, 'weights_range': 0.7, 'weights_scale': 2, 'Nu': 10, 'Ny': 2, 'activation': 'tanh', 'f_out': 'ide', 'loss': 'squared_error', 'error': 'MSE'}, 10/12\n",
            "initialization 0\n",
            " (1015, 10), (1015, 2), (508, 10), (508, 2) \n",
            "fold 0 done, error 7.583354179580985\n",
            " (1015, 10), (1015, 2), (508, 10), (508, 2) \n",
            "fold 1 done, error 6.763344515565836\n",
            " (1016, 10), (1016, 2), (507, 10), (507, 2) \n",
            "fold 2 done, error 5.801661532210649\n",
            "initialization 1\n",
            " (1015, 10), (1015, 2), (508, 10), (508, 2) \n",
            "fold 0 done, error 7.533313563458663\n",
            " (1015, 10), (1015, 2), (508, 10), (508, 2) \n",
            "fold 1 done, error 6.72710676507787\n",
            " (1016, 10), (1016, 2), (507, 10), (507, 2) \n",
            "fold 2 done, error 5.6834271458866334\n",
            "initialization 2\n",
            " (1015, 10), (1015, 2), (508, 10), (508, 2) \n",
            "fold 0 done, error 7.56127276391492\n",
            " (1015, 10), (1015, 2), (508, 10), (508, 2) \n",
            "fold 1 done, error 6.7014647131757235\n",
            " (1016, 10), (1016, 2), (507, 10), (507, 2) \n",
            "fold 2 done, error 5.55065945629766\n",
            "initialization 3\n",
            " (1015, 10), (1015, 2), (508, 10), (508, 2) \n",
            "fold 0 done, error 7.719245037312633\n",
            " (1015, 10), (1015, 2), (508, 10), (508, 2) \n",
            "fold 1 done, error 6.357152928475958\n",
            " (1016, 10), (1016, 2), (507, 10), (507, 2) \n",
            "fold 2 done, error 5.901398539465416\n",
            "initialization 4\n",
            " (1015, 10), (1015, 2), (508, 10), (508, 2) \n",
            "fold 0 done, error 7.40553484597882\n",
            " (1015, 10), (1015, 2), (508, 10), (508, 2) \n",
            "fold 1 done, error 6.431409057245188\n",
            " (1016, 10), (1016, 2), (507, 10), (507, 2) \n",
            "fold 2 done, error 5.577648597607878\n",
            "best config {'hidden_units': [50, 30], 'learning_rate': 0.001, 'alpha': 0.9, 'lambda': 1e-12, 'weights_range': 0.7, 'weights_scale': 2, 'Nu': 10, 'Ny': 2, 'activation': 'tanh', 'f_out': 'ide', 'loss': 'squared_error', 'error': 'MSE'}: 6.471530833610629\n",
            "testing configuration {'hidden_units': [50, 30], 'learning_rate': 0.001, 'alpha': 0.9, 'lambda': 1e-05, 'weights_range': 0.7, 'weights_scale': 2, 'Nu': 10, 'Ny': 2, 'activation': 'tanh', 'f_out': 'ide', 'loss': 'squared_error', 'error': 'MSE'}, 11/12\n",
            "initialization 0\n",
            " (1015, 10), (1015, 2), (508, 10), (508, 2) \n",
            "fold 0 done, error 82.23115024059489\n",
            " (1015, 10), (1015, 2), (508, 10), (508, 2) \n",
            "fold 1 done, error 7.4796563644480765\n",
            " (1016, 10), (1016, 2), (507, 10), (507, 2) \n",
            "fold 2 done, error 6.375273295749285\n",
            "initialization 1\n",
            " (1015, 10), (1015, 2), (508, 10), (508, 2) \n",
            "fold 0 done, error 7.2245930372712195\n",
            " (1015, 10), (1015, 2), (508, 10), (508, 2) \n",
            "fold 1 done, error 6.301519876851215\n",
            " (1016, 10), (1016, 2), (507, 10), (507, 2) \n",
            "fold 2 done, error 6.1058114692098036\n",
            "initialization 2\n",
            " (1015, 10), (1015, 2), (508, 10), (508, 2) \n",
            "fold 0 done, error 7.686999395990683\n",
            " (1015, 10), (1015, 2), (508, 10), (508, 2) \n",
            "fold 1 done, error 6.69424057856981\n",
            " (1016, 10), (1016, 2), (507, 10), (507, 2) \n",
            "fold 2 done, error 5.746965808585389\n",
            "initialization 3\n",
            " (1015, 10), (1015, 2), (508, 10), (508, 2) \n",
            "fold 0 done, error 7.327255990053687\n",
            " (1015, 10), (1015, 2), (508, 10), (508, 2) \n",
            "fold 1 done, error 6.555509191788262\n",
            " (1016, 10), (1016, 2), (507, 10), (507, 2) \n",
            "fold 2 done, error 5.784588448080421\n",
            "initialization 4\n",
            " (1015, 10), (1015, 2), (508, 10), (508, 2) \n",
            "fold 0 done, error 7.3864739945703315\n",
            " (1015, 10), (1015, 2), (508, 10), (508, 2) \n",
            "fold 1 done, error 6.382440522249656\n",
            " (1016, 10), (1016, 2), (507, 10), (507, 2) \n",
            "fold 2 done, error 5.608219887684211\n",
            "best config {'hidden_units': [50, 30], 'learning_rate': 0.001, 'alpha': 0.9, 'lambda': 1e-05, 'weights_range': 0.7, 'weights_scale': 2, 'Nu': 10, 'Ny': 2, 'activation': 'tanh', 'f_out': 'ide', 'loss': 'squared_error', 'error': 'MSE'}: 6.459044801501399\n"
          ]
        }
      ]
    },
    {
      "cell_type": "code",
      "metadata": {
        "id": "NI8uuzLYhuml"
      },
      "source": [
        "print(c)\n",
        "print(e)"
      ],
      "execution_count": 6,
      "outputs": [
        {
          "output_type": "stream",
          "name": "stdout",
          "text": [
            "{'hidden_units': [50, 30], 'learning_rate': 0.001, 'alpha': 0.9, 'lambda': 1e-05, 'weights_range': 0.7, 'weights_scale': 2, 'Nu': 10, 'Ny': 2, 'activation': 'tanh', 'f_out': 'ide', 'loss': 'squared_error', 'error': 'MSE'}\n6.459044801501399\n"
          ]
        }
      ]
    },
    {
      "cell_type": "code",
      "execution_count": null,
      "metadata": {},
      "outputs": [],
      "source": [
        "params=[ \n",
        "        {\n",
        "         'hidden_units': [[50]],\n",
        "         'learning_rate': [5e-02, 1e-02, 1e-03],\n",
        "         'alpha': [5e-01, 9e-01],\n",
        "         'lambda' : [1e-12,1e-5],\n",
        "         \"weights_range\": [.7],\n",
        "         \"weights_scale\": [2], # numero cifre decimali pesi\n",
        "         \"Nu\":[10],\n",
        "         \"Ny\":[2],\n",
        "         'activation': ['tanh'],\n",
        "         \"f_out\":['ide'],\n",
        "         \"loss\":['squared_error'],\n",
        "         \"error\":['MSE']\n",
        "        }\n",
        "      ]\n",
        "\n",
        "def xy(data):\n",
        "    x = data[:,:-2]\n",
        "    y = data[:,-2:]\n",
        "    return x,y\n",
        "\n",
        "\n",
        "c,e = k_fold_CV(data, params, k=3, n_init=5, max_epochs=1000, measure_interval=10, tresh=.1,xy=xy)"
      ]
    },
    {
      "cell_type": "code",
      "execution_count": null,
      "metadata": {},
      "outputs": [],
      "source": [
        "print(c)\n",
        "print(e)"
      ]
    },
    {
      "cell_type": "code",
      "execution_count": null,
      "metadata": {},
      "outputs": [],
      "source": [
        "params=[\n",
        "        {\n",
        "         'hidden_units': [[64,32]],\n",
        "         'learning_rate': [5e-02, 1e-02, 1e-03],\n",
        "         'alpha': [5e-01, 9e-01],\n",
        "         'lambda' : [1e-12,1e-5],\n",
        "         \"weights_range\": [.7],\n",
        "         \"weights_scale\": [2], # numero cifre decimali pesi\n",
        "         \"Nu\":[10],\n",
        "         \"Ny\":[2],\n",
        "         'activation': ['tanh'],\n",
        "         \"f_out\":['ide'],\n",
        "         \"loss\":['squared_error'],\n",
        "         \"error\":['MSE']\n",
        "        }\n",
        "      ]\n",
        "\n",
        "def xy(data):\n",
        "    x = data[:,:-2]\n",
        "    y = data[:,-2:]\n",
        "    return x,y\n",
        "\n",
        "\n",
        "c,e = k_fold_CV(data, params, k=3, n_init=5, max_epochs=1000, measure_interval=10, tresh=.1,xy=xy)"
      ]
    },
    {
      "cell_type": "code",
      "execution_count": null,
      "metadata": {},
      "outputs": [],
      "source": [
        "print(c)\n",
        "print(e)"
      ]
    },
    {
      "cell_type": "code",
      "execution_count": null,
      "metadata": {},
      "outputs": [],
      "source": []
    }
  ]
}