{
  "nbformat": 4,
  "nbformat_minor": 0,
  "metadata": {
    "colab": {
      "name": "MLP_Bias.ipynb",
      "provenance": [],
      "collapsed_sections": []
    },
    "kernelspec": {
      "display_name": "Python 3",
      "name": "python3"
    }
  },
  "cells": [
    {
      "cell_type": "code",
      "metadata": {
        "id": "RIXyAESxe2A-"
      },
      "source": [
        "import numpy as np\n",
        "import matplotlib.pyplot as plt\n",
        "from numpy import tanh\n",
        "from IPython.display import clear_output\n",
        "from sklearn import preprocessing\n",
        "from sklearn.utils import shuffle"
      ],
      "execution_count": null,
      "outputs": []
    },
    {
      "cell_type": "code",
      "metadata": {
        "id": "j1HKfk44BZyk"
      },
      "source": [
        "ide = lambda x : np.copy(x)\n",
        "\n",
        "def relu(x) : \n",
        "    return (x*(x > 0))\n",
        "\n",
        "def derivative(f):\n",
        "  if f == tanh:\n",
        "    return lambda x: 1.0 - np.tanh(x)**2\n",
        "  elif f == relu:\n",
        "    return lambda x: 1*(x>=0)\n",
        "  elif f == ide:\n",
        "    return lambda x : x-x+1\n",
        "\n",
        "def MSE(x,y):\n",
        "  return np.mean( np.square( x-y ) )\n",
        "\n",
        "class MLP():\n",
        "\n",
        "  def __init__(self, Nh=16, Nl=2, Nu=1, Ny=1, f=tanh, f_out=ide ,w_scale=.05):\n",
        "\n",
        "    self.f = [ide] + ([f]*Nl) + [f_out]\n",
        "    self.df = [ derivative(f) for f in self.f]\n",
        "    self.w = [None]*(Nl+1)\n",
        "    self.v = [None]*(Nl+2)\n",
        "    self.x = [None]*(Nl+2)\n",
        "    self.d = [None]*(Nl+2)\n",
        "    self.grad = [None]*(Nl+1)\n",
        "\n",
        "    self.Nl = Nl\n",
        "    self.Nu = Nu\n",
        "    self.Ny = Ny\n",
        "    self.Nh = Nh\n",
        "\n",
        "    self.w[0] = (2*np.random.rand(Nh,Nu+1)-1)*w_scale\n",
        "    for i in range(1,Nl):\n",
        "      self.w[i] = (2*np.random.rand(Nh,Nh+1)-1)*w_scale\n",
        "    self.w[Nl] = (2*np.random.rand(Ny,Nh+1)-1)*w_scale\n",
        "\n",
        "  def forward_pass(self, u:np.ndarray ):\n",
        "    if not u.shape == (self.Nu,1):\n",
        "      u = u.reshape((self.Nu,1))\n",
        "    self.v[0] = u\n",
        "    self.x[0] = u\n",
        "    for m in range(self.Nl+1):\n",
        "      self.v[m+1] =  np.dot( self.w[m] , np.vstack((self.x[m],1)) )\n",
        "      self.x[m+1] = self.f[m+1](self.v[m+1])\n",
        "\n",
        "  def backward_pass(self, y ):\n",
        "    Nl=self.Nl\n",
        "    if not y.shape == (self.Ny,1):\n",
        "      y = y.reshape((self.Ny,1))\n",
        "    self.d[Nl+1] = (y - self.x[Nl+1]) * self.df[Nl+1](self.v[Nl+1]) \n",
        "    for m in range(Nl,-1,-1):\n",
        "      self.d[m] =  np.dot(  np.delete( n.w[m].T , -1, 0)  , self.d[m+1]  ) * self.df[m](self.v[m])  # devo levare la riga (colonna) dei bias qui \n",
        "\n",
        "  def compute_gradient(self):\n",
        "    Nl = self.Nl\n",
        "    for m in range(Nl+1):\n",
        "      self.grad[m] = np.dot( self.d[m+1] , np.vstack((self.x[m],1)).T )\n",
        "\n",
        "  def online_BP(self, train_x:np.ndarray, train_y:np.ndarray, eta):\n",
        "    for i in range(np.size(train_x,axis=0)):\n",
        "      self.forward_pass( train_x[i] )\n",
        "      self.backward_pass( train_y[i] )\n",
        "      self.compute_gradient()\n",
        "\n",
        "      for m in range(self.Nl+1):\n",
        "        self.w[m] += eta * self.grad[m] \n",
        "\n",
        "  def batch_BP(self, train_x:np.ndarray, train_y:np.ndarray, eta, a=1e-12,l=1e-12):\n",
        "    old_deltas = [np.zeros(self.w[i].shape) for i in range(self.Nl+1)]\n",
        "    p = [np.zeros(self.w[i].shape) for i in range(self.Nl+1)]\n",
        "    N = np.size(train_x,axis=0)\n",
        "    for i in range(N):\n",
        "      self.forward_pass( train_x[i] )\n",
        "      self.backward_pass( train_y[i] )\n",
        "      self.compute_gradient() # gradiente al passo i\n",
        "\n",
        "      for m in range(self.Nl+1):\n",
        "        p[m] += self.grad[m] * (1/N)\n",
        "\n",
        "    for m in range(self.Nl+1):\n",
        "      self.w[m] += eta * p[m] + a * old_deltas[m] - l * self.w[m]\n",
        "      old_deltas[m] = eta * p[m] + a * old_deltas[m] - l * self.w[m]\n",
        "\n",
        "  def predict(self, u):\n",
        "    if not u.shape == (self.Nu,1):\n",
        "      u = u.reshape((self.Nu,1))\n",
        "    \n",
        "    self.x[0] = u\n",
        "    for m in range(self.Nl+1):\n",
        "      self.x[m+1] = self.f[m+1]( np.dot( self.w[m] , np.vstack((self.x[m],1)) ) )\n",
        "    return np.copy(self.x[self.Nl+1])\n",
        "      "
      ],
      "execution_count": null,
      "outputs": []
    },
    {
      "cell_type": "code",
      "metadata": {
        "id": "IYn9SuJkqhIG"
      },
      "source": [
        "f_target = lambda x: x**2\n",
        "tx = np.sort( (2*np.random.rand(1000)-1)*3 )\n",
        "ty = np.array( [f_target(x)+(2*np.random.rand()-1) for x in tx ])#.reshape(1,-1)\n",
        "#ty = preprocessing.normalize(ty,axis=1).reshape(-1)\n",
        "tx= (tx-np.min(tx))/(np.max(tx)-np.min(tx))\n",
        "#ty= (ty-np.min(ty))/(np.max(ty)-np.min(ty))"
      ],
      "execution_count": null,
      "outputs": []
    },
    {
      "cell_type": "code",
      "metadata": {
        "id": "ZMo0dgWUt1Iy",
        "colab": {
          "base_uri": "https://localhost:8080/",
          "height": 283
        },
        "outputId": "c423b89f-0609-4aa9-f548-e04571f0b551"
      },
      "source": [
        "n = MLP(  Nh=10, Nl=1, Nu=1, Ny=1, f=tanh, f_out=ide, w_scale=5 )\n",
        "plt.plot(tx,ty)\n",
        "plt.plot(tx,[float(n.predict(u)) for u in tx])\n",
        "outs = [float(n.predict(u)) for u in tx]\n",
        "print( MSE(outs,ty))"
      ],
      "execution_count": null,
      "outputs": [
        {
          "output_type": "stream",
          "text": [
            "18.073197070566398\n"
          ],
          "name": "stdout"
        },
        {
          "output_type": "display_data",
          "data": {
            "image/png": "[encoded data removed]",
            "text/plain": [
              "<Figure size 432x288 with 1 Axes>"
            ]
          },
          "metadata": {
            "tags": [],
            "needs_background": "light"
          }
        }
      ]
    },
    {
      "cell_type": "code",
      "metadata": {
        "id": "2xINYkImsxlU",
        "colab": {
          "base_uri": "https://localhost:8080/",
          "height": 300
        },
        "outputId": "5e9908c3-ae84-488e-debf-21784c1bd105"
      },
      "source": [
        "max_epochs=300\n",
        "tresh=.1\n",
        "e = [None]*max_epochs\n",
        "\n",
        "for i in range(max_epochs):\n",
        "  stx, sty = shuffle(tx, ty)\n",
        "  n.batch_BP(stx,sty,1e-01, a=.001,l=0)\n",
        "  outs = [float(n.predict(u)) for u in tx]\n",
        "  e[i] = MSE(outs,ty)\n",
        "  if i>2 and ( e[i] < tresh or e[i]>e[i-1]):\n",
        "    print(e[i]-e[i-1] < 1e-04 , e[i] < tresh)\n",
        "    break\n",
        "  print(e[i])\n",
        "  clear_output(wait=True)\n",
        "\n",
        "plt.plot(e)"
      ],
      "execution_count": null,
      "outputs": [
        {
          "output_type": "stream",
          "text": [
            "True False\n"
          ],
          "name": "stdout"
        },
        {
          "output_type": "execute_result",
          "data": {
            "text/plain": [
              "[<matplotlib.lines.Line2D at 0x7ff3d064c7f0>]"
            ]
          },
          "metadata": {
            "tags": []
          },
          "execution_count": 5
        },
        {
          "output_type": "display_data",
          "data": {
            "image/png": "[encoded data removed]",
            "text/plain": [
              "<Figure size 432x288 with 1 Axes>"
            ]
          },
          "metadata": {
            "tags": [],
            "needs_background": "light"
          }
        }
      ]
    },
    {
      "cell_type": "code",
      "metadata": {
        "id": "SbPwvWr6tTIB",
        "colab": {
          "base_uri": "https://localhost:8080/",
          "height": 283
        },
        "outputId": "5ffb9630-6341-4a55-a9d7-edf59ca03aa9"
      },
      "source": [
        "plt.plot(tx,ty)\n",
        "plt.plot(tx,[float(n.predict(u)) for u in tx])\n",
        "print( MSE([float(n.predict(u)) for u in tx],ty))"
      ],
      "execution_count": null,
      "outputs": [
        {
          "output_type": "stream",
          "text": [
            "0.40947476584598747\n"
          ],
          "name": "stdout"
        },
        {
          "output_type": "display_data",
          "data": {
            "image/png": "[encoded data removed]",
            "text/plain": [
              "<Figure size 432x288 with 1 Axes>"
            ]
          },
          "metadata": {
            "tags": [],
            "needs_background": "light"
          }
        }
      ]
    },
    {
      "cell_type": "markdown",
      "metadata": {
        "id": "boJeS78mBZF6"
      },
      "source": [
        "# Monk test 1"
      ]
    },
    {
      "cell_type": "code",
      "metadata": {
        "id": "VOvPimqR3yoQ"
      },
      "source": [
        "import pandas as pd\n",
        "data = pd.read_csv('monks-1.train',sep=' ',index_col=8)\n",
        "data = data.drop(columns = data.columns[0])\n",
        "data = data.to_numpy()\n",
        "\n",
        "ty = data[:100,0] ; ty[ty==0] = ty[ty==0]-1\n",
        "tx = data[:100,1:]\n",
        "\n",
        "vy = data[100:,0] ; vy[vy==0] = vy[vy==0]-1\n",
        "vx = data[100:,1:]"
      ],
      "execution_count": null,
      "outputs": []
    },
    {
      "cell_type": "code",
      "metadata": {
        "id": "9vNnfPzPBZMP",
        "colab": {
          "base_uri": "https://localhost:8080/"
        },
        "outputId": "7363f46c-4b7a-4d4e-d0d5-bf68f9f079fb"
      },
      "source": [
        "n = MLP(  Nh=200, Nl=1, Nu=6, Ny=1, f=tanh, f_out=tanh, w_scale=.5 )\n",
        "outs = [float(n.predict(u)) for u in tx]\n",
        "print( MSE(outs,ty))"
      ],
      "execution_count": null,
      "outputs": [
        {
          "output_type": "stream",
          "text": [
            "1.5239200821265668\n"
          ],
          "name": "stdout"
        }
      ]
    },
    {
      "cell_type": "code",
      "metadata": {
        "id": "zxFdqrCgDuUU",
        "colab": {
          "base_uri": "https://localhost:8080/",
          "height": 283
        },
        "outputId": "f7cc4027-c8dd-41e8-9da2-1954a22975a9"
      },
      "source": [
        "max_epochs=5000\n",
        "tresh=.01\n",
        "t = [None]*max_epochs\n",
        "v = [None]*max_epochs\n",
        "\n",
        "for i in range(max_epochs):\n",
        "  stx, sty = shuffle(tx, ty)\n",
        "  n.batch_BP(stx,sty,1e-02, a=1e-09,l=0)\n",
        "  t[i] = MSE( [float(n.predict(u)) for u in tx] ,ty)\n",
        "  v[i] = MSE( [float(n.predict(u)) for u in vx] ,vy)\n",
        "  if i>2 and ( t[i] < tresh or t[i]>t[i-1] ):\n",
        "    print(t[i]-t[i-1] < 1e-04 , t[i] < tresh)\n",
        "    break\n",
        "  print(t[i])\n",
        "  clear_output(wait=True)\n",
        "\n",
        "plt.plot(t,'-b')\n",
        "plt.plot(v,'--b')"
      ],
      "execution_count": null,
      "outputs": [
        {
          "output_type": "execute_result",
          "data": {
            "text/plain": [
              "[<matplotlib.lines.Line2D at 0x7ff3c503c240>]"
            ]
          },
          "metadata": {
            "tags": []
          },
          "execution_count": 158
        },
        {
          "output_type": "display_data",
          "data": {
            "image/png": "[encoded data removed]",
            "text/plain": [
              "<Figure size 432x288 with 1 Axes>"
            ]
          },
          "metadata": {
            "tags": [],
            "needs_background": "light"
          }
        }
      ]
    },
    {
      "cell_type": "code",
      "metadata": {
        "id": "dJr-nCrr36kV",
        "colab": {
          "base_uri": "https://localhost:8080/"
        },
        "outputId": "f4839347-0aa7-4e82-802c-9a21c5b18129"
      },
      "source": [
        "def classify(u):\n",
        "  return -1 if float( n.predict(u) )<0 else 1\n",
        "\n",
        "def score(o,d): # ouputs, desired\n",
        "  return ( o - d == 0).sum()/len(o)*100\n",
        "\n",
        "outs = [ classify(u) for u in tx]\n",
        "print('train:',score(outs,ty))\n",
        "\n",
        "outs = [ classify(u) for u in vx]\n",
        "print('train:',score(outs,vy))"
      ],
      "execution_count": null,
      "outputs": [
        {
          "output_type": "stream",
          "text": [
            "train: 100.0\n",
            "train: 95.65217391304348\n"
          ],
          "name": "stdout"
        }
      ]
    },
    {
      "cell_type": "markdown",
      "metadata": {
        "id": "Vl9i8TmBF6rG"
      },
      "source": [
        "# Monk test 2\n"
      ]
    },
    {
      "cell_type": "code",
      "metadata": {
        "id": "AsjR7UoY5QtR",
        "colab": {
          "base_uri": "https://localhost:8080/",
          "height": 283
        },
        "outputId": "bbfc1fb1-6022-4ac0-ce6f-707b08a7d8d8"
      },
      "source": [
        "import pandas as pd\n",
        "data = pd.read_csv('monks-2.train',sep=' ',index_col=8)\n",
        "data = data.drop(columns = data.columns[0])\n",
        "data = data.to_numpy()\n",
        "\n",
        "ty = data[:100,0] ; ty[ty==0] = ty[ty==0]-1\n",
        "tx = data[:100,1:]\n",
        "\n",
        "vy = data[100:,0] ; vy[vy==0] = vy[vy==0]-1\n",
        "vx = data[100:,1:] \n",
        "\n",
        "n = MLP(  Nh=200, Nl=1, Nu=6, Ny=1, f=tanh, f_out=tanh, w_scale=.5 )\n",
        "outs = [float(n.predict(u)) for u in tx]\n",
        "print( MSE(outs,ty))\n",
        "\n",
        "max_epochs=5000\n",
        "tresh=.01\n",
        "t = [None]*max_epochs\n",
        "v = [None]*max_epochs\n",
        "\n",
        "for i in range(max_epochs):\n",
        "  stx, sty = shuffle(tx, ty)\n",
        "  n.batch_BP(stx,sty,1e-02, a=1e-09,l=0)\n",
        "  t[i] = MSE( [float(n.predict(u)) for u in tx] ,ty)\n",
        "  v[i] = MSE( [float(n.predict(u)) for u in vx] ,vy)\n",
        "  if i>2 and ( t[i] < tresh or t[i]>t[i-1] ):\n",
        "    print(t[i]-t[i-1] < 1e-04 , t[i] < tresh)\n",
        "    break\n",
        "  print(t[i])\n",
        "  clear_output(wait=True)\n",
        "\n",
        "plt.plot(t,'-b')\n",
        "plt.plot(v,'--b')"
      ],
      "execution_count": null,
      "outputs": [
        {
          "output_type": "execute_result",
          "data": {
            "text/plain": [
              "[<matplotlib.lines.Line2D at 0x7ff3c4da32b0>]"
            ]
          },
          "metadata": {
            "tags": []
          },
          "execution_count": 160
        },
        {
          "output_type": "display_data",
          "data": {
            "image/png": "[encoded data removed]",
            "text/plain": [
              "<Figure size 432x288 with 1 Axes>"
            ]
          },
          "metadata": {
            "tags": [],
            "needs_background": "light"
          }
        }
      ]
    },
    {
      "cell_type": "code",
      "metadata": {
        "id": "e9eonQEs89Tq",
        "colab": {
          "base_uri": "https://localhost:8080/"
        },
        "outputId": "0e28247c-b4bf-4a65-dab8-d5d670577585"
      },
      "source": [
        "def classify(u):\n",
        "  return -1 if float( n.predict(u) )<0 else 1\n",
        "\n",
        "def score(o,d): # ouputs, desired\n",
        "  return ( o - d == 0).sum()/len(o)*100\n",
        "\n",
        "outs = [ classify(u) for u in tx]\n",
        "print('train:',score(outs,ty))\n",
        "\n",
        "outs = [ classify(u) for u in vx]\n",
        "print('train:',score(outs,vy))"
      ],
      "execution_count": null,
      "outputs": [
        {
          "output_type": "stream",
          "text": [
            "train: 96.0\n",
            "train: 58.82352941176471\n"
          ],
          "name": "stdout"
        }
      ]
    },
    {
      "cell_type": "code",
      "metadata": {
        "id": "i9QCwPUTGsKB"
      },
      "source": [
        ""
      ],
      "execution_count": null,
      "outputs": []
    }
  ]
}