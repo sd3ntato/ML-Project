{
  "nbformat": 4,
  "nbformat_minor": 0,
  "metadata": {
    "colab": {
      "name": "MLP_Bias.ipynb",
      "provenance": [],
      "collapsed_sections": []
    },
    "kernelspec": {
      "display_name": "Python 3",
      "name": "python3",
      "language": "python"
    }
  },
  "cells": [
    {
      "cell_type": "code",
      "metadata": {
        "id": "RIXyAESxe2A-"
      },
      "source": [
        "import numpy as np\n",
        "import matplotlib.pyplot as plt\n",
        "from numpy import tanh\n",
        "from IPython.display import clear_output\n",
        "from sklearn import preprocessing\n",
        "from sklearn.utils import shuffle"
      ],
      "execution_count": null,
      "outputs": []
    },
    {
      "cell_type": "code",
      "metadata": {
        "id": "j1HKfk44BZyk"
      },
      "source": [
        "from MLP import *\n",
        "from gridSearch import *"
      ],
      "execution_count": null,
      "outputs": []
    },
    {
      "cell_type": "code",
      "execution_count": null,
      "metadata": {},
      "outputs": [],
      "source": [
        "params=[\n",
        "        {\n",
        "         'hidden_units': [[10],[25],[50]],\n",
        "         'alpha': [1e-01, 1e-02, 1e-03, 0],\n",
        "         'learning_rate': [1e-01, 1e-02, 1e-03],\n",
        "         'lambda' : [1e-01, 1e-02, 1e-03, 1e-10, 1e-12, 0],\n",
        "         'activation': ['relu', 'tanh'],\n",
        "         \"weights_range\": [0.7],\n",
        "         \"weights_scale\": [1e-02] # scalining iniziale pesi\n",
        "        }\n",
        "      ]\n",
        "\n",
        "folds = read_and_split_dataset( 4, filename='monks-1.train', id_col=8 )\n",
        "tr_x, tr_y, val_x, val_y = get_fold( folds, 1 )\n",
        "# to_categorical(tr_y).reshape(-1,2,1)\n",
        "get_configurations(params)[0]['hidden_units']\n"
      ]
    },
    {
      "cell_type": "code",
      "metadata": {
        "id": "IYn9SuJkqhIG"
      },
      "source": [
        "f_target = lambda x: x**3\n",
        "tx = np.sort( (2*np.random.rand(1000)-1)*3 )\n",
        "ty = np.array( [f_target(x)+(2*np.random.rand()-1) for x in tx ])#.reshape(1,-1)\n",
        "#ty = preprocessing.normalize(ty,axis=1).reshape(-1)\n",
        "tx= (tx-np.min(tx))/(np.max(tx)-np.min(tx))\n",
        "#ty= (ty-np.min(ty))/(np.max(ty)-np.min(ty))"
      ],
      "execution_count": null,
      "outputs": []
    },
    {
      "cell_type": "code",
      "metadata": {
        "id": "ZMo0dgWUt1Iy",
        "colab": {
          "base_uri": "https://localhost:8080/",
          "height": 283
        },
        "outputId": "c423b89f-0609-4aa9-f548-e04571f0b551",
        "tags": []
      },
      "source": [
        "n = MLP(  Nh=[16,10], Nu=1, Ny=1, f=tanh, f_out=ide, w_scale=5 )\n",
        "plt.plot(tx,ty)\n",
        "outs = n.supply_sequence(tx).reshap\n",
        "\n",
        "\n",
        "plt.plot(tx,outs)\n",
        "print( MSE(outs,ty))"
      ],
      "execution_count": null,
      "outputs": []
    },
    {
      "cell_type": "code",
      "metadata": {
        "id": "2xINYkImsxlU",
        "colab": {
          "base_uri": "https://localhost:8080/",
          "height": 300
        },
        "outputId": "5e9908c3-ae84-488e-debf-21784c1bd105"
      },
      "source": [
        "e, _ = n.train(tx, ty, 1e-02,\n",
        "  a = 0,\n",
        "  l = 0,\n",
        "  max_epochs = 1000,\n",
        "  tresh = 1e-01,\n",
        "  epoch_f = n.epoch_batch_BP,\n",
        "  measure_interval = 10 )\n",
        "\n",
        "plt.plot(e)"
      ],
      "execution_count": null,
      "outputs": []
    },
    {
      "cell_type": "code",
      "metadata": {
        "id": "SbPwvWr6tTIB",
        "colab": {
          "base_uri": "https://localhost:8080/",
          "height": 283
        },
        "outputId": "5ffb9630-6341-4a55-a9d7-edf59ca03aa9"
      },
      "source": [
        "plt.plot(tx,ty)\n",
        "outs = n.supply_sequence(tx).reshape(-1)\n",
        "plt.plot(tx,outs)\n",
        "print( MSE(outs,ty))"
      ],
      "execution_count": null,
      "outputs": []
    },
    {
      "cell_type": "markdown",
      "metadata": {
        "id": "boJeS78mBZF6"
      },
      "source": [
        "\n",
        "# Monk test 1"
      ]
    },
    {
      "cell_type": "code",
      "metadata": {
        "id": "VOvPimqR3yoQ"
      },
      "source": [
        "import pandas as pd\n",
        "\n",
        "data = pd.read_csv('monks-1.train',sep=' ',index_col=8)\n",
        "data = data.drop(columns = data.columns[0])\n",
        "data = data.to_numpy()\n",
        "\n",
        "ty = data[:100,0] ; ty = to_categorical(ty).reshape(-1,2,1)\n",
        "tx = data[:100,1:]\n",
        "\n",
        "vy = data[100:,0] ; vy = to_categorical(vy).reshape(-1,2,1)\n",
        "vx = data[100:,1:]"
      ],
      "execution_count": null,
      "outputs": []
    },
    {
      "cell_type": "code",
      "metadata": {
        "id": "9vNnfPzPBZMP",
        "colab": {
          "base_uri": "https://localhost:8080/"
        },
        "outputId": "7363f46c-4b7a-4d4e-d0d5-bf68f9f079fb"
      },
      "source": [
        "from scipy.special import softmax\n",
        "\n",
        "n = MLP(  Nh=[100], Nu=6, Ny=2, f=relu, f_out=softmax, w_scale=.7 ,loss=cross_entropy, error=cross_entropy)\n",
        "outs = n.supply_sequence(tx)\n",
        "print( n.error(outs,ty))"
      ],
      "execution_count": null,
      "outputs": []
    },
    {
      "cell_type": "code",
      "metadata": {
        "id": "zxFdqrCgDuUU",
        "colab": {
          "base_uri": "https://localhost:8080/",
          "height": 283
        },
        "outputId": "f7cc4027-c8dd-41e8-9da2-1954a22975a9"
      },
      "source": [
        "e, v = n.train(tx, ty, 5e-02,\n",
        "  a = 1e-6,\n",
        "  l = 1e-9,\n",
        "  val_x = vx,\n",
        "  val_y = vy,\n",
        "  max_epochs = 1000,\n",
        "  tresh = 1e-03,\n",
        "  epoch_f = n.epoch_batch_BP,\n",
        "  measure_interval = 10 )\n",
        "\n",
        "plt.plot(e)\n",
        "plt.plot(v)"
      ],
      "execution_count": null,
      "outputs": []
    },
    {
      "cell_type": "markdown",
      "metadata": {
        "id": "Vl9i8TmBF6rG"
      },
      "source": [
        "# Monk test 2\n"
      ]
    },
    {
      "cell_type": "code",
      "metadata": {
        "id": "AsjR7UoY5QtR",
        "colab": {
          "base_uri": "https://localhost:8080/",
          "height": 283
        },
        "outputId": "bbfc1fb1-6022-4ac0-ce6f-707b08a7d8d8"
      },
      "source": [
        "import pandas as pd\n",
        "data = pd.read_csv('monks-2.train',sep=' ',index_col=8)\n",
        "data = data.drop(columns = data.columns[0])\n",
        "data = data.to_numpy()\n",
        "\n",
        "ty = data[:100,0] ; ty[ty==0] = ty[ty==0]-1\n",
        "tx = data[:100,1:]\n",
        "\n",
        "vy = data[100:,0] ; vy[vy==0] = vy[vy==0]-1\n",
        "vx = data[100:,1:] \n",
        "\n",
        "n = MLP(  Nh=[30,100], Nu=6, Ny=2, f=relu, f_out=softmax, w_scale=.7 ,loss=cross_entropy)\n",
        "outs = n.supply_sequence(tx)\n",
        "print( MSE(outs,ty))\n",
        "\n",
        "e, v = n.train(tx, ty, 5e-02,\n",
        "  a = 1e-6,\n",
        "  l = 1e-12,\n",
        "  val_x = vx,\n",
        "  val_y = vy,\n",
        "  max_epochs = 1000,\n",
        "  tresh = 1e-03,\n",
        "  epoch_f = n.epoch_batch_BP,\n",
        "  measure_interval = 10 )\n",
        "\n",
        "plt.plot(e)\n",
        "plt.plot(v)"
      ],
      "execution_count": null,
      "outputs": []
    },
    {
      "cell_type": "code",
      "metadata": {
        "id": "i9QCwPUTGsKB"
      },
      "source": [],
      "execution_count": null,
      "outputs": []
    }
  ]
}