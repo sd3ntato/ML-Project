{
  "nbformat": 4,
  "nbformat_minor": 0,
  "metadata": {
    "colab": {
      "name": "MLP_Bias.ipynb",
      "provenance": [],
      "collapsed_sections": [],
      "toc_visible": true
    },
    "kernelspec": {
      "name": "python3",
      "display_name": "Python 3.8.6 64-bit",
      "metadata": {
        "interpreter": {
          "hash": "31f2aee4e71d21fbe5cf8b01ff0e069b9275f58929596ceb00d14d90e3e16cd6"
        }
      }
    }
  },
  "cells": [
    {
      "cell_type": "code",
      "metadata": {
        "id": "RIXyAESxe2A-"
      },
      "source": [
        "import numpy as np\n",
        "import matplotlib.pyplot as plt\n",
        "from numpy import tanh\n",
        "from IPython.display import clear_output\n"
      ],
      "execution_count": null,
      "outputs": []
    },
    {
      "cell_type": "code",
      "metadata": {
        "id": "j1HKfk44BZyk"
      },
      "source": [
        "from MLP import *\n",
        "from gridSearch import *"
      ],
      "execution_count": null,
      "outputs": []
    },
    {
      "cell_type": "code",
      "metadata": {
        "id": "IYn9SuJkqhIG"
      },
      "source": [
        "f_target = lambda x: x**3-x**2\n",
        "\n",
        "tx = np.sort( (2*np.random.rand(300)-1)*2 )\n",
        "ty = np.array( [f_target(x)+(2*np.random.rand()-1) for x in tx ])#.reshape(1,-1)\n",
        "\n",
        "tx = (tx-np.min(tx))/(np.max(tx)-np.min(tx))\n",
        "tx = tx.reshape(-1,1)\n",
        "ty = ty.reshape(-1,1)\n",
        "\n",
        "data = np.hstack((tx,ty))\n",
        "data.shape"
      ],
      "execution_count": null,
      "outputs": []
    },
    {
      "cell_type": "code",
      "metadata": {
        "id": "ZMo0dgWUt1Iy",
        "tags": []
      },
      "source": [
        "n = MLP(  Nh=[2,3], Nu=1, Ny=1, f='tanh', f_out='ide', w_scale=5 )\n",
        "plt.plot(tx,ty,label='target fuction')\n",
        "outs = n.supply_sequence(tx).reshape(-1)\n",
        "\n",
        "\n",
        "plt.plot(tx,outs,label='network outputs')\n",
        "plt.legend()\n",
        "print( MSE(outs,ty))"
      ],
      "execution_count": null,
      "outputs": []
    },
    {
      "cell_type": "code",
      "metadata": {
        "id": "2xINYkImsxlU"
      },
      "source": [
        "e, _ = n.train(tx, ty, 5e-02,\n",
        "  a = 1e-02,\n",
        "  l = 0,\n",
        "  max_epochs = 1000,\n",
        "  tresh = .1,\n",
        "  measure_interval = 10 )\n",
        "clear_output()\n",
        "plt.plot(e)"
      ],
      "execution_count": null,
      "outputs": []
    },
    {
      "cell_type": "code",
      "metadata": {
        "id": "SbPwvWr6tTIB"
      },
      "source": [
        "plt.plot(tx,ty,label='target function')\n",
        "outs = n.supply_sequence(tx)\n",
        "outs = outs.reshape(ty.shape)\n",
        "plt.plot(tx,outs.reshape(-1),label='network outputs')\n",
        "plt.legend()\n",
        "\n",
        "print( MSE(outs,ty))\n",
        "print( n.test_error(tx,ty))"
      ],
      "execution_count": null,
      "outputs": []
    },
    {
      "cell_type": "code",
      "metadata": {
        "tags": [],
        "id": "0JhL-1jU8k1G"
      },
      "source": [
        "params=[\n",
        "        {\n",
        "         'hidden_units': [[3],[5],[10]],\n",
        "         'learning_rate': [1e-01, 5e-02, 1e-02],\n",
        "         'alpha': [1e-01, 1e-02, 1e-03, 0],\n",
        "         'lambda' : [0],\n",
        "         \"weights_range\": [.7],\n",
        "         \"weights_scale\": [2], # numero cifre decimali pesi\n",
        "         \"Nu\":[1],\n",
        "         \"Ny\":[1],\n",
        "         'activation': ['tanh'],\n",
        "         \"f_out\":['ide'],\n",
        "         \"loss\":['squared_error'],\n",
        "         \"error\":['MSE']\n",
        "        }\n",
        "      ]\n",
        "\n",
        "def xy(set):\n",
        "    return set[:,0].reshape(-1,1), set[:,1].reshape(-1,1)\n",
        "\n",
        "k_fold_CV(data, params, k=3, n_init=1, max_epochs=1000, measure_interval=30, tresh=1,xy=xy)"
      ],
      "execution_count": null,
      "outputs": []
    },
    {
      "cell_type": "markdown",
      "metadata": {
        "id": "boJeS78mBZF6"
      },
      "source": [
        "\n",
        "# Monk test 1"
      ]
    },
    {
      "cell_type": "code",
      "metadata": {
        "id": "VOvPimqR3yoQ"
      },
      "source": [
        "import pandas as pd\n",
        "\n",
        "data = pd.read_csv('monks-1.train',sep=' ',index_col=8)\n",
        "data = data.drop(columns = data.columns[0])\n",
        "data = data.to_numpy()\n",
        "\n",
        "ty = data[:100,0] ; ty = to_categorical(ty).reshape(-1,2,1)\n",
        "tx = data[:100,1:]\n",
        "\n",
        "vy = data[100:,0] ; vy = to_categorical(vy).reshape(-1,2,1)\n",
        "vx = data[100:,1:]"
      ],
      "execution_count": null,
      "outputs": []
    },
    {
      "cell_type": "code",
      "metadata": {
        "id": "9vNnfPzPBZMP"
      },
      "source": [
        "from scipy.special import softmax\n",
        "\n",
        "n = MLP(  Nh=[30,10], Nu=6, Ny=2, f='relu', f_out='softmax', w_scale=5, loss='cross_entropy', error='cross_entropy')\n",
        "outs = n.supply_sequence(tx)\n",
        "print( n.error(outs,ty))"
      ],
      "execution_count": null,
      "outputs": []
    },
    {
      "cell_type": "code",
      "metadata": {
        "id": "zxFdqrCgDuUU"
      },
      "source": [
        "e, v = n.train(tx, ty, 5e-02,\n",
        "  a = 1e-6,\n",
        "  l = 1e-9,\n",
        "  val_x = vx,\n",
        "  val_y = vy,\n",
        "  max_epochs = 1000,\n",
        "  tresh = 1e-03,\n",
        "  measure_interval = 10 )\n",
        "\n",
        "plt.plot(e)\n",
        "plt.plot(v)"
      ],
      "execution_count": null,
      "outputs": []
    },
    {
      "cell_type": "code",
      "metadata": {
        "id": "og_xCSw18k1I"
      },
      "source": [
        "data = read_dataset( filename='./monk_tests/monks-1.train', id_col=8 )\n",
        "\n",
        "params=[\n",
        "        {\n",
        "         'hidden_units': [[10],[25],[50]],\n",
        "         'learning_rate': [1e-01, 1e-02, 1e-03],\n",
        "         'alpha': [1e-01, 1e-02, 1e-03, 0],\n",
        "         'lambda' : [1e-01, 1e-02, 1e-03, 1e-10, 1e-12, 0],\n",
        "         'activation': ['relu', 'tanh'],\n",
        "         \"weights_range\": [0.7],\n",
        "         \"weights_scale\": [2],\n",
        "         \"Nu\":[6],\n",
        "         \"Ny\":[2],\n",
        "         'activation': ['tanh'],\n",
        "         \"f_out\":['ide'],\n",
        "         \"loss\":['squared_error'],\n",
        "         \"error\":['MSE']\n",
        "        }\n",
        "      ]\n",
        "\n",
        "def xy_monk1(set):\n",
        "    x,y = set[:,1:] , set[:,:1]\n",
        "    y = to_categorical(y).reshape(-1,2,1)\n",
        "    return x,y\n",
        "\n",
        "k_fold_CV(data, params, k=2, n_init=2, max_epochs=1000, measure_interval=50, tresh=.1,xy=xy_monk1)"
      ],
      "execution_count": null,
      "outputs": []
    },
    {
      "cell_type": "markdown",
      "metadata": {
        "id": "Vl9i8TmBF6rG"
      },
      "source": [
        "# Monk test 2\n"
      ]
    },
    {
      "cell_type": "code",
      "metadata": {
        "id": "AsjR7UoY5QtR"
      },
      "source": [
        "import pandas as pd\n",
        "data = pd.read_csv('monks-2.train',sep=' ',index_col=8)\n",
        "data = data.drop(columns = data.columns[0])\n",
        "data = data.to_numpy()\n",
        "\n",
        "ty = data[:100,0] ; ty[ty==0] = ty[ty==0]-1\n",
        "tx = data[:100,1:]\n",
        "\n",
        "vy = data[100:,0] ; vy[vy==0] = vy[vy==0]-1\n",
        "vx = data[100:,1:] \n",
        "\n",
        "n = MLP(  Nh=[30,100], Nu=6, Ny=2, f=relu, f_out=softmax, w_scale=.7 ,loss=cross_entropy)\n",
        "outs = n.supply_sequence(tx)\n",
        "print( MSE(outs,ty))\n",
        "\n",
        "e, v = n.train(tx, ty, 5e-02,\n",
        "  a = 1e-6,\n",
        "  l = 1e-12,\n",
        "  val_x = vx,\n",
        "  val_y = vy,\n",
        "  max_epochs = 1000,\n",
        "  tresh = 1e-03,\n",
        "  epoch_f = n.epoch_batch_BP,\n",
        "  measure_interval = 10 )\n",
        "\n",
        "plt.plot(e)\n",
        "plt.plot(v)"
      ],
      "execution_count": null,
      "outputs": []
    },
    {
      "cell_type": "code",
      "metadata": {
        "id": "i9QCwPUTGsKB"
      },
      "source": [],
      "execution_count": null,
      "outputs": []
    }
  ]
}