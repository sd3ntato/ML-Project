{
  "nbformat": 4,
  "nbformat_minor": 0,
  "metadata": {
    "colab": {
      "name": "MLP_Bias.ipynb",
      "provenance": [],
      "collapsed_sections": []
    },
    "kernelspec": {
      "name": "python3",
      "display_name": "Python 3.8.6 64-bit",
      "metadata": {
        "interpreter": {
          "hash": "31f2aee4e71d21fbe5cf8b01ff0e069b9275f58929596ceb00d14d90e3e16cd6"
        }
      }
    }
  },
  "cells": [
    {
      "cell_type": "code",
      "metadata": {
        "id": "RIXyAESxe2A-"
      },
      "source": [
        "import numpy as np\n",
        "import matplotlib.pyplot as plt\n",
        "from numpy import tanh\n",
        "from IPython.display import clear_output\n",
        "from sklearn import preprocessing\n",
        "from sklearn.utils import shuffle"
      ],
      "execution_count": null,
      "outputs": []
    },
    {
      "cell_type": "code",
      "metadata": {
        "id": "j1HKfk44BZyk"
      },
      "source": [
        "from MLP import *\n",
        "from gridSearch import *"
      ],
      "execution_count": null,
      "outputs": []
    },
    {
      "cell_type": "code",
      "metadata": {
        "id": "IYn9SuJkqhIG"
      },
      "source": [
        "f_target = lambda x: x**3\n",
        "\n",
        "tx = np.sort( (2*np.random.rand(500)-1)*3 )\n",
        "ty = np.array( [f_target(x)+(2*np.random.rand()-1) for x in tx ])#.reshape(1,-1)\n",
        "\n",
        "tx= (tx-np.min(tx))/(np.max(tx)-np.min(tx))\n",
        "tx = tx.reshape(-1,1)\n",
        "ty = ty.reshape(-1,1)\n",
        "#ty= (ty-np.min(ty))/(np.max(ty)-np.min(ty))\n",
        "\n",
        "data = np.hstack((tx,ty))\n",
        "data.shape"
      ],
      "execution_count": null,
      "outputs": []
    },
    {
      "cell_type": "code",
      "metadata": {
        "id": "ZMo0dgWUt1Iy",
        "colab": {
          "base_uri": "https://localhost:8080/",
          "height": 283
        },
        "outputId": "c423b89f-0609-4aa9-f548-e04571f0b551",
        "tags": []
      },
      "source": [
        "n = MLP(  Nh=[10], Nu=1, Ny=1, f=tanh, f_out=ide, w_scale=5 )\n",
        "plt.plot(tx,ty)\n",
        "outs = n.supply_sequence(tx).reshape(-1)\n",
        "\n",
        "\n",
        "plt.plot(tx,outs)\n",
        "print( MSE(outs,ty))"
      ],
      "execution_count": null,
      "outputs": []
    },
    {
      "cell_type": "code",
      "metadata": {
        "id": "2xINYkImsxlU",
        "colab": {
          "base_uri": "https://localhost:8080/",
          "height": 300
        },
        "outputId": "5e9908c3-ae84-488e-debf-21784c1bd105"
      },
      "source": [
        "e, _ = n.train(tx, ty, 3e-02,\n",
        "  a = 0,\n",
        "  l = 0,\n",
        "  max_epochs = 1000,\n",
        "  tresh = 1e-01,\n",
        "  epoch_f = n.epoch_batch_BP,\n",
        "  measure_interval = 10 )\n",
        "clear_output()\n",
        "plt.plot(e)"
      ],
      "execution_count": null,
      "outputs": []
    },
    {
      "cell_type": "code",
      "metadata": {
        "id": "SbPwvWr6tTIB",
        "colab": {
          "base_uri": "https://localhost:8080/",
          "height": 283
        },
        "outputId": "5ffb9630-6341-4a55-a9d7-edf59ca03aa9"
      },
      "source": [
        "plt.plot(tx,ty)\n",
        "outs = n.supply_sequence(tx)\n",
        "outs = outs.reshape(ty.shape)\n",
        "plt.plot(tx,outs.reshape(-1))\n",
        "print( MSE(outs,ty))"
      ],
      "execution_count": null,
      "outputs": []
    },
    {
      "cell_type": "code",
      "execution_count": null,
      "metadata": {
        "tags": []
      },
      "outputs": [],
      "source": [
        "params=[\n",
        "        {\n",
        "         'hidden_units': [[10],[25],[50]],\n",
        "         'learning_rate': [1e-01, 5e-02, 1e-02],\n",
        "         'alpha': [1e-01, 1e-02, 1e-03, 0],\n",
        "         'lambda' : [0],\n",
        "         \"weights_range\": [5],\n",
        "         \"weights_scale\": [2], # numero cifre decimali pesi\n",
        "         \"Nu\":[1],\n",
        "         \"Ny\":[1],\n",
        "         'activation': [tanh],\n",
        "         \"f_out\":[ide],\n",
        "         \"loss\":[squared_error],\n",
        "         \"error\":[MSE]\n",
        "        }\n",
        "      ]\n",
        "\n",
        "def xy(set):\n",
        "    return set[:,0].reshape(-1,1), set[:,1].reshape(-1,1)\n",
        "\n",
        "k_fold_CV(data, params, k=3, n_init=1, max_epochs=1000, measure_interval=30, tresh=1,xy=xy)"
      ]
    },
    {
      "cell_type": "markdown",
      "metadata": {
        "id": "boJeS78mBZF6"
      },
      "source": [
        "\n",
        "# Monk test 1"
      ]
    },
    {
      "cell_type": "code",
      "metadata": {
        "id": "VOvPimqR3yoQ"
      },
      "source": [
        "import pandas as pd\n",
        "\n",
        "data = pd.read_csv('monks-1.train',sep=' ',index_col=8)\n",
        "data = data.drop(columns = data.columns[0])\n",
        "data = data.to_numpy()\n",
        "\n",
        "ty = data[:100,0] ; ty = to_categorical(ty).reshape(-1,2,1)\n",
        "tx = data[:100,1:]\n",
        "\n",
        "vy = data[100:,0] ; vy = to_categorical(vy).reshape(-1,2,1)\n",
        "vx = data[100:,1:]"
      ],
      "execution_count": null,
      "outputs": []
    },
    {
      "cell_type": "code",
      "metadata": {
        "id": "9vNnfPzPBZMP",
        "colab": {
          "base_uri": "https://localhost:8080/"
        },
        "outputId": "7363f46c-4b7a-4d4e-d0d5-bf68f9f079fb"
      },
      "source": [
        "from scipy.special import softmax\n",
        "\n",
        "n = MLP(  Nh=[100], Nu=6, Ny=2, f=relu, f_out=softmax, w_scale=.7 ,loss=cross_entropy, error=cross_entropy)\n",
        "outs = n.supply_sequence(tx)\n",
        "print( n.error(outs,ty))"
      ],
      "execution_count": null,
      "outputs": []
    },
    {
      "cell_type": "code",
      "metadata": {
        "id": "zxFdqrCgDuUU",
        "colab": {
          "base_uri": "https://localhost:8080/",
          "height": 283
        },
        "outputId": "f7cc4027-c8dd-41e8-9da2-1954a22975a9"
      },
      "source": [
        "e, v = n.train(tx, ty, 5e-02,\n",
        "  a = 1e-6,\n",
        "  l = 1e-9,\n",
        "  val_x = vx,\n",
        "  val_y = vy,\n",
        "  max_epochs = 1000,\n",
        "  tresh = 1e-03,\n",
        "  epoch_f = n.epoch_batch_BP,\n",
        "  measure_interval = 10 )\n",
        "\n",
        "plt.plot(e)\n",
        "plt.plot(v)"
      ],
      "execution_count": null,
      "outputs": []
    },
    {
      "cell_type": "code",
      "execution_count": null,
      "metadata": {},
      "outputs": [],
      "source": []
    },
    {
      "cell_type": "markdown",
      "metadata": {
        "id": "Vl9i8TmBF6rG"
      },
      "source": [
        "# Monk test 2\n"
      ]
    },
    {
      "cell_type": "code",
      "metadata": {
        "id": "AsjR7UoY5QtR",
        "colab": {
          "base_uri": "https://localhost:8080/",
          "height": 283
        },
        "outputId": "bbfc1fb1-6022-4ac0-ce6f-707b08a7d8d8"
      },
      "source": [
        "import pandas as pd\n",
        "data = pd.read_csv('monks-2.train',sep=' ',index_col=8)\n",
        "data = data.drop(columns = data.columns[0])\n",
        "data = data.to_numpy()\n",
        "\n",
        "ty = data[:100,0] ; ty[ty==0] = ty[ty==0]-1\n",
        "tx = data[:100,1:]\n",
        "\n",
        "vy = data[100:,0] ; vy[vy==0] = vy[vy==0]-1\n",
        "vx = data[100:,1:] \n",
        "\n",
        "n = MLP(  Nh=[30,100], Nu=6, Ny=2, f=relu, f_out=softmax, w_scale=.7 ,loss=cross_entropy)\n",
        "outs = n.supply_sequence(tx)\n",
        "print( MSE(outs,ty))\n",
        "\n",
        "e, v = n.train(tx, ty, 5e-02,\n",
        "  a = 1e-6,\n",
        "  l = 1e-12,\n",
        "  val_x = vx,\n",
        "  val_y = vy,\n",
        "  max_epochs = 1000,\n",
        "  tresh = 1e-03,\n",
        "  epoch_f = n.epoch_batch_BP,\n",
        "  measure_interval = 10 )\n",
        "\n",
        "plt.plot(e)\n",
        "plt.plot(v)"
      ],
      "execution_count": null,
      "outputs": []
    },
    {
      "cell_type": "code",
      "metadata": {
        "id": "i9QCwPUTGsKB"
      },
      "source": [],
      "execution_count": null,
      "outputs": []
    }
  ]
}